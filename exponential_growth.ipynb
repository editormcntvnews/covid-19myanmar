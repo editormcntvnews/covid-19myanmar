{
  "nbformat": 4,
  "nbformat_minor": 0,
  "metadata": {
    "colab": {
      "name": "exponential_growth_mm_covid19.ipynb",
      "provenance": [],
      "authorship_tag": "ABX9TyPF6avIK4dfgm/Oa4UwfWrm",
      "include_colab_link": true
    },
    "kernelspec": {
      "name": "python3",
      "display_name": "Python 3"
    }
  },
  "cells": [
    {
      "cell_type": "markdown",
      "metadata": {
        "id": "view-in-github",
        "colab_type": "text"
      },
      "source": [
        "<a href=\"https://colab.research.google.com/github/finerbrighterlighter/myanmar_covid19/blob/master/exponential_growth.ipynb\" target=\"_parent\"><img src=\"https://colab.research.google.com/assets/colab-badge.svg\" alt=\"Open In Colab\"/></a>"
      ]
    },
    {
      "cell_type": "markdown",
      "metadata": {
        "id": "uPFp-CtDv3Vu",
        "colab_type": "text"
      },
      "source": [
        "#Libraries"
      ]
    },
    {
      "cell_type": "code",
      "metadata": {
        "id": "CFfhKjxfv2Ik",
        "colab_type": "code",
        "colab": {}
      },
      "source": [
        "import statsmodels.api as sm\n",
        "import pandas as pd\n",
        "import numpy as np\n",
        "import matplotlib.pyplot as plt\n",
        "from google.colab import files\n",
        "import warnings\n",
        "warnings.simplefilter(action='ignore', category=FutureWarning)"
      ],
      "execution_count": 0,
      "outputs": []
    },
    {
      "cell_type": "markdown",
      "metadata": {
        "id": "fntllV2nwF4X",
        "colab_type": "text"
      },
      "source": [
        "#Data"
      ]
    },
    {
      "cell_type": "markdown",
      "metadata": {
        "id": "9e37oPlWwIAs",
        "colab_type": "text"
      },
      "source": [
        "Since the Government fails to provide a complete and open dataset for disease status in the country, several young doctors in Myanmar volunteered on their own to monitor announcements. Current data applied is collected by Dr. Nyein Chan Ko Ko."
      ]
    },
    {
      "cell_type": "code",
      "metadata": {
        "id": "r6OOsz9trkb4",
        "colab_type": "code",
        "colab": {}
      },
      "source": [
        "data = \"https://raw.githubusercontent.com/finerbrighterlighter/myanmar_covid19/master/announced_cases.csv\"\n",
        "columns = [\"Date\",\"Announced\"]"
      ],
      "execution_count": 0,
      "outputs": []
    },
    {
      "cell_type": "code",
      "metadata": {
        "id": "YLz7ziYSwk0p",
        "colab_type": "code",
        "outputId": "c69526cb-db77-4b72-af93-1784f28d52c2",
        "colab": {
          "base_uri": "https://localhost:8080/",
          "height": 204
        }
      },
      "source": [
        "confirmed_df = pd.read_csv(data,names = columns) \n",
        "confirmed_df[\"Date\"] = pd.to_datetime(confirmed_df[\"Date\"])\n",
        "confirmed_df[\"Case\"] = confirmed_df[\"Announced\"].cumsum()\n",
        "confirmed_df[\"ndays\"] = np.arange(len(confirmed_df))\n",
        "\n",
        "# Natural Log of Real Cases\n",
        "confirmed_df[\"logCase\"] = np.log(confirmed_df.Case).astype(float)\n",
        "\n",
        "print(confirmed_df)"
      ],
      "execution_count": 33,
      "outputs": [
        {
          "output_type": "stream",
          "text": [
            "        Date  Announced  Case  ndays   logCase\n",
            "0 2021-03-21          1     1      0  0.000000\n",
            "1 2021-03-22          0     1      1  0.000000\n",
            "2 2021-03-23          2     3      2  1.098612\n",
            "3 2021-03-24          0     3      3  1.098612\n",
            "4 2021-03-25          2     5      4  1.609438\n",
            "5 2021-03-26          3     8      5  2.079442\n",
            "6 2021-03-27          0     8      6  2.079442\n",
            "7 2021-03-28          0     8      7  2.079442\n",
            "8 2021-03-29          2    10      8  2.302585\n",
            "9 2021-03-30          4    14      9  2.639057\n"
          ],
          "name": "stdout"
        }
      ]
    },
    {
      "cell_type": "markdown",
      "metadata": {
        "id": "xFdC0ZN9wg4a",
        "colab_type": "text"
      },
      "source": [
        "Natural log makes it better in terms of visualization and long term comparison, make the data look more linear. That is why I will be plotting both real and natural log line graphs."
      ]
    },
    {
      "cell_type": "markdown",
      "metadata": {
        "id": "HGaFBbLTw_S5",
        "colab_type": "text"
      },
      "source": [
        "# Model of choice"
      ]
    },
    {
      "cell_type": "markdown",
      "metadata": {
        "id": "GFx-62fSxFtE",
        "colab_type": "text"
      },
      "source": [
        "True exponential does not exist, but exponential growth is assumed until the inflection point has arrived. Linear Regression is applied."
      ]
    },
    {
      "cell_type": "markdown",
      "metadata": {
        "id": "SAigzuEhxGAl",
        "colab_type": "text"
      },
      "source": [
        "## Logistic Regression\n",
        "### Ordinary Least Squared Regression"
      ]
    },
    {
      "cell_type": "code",
      "metadata": {
        "id": "AuTgGKD8yFr2",
        "colab_type": "code",
        "outputId": "fbc7586c-29d5-44a1-9b94-e1aab23c88e7",
        "colab": {
          "base_uri": "https://localhost:8080/",
          "height": 478
        }
      },
      "source": [
        "X = confirmed_df.ndays\n",
        "X = sm.add_constant(X)\n",
        "y = confirmed_df.logCase\n",
        "model = sm.OLS(y, X)\n",
        "result = model.fit()\n",
        "result.summary()"
      ],
      "execution_count": 34,
      "outputs": [
        {
          "output_type": "stream",
          "text": [
            "/usr/local/lib/python3.6/dist-packages/scipy/stats/stats.py:1535: UserWarning: kurtosistest only valid for n>=20 ... continuing anyway, n=10\n",
            "  \"anyway, n=%i\" % int(n))\n"
          ],
          "name": "stderr"
        },
        {
          "output_type": "execute_result",
          "data": {
            "text/html": [
              "<table class=\"simpletable\">\n",
              "<caption>OLS Regression Results</caption>\n",
              "<tr>\n",
              "  <th>Dep. Variable:</th>         <td>logCase</td>     <th>  R-squared:         </th> <td>   0.904</td>\n",
              "</tr>\n",
              "<tr>\n",
              "  <th>Model:</th>                   <td>OLS</td>       <th>  Adj. R-squared:    </th> <td>   0.892</td>\n",
              "</tr>\n",
              "<tr>\n",
              "  <th>Method:</th>             <td>Least Squares</td>  <th>  F-statistic:       </th> <td>   75.36</td>\n",
              "</tr>\n",
              "<tr>\n",
              "  <th>Date:</th>             <td>Mon, 30 Mar 2020</td> <th>  Prob (F-statistic):</th> <td>2.41e-05</td>\n",
              "</tr>\n",
              "<tr>\n",
              "  <th>Time:</th>                 <td>13:57:17</td>     <th>  Log-Likelihood:    </th> <td> -1.2175</td>\n",
              "</tr>\n",
              "<tr>\n",
              "  <th>No. Observations:</th>      <td>    10</td>      <th>  AIC:               </th> <td>   6.435</td>\n",
              "</tr>\n",
              "<tr>\n",
              "  <th>Df Residuals:</th>          <td>     8</td>      <th>  BIC:               </th> <td>   7.040</td>\n",
              "</tr>\n",
              "<tr>\n",
              "  <th>Df Model:</th>              <td>     1</td>      <th>                     </th>     <td> </td>   \n",
              "</tr>\n",
              "<tr>\n",
              "  <th>Covariance Type:</th>      <td>nonrobust</td>    <th>                     </th>     <td> </td>   \n",
              "</tr>\n",
              "</table>\n",
              "<table class=\"simpletable\">\n",
              "<tr>\n",
              "    <td></td>       <th>coef</th>     <th>std err</th>      <th>t</th>      <th>P>|t|</th>  <th>[0.025</th>    <th>0.975]</th>  \n",
              "</tr>\n",
              "<tr>\n",
              "  <th>const</th> <td>    0.1845</td> <td>    0.180</td> <td>    1.027</td> <td> 0.334</td> <td>   -0.230</td> <td>    0.599</td>\n",
              "</tr>\n",
              "<tr>\n",
              "  <th>ndays</th> <td>    0.2920</td> <td>    0.034</td> <td>    8.681</td> <td> 0.000</td> <td>    0.214</td> <td>    0.370</td>\n",
              "</tr>\n",
              "</table>\n",
              "<table class=\"simpletable\">\n",
              "<tr>\n",
              "  <th>Omnibus:</th>       <td> 0.401</td> <th>  Durbin-Watson:     </th> <td>   1.443</td>\n",
              "</tr>\n",
              "<tr>\n",
              "  <th>Prob(Omnibus):</th> <td> 0.818</td> <th>  Jarque-Bera (JB):  </th> <td>   0.461</td>\n",
              "</tr>\n",
              "<tr>\n",
              "  <th>Skew:</th>          <td> 0.022</td> <th>  Prob(JB):          </th> <td>   0.794</td>\n",
              "</tr>\n",
              "<tr>\n",
              "  <th>Kurtosis:</th>      <td> 1.949</td> <th>  Cond. No.          </th> <td>    10.2</td>\n",
              "</tr>\n",
              "</table><br/><br/>Warnings:<br/>[1] Standard Errors assume that the covariance matrix of the errors is correctly specified."
            ],
            "text/plain": [
              "<class 'statsmodels.iolib.summary.Summary'>\n",
              "\"\"\"\n",
              "                            OLS Regression Results                            \n",
              "==============================================================================\n",
              "Dep. Variable:                logCase   R-squared:                       0.904\n",
              "Model:                            OLS   Adj. R-squared:                  0.892\n",
              "Method:                 Least Squares   F-statistic:                     75.36\n",
              "Date:                Mon, 30 Mar 2020   Prob (F-statistic):           2.41e-05\n",
              "Time:                        13:57:17   Log-Likelihood:                -1.2175\n",
              "No. Observations:                  10   AIC:                             6.435\n",
              "Df Residuals:                       8   BIC:                             7.040\n",
              "Df Model:                           1                                         \n",
              "Covariance Type:            nonrobust                                         \n",
              "==============================================================================\n",
              "                 coef    std err          t      P>|t|      [0.025      0.975]\n",
              "------------------------------------------------------------------------------\n",
              "const          0.1845      0.180      1.027      0.334      -0.230       0.599\n",
              "ndays          0.2920      0.034      8.681      0.000       0.214       0.370\n",
              "==============================================================================\n",
              "Omnibus:                        0.401   Durbin-Watson:                   1.443\n",
              "Prob(Omnibus):                  0.818   Jarque-Bera (JB):                0.461\n",
              "Skew:                           0.022   Prob(JB):                        0.794\n",
              "Kurtosis:                       1.949   Cond. No.                         10.2\n",
              "==============================================================================\n",
              "\n",
              "Warnings:\n",
              "[1] Standard Errors assume that the covariance matrix of the errors is correctly specified.\n",
              "\"\"\""
            ]
          },
          "metadata": {
            "tags": []
          },
          "execution_count": 34
        }
      ]
    },
    {
      "cell_type": "markdown",
      "metadata": {
        "id": "n12sI9dEya7A",
        "colab_type": "text"
      },
      "source": [
        "Exponential Formaula<br> y = ab<sup>x</sup> <br>\n",
        "a = Initial Value<br>\n",
        "b = Rate of Change<br>\n",
        "x = The feature ( Here it is time )<br>\n",
        "\n",
        "b = (1+r) = Growth Rate <- Before Inflection <br>\n",
        "b = (1-r) = Decay Rate <- After Inflection <br>\n",
        "\n",
        "In the summary, \"constant stands\" for initial \"a\".<br>\n",
        "\"ndays\" is the coefficient of \"time\", which means the value increasing y as x is increased by 1. In our case, the number of cases to increase as the next day comes."
      ]
    },
    {
      "cell_type": "code",
      "metadata": {
        "id": "Rk_huG2pzvjT",
        "colab_type": "code",
        "colab": {}
      },
      "source": [
        "def linear_predictions(t):\n",
        "    return np.exp(result.params[\"const\"]) * np.exp(result.params[\"ndays\"]) ** t"
      ],
      "execution_count": 0,
      "outputs": []
    },
    {
      "cell_type": "markdown",
      "metadata": {
        "id": "KqJKNU38zyrK",
        "colab_type": "text"
      },
      "source": [
        "As we fitted our model with natural log values, we should change them back to real numbers to predict."
      ]
    },
    {
      "cell_type": "markdown",
      "metadata": {
        "id": "jClR8K740EVc",
        "colab_type": "text"
      },
      "source": [
        "# Next Week Prediction"
      ]
    },
    {
      "cell_type": "code",
      "metadata": {
        "id": "rrqFbmyI0Cw-",
        "colab_type": "code",
        "outputId": "5343af1f-90b8-45e7-f3d9-cb08ba8251f0",
        "colab": {
          "base_uri": "https://localhost:8080/",
          "height": 255
        }
      },
      "source": [
        "ndays = len(confirmed_df)+3\n",
        "nextweek_df = pd.DataFrame(columns=[\"ndays\",\"Date\"])\n",
        "nextweek_df[\"ndays\"] = np.arange(ndays)\n",
        "nextweek_df.loc[0,\"Date\"]=confirmed_df.loc[0,\"Date\"]\n",
        "for i in range(1,len(nextweek_df)):\n",
        "    nextweek_df.loc[i,\"Date\"] = nextweek_df.loc[i-1,\"Date\"] + pd.Timedelta(days=1)\n",
        "    i=i+1\n",
        "nextweek_df[\"Predictions\"] = nextweek_df.ndays.apply(linear_predictions)\n",
        "\n",
        "# Natural Log of Predicted Cases\n",
        "nextweek_df[\"logPredictions\"] = np.log(nextweek_df.Predictions).astype(float)\n",
        "\n",
        "print(nextweek_df)"
      ],
      "execution_count": 36,
      "outputs": [
        {
          "output_type": "stream",
          "text": [
            "    ndays                 Date  Predictions  logPredictions\n",
            "0       0  2021-03-21 00:00:00     1.202608        0.184493\n",
            "1       1  2021-03-22 00:00:00     1.610477        0.476530\n",
            "2       2  2021-03-23 00:00:00     2.156676        0.768568\n",
            "3       3  2021-03-24 00:00:00     2.888121        1.060606\n",
            "4       4  2021-03-25 00:00:00     3.867638        1.352644\n",
            "5       5  2021-03-26 00:00:00     5.179362        1.644682\n",
            "6       6  2021-03-27 00:00:00     6.935962        1.936720\n",
            "7       7  2021-03-28 00:00:00     9.288319        2.228758\n",
            "8       8  2021-03-29 00:00:00    12.438488        2.520796\n",
            "9       9  2021-03-30 00:00:00    16.657047        2.812833\n",
            "10     10  2021-03-31 00:00:00    22.306347        3.104871\n",
            "11     11  2021-04-01 00:00:00    29.871628        3.396909\n",
            "12     12  2021-04-02 00:00:00    40.002702        3.688947\n"
          ],
          "name": "stdout"
        }
      ]
    },
    {
      "cell_type": "markdown",
      "metadata": {
        "id": "POlLAmet0NBp",
        "colab_type": "text"
      },
      "source": [
        "Although I stated next week, here I added only \"3\". Since our data and history is very short right now, it is not sufficient to predict far without sacraficing. This currently here is a proof of concept. We shall increase the data and after that, we should pursure further analysis."
      ]
    },
    {
      "cell_type": "markdown",
      "metadata": {
        "id": "cvvX1sd70pep",
        "colab_type": "text"
      },
      "source": [
        "# Real Number Plot"
      ]
    },
    {
      "cell_type": "code",
      "metadata": {
        "id": "1HdSZXF3lQvM",
        "colab_type": "code",
        "colab": {}
      },
      "source": [
        "a = str(confirmed_df[\"Date\"][confirmed_df.index[-1]])+\"_real.svg\"\n",
        "b = str(confirmed_df[\"Date\"][confirmed_df.index[-1]])+\"_log.svg\""
      ],
      "execution_count": 0,
      "outputs": []
    },
    {
      "cell_type": "code",
      "metadata": {
        "id": "672JOT-V0rcy",
        "colab_type": "code",
        "outputId": "8915cdd8-bbd4-4ff7-a819-ce36c7bbdfd7",
        "colab": {
          "base_uri": "https://localhost:8080/",
          "height": 356
        }
      },
      "source": [
        "confirmed_x = pd.date_range(start=confirmed_df[\"Date\"][confirmed_df.index[0]], end=confirmed_df[\"Date\"][confirmed_df.index[-1]])\n",
        "confirmed_y = confirmed_df[\"Case\"].tolist()\n",
        "confirmed_plot = pd.Series(data=confirmed_y, index=confirmed_x)\n",
        "\n",
        "nextweek_x = pd.date_range(start=nextweek_df[\"Date\"][nextweek_df.index[0]], end=nextweek_df[\"Date\"][nextweek_df.index[-1]])\n",
        "nextweek_y = nextweek_df[\"Predictions\"].tolist()\n",
        "nextweek_plot = pd.Series(data=nextweek_y, index=nextweek_x)\n",
        "\n",
        "fig, ax = plt.subplots()\n",
        "ax.plot(confirmed_plot, label=\"Confirmed\", color=\"red\")\n",
        "ax.plot(nextweek_plot, label=\"Predicted\", color =\"blue\")\n",
        "legend = ax.legend(loc=\"upper left\", fontsize=\"large\")\n",
        "plt.xlabel(\"Date\")\n",
        "plt.ylabel(\"Infections\")\n",
        "plt.suptitle(\"Predicted number of cases vs comfirmed number of cases\")\n",
        "plt.title(\"As of \"+str(confirmed_df[\"Date\"][confirmed_df.index[-1]]))\n",
        "plt.xticks(rotation=90)\n",
        "plt.savefig(a)\n",
        "plt.show()\n",
        "files.download(a)"
      ],
      "execution_count": 38,
      "outputs": [
        {
          "output_type": "display_data",
          "data": {
            "image/png": "[encoded data removed]",
            "text/plain": [
              "<Figure size 432x288 with 1 Axes>"
            ]
          },
          "metadata": {
            "tags": []
          }
        }
      ]
    },
    {
      "cell_type": "markdown",
      "metadata": {
        "id": "6GqiZScX0tbM",
        "colab_type": "text"
      },
      "source": [
        "# Natural Log Plot"
      ]
    },
    {
      "cell_type": "code",
      "metadata": {
        "id": "sfR6seGg0u3I",
        "colab_type": "code",
        "outputId": "d63b5f69-0f7c-4718-d0b6-1ac687dd3cae",
        "colab": {
          "base_uri": "https://localhost:8080/",
          "height": 356
        }
      },
      "source": [
        "confirmed_logy = confirmed_df[\"logCase\"].tolist()\n",
        "confirmed_logplot = pd.Series(data=confirmed_logy, index=confirmed_x)\n",
        "\n",
        "nextweek_logy = nextweek_df[\"logPredictions\"].tolist()\n",
        "nextweek_logplot = pd.Series(data=nextweek_logy, index=nextweek_x)\n",
        "\n",
        "fig, ax = plt.subplots()\n",
        "ax.plot(confirmed_logplot, label=\"Confirmed\", color=\"red\")\n",
        "ax.plot(nextweek_logplot, label=\"Predicted\", color =\"blue\")\n",
        "legend = ax.legend(loc=\"upper left\", fontsize=\"large\")\n",
        "plt.xlabel(\"Date\")\n",
        "plt.ylabel(\"Infections\")\n",
        "plt.suptitle(\"Predicted number of cases vs confirmed number of cases (Natural Log)\")\n",
        "plt.title(\"As of \"+str(confirmed_df[\"Date\"][confirmed_df.index[-1]]))\n",
        "plt.xticks(rotation=90)\n",
        "plt.savefig(b)\n",
        "plt.show()\n",
        "files.download(b)"
      ],
      "execution_count": 39,
      "outputs": [
        {
          "output_type": "display_data",
          "data": {
            "image/png": "[encoded data removed]",
            "text/plain": [
              "<Figure size 432x288 with 1 Axes>"
            ]
          },
          "metadata": {
            "tags": []
          }
        }
      ]
    }
  ]
}