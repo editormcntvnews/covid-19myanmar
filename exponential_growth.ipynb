{
  "nbformat": 4,
  "nbformat_minor": 0,
  "metadata": {
    "colab": {
      "name": "exponential_growth.ipynb",
      "provenance": [],
      "collapsed_sections": [],
      "authorship_tag": "ABX9TyMWARsQbTaWVZf5tRruQ8mV",
      "include_colab_link": true
    },
    "kernelspec": {
      "name": "python3",
      "display_name": "Python 3"
    }
  },
  "cells": [
    {
      "cell_type": "markdown",
      "metadata": {
        "id": "view-in-github",
        "colab_type": "text"
      },
      "source": [
        "<a href=\"https://colab.research.google.com/github/finerbrighterlighter/myanmar_covid19/blob/master/exponential_growth.ipynb\" target=\"_parent\"><img src=\"https://colab.research.google.com/assets/colab-badge.svg\" alt=\"Open In Colab\"/></a>"
      ]
    },
    {
      "cell_type": "markdown",
      "metadata": {
        "id": "uPFp-CtDv3Vu",
        "colab_type": "text"
      },
      "source": [
        "#Libraries"
      ]
    },
    {
      "cell_type": "code",
      "metadata": {
        "id": "CFfhKjxfv2Ik",
        "colab_type": "code",
        "colab": {}
      },
      "source": [
        "import statsmodels.api as sm\n",
        "import pandas as pd\n",
        "import numpy as np\n",
        "import matplotlib.pyplot as plt\n",
        "import matplotlib.ticker as mticker\n",
        "from google.colab import files\n",
        "import warnings\n",
        "warnings.simplefilter(action='ignore', category=FutureWarning)"
      ],
      "execution_count": 0,
      "outputs": []
    },
    {
      "cell_type": "markdown",
      "metadata": {
        "id": "fntllV2nwF4X",
        "colab_type": "text"
      },
      "source": [
        "#Data"
      ]
    },
    {
      "cell_type": "markdown",
      "metadata": {
        "id": "9e37oPlWwIAs",
        "colab_type": "text"
      },
      "source": [
        "Since the Government fails to provide a complete and open dataset for disease status in the country, several young doctors in Myanmar volunteered on their own to monitor announcements. Current data applied is collected by Dr. Nyein Chan Ko Ko."
      ]
    },
    {
      "cell_type": "code",
      "metadata": {
        "id": "r6OOsz9trkb4",
        "colab_type": "code",
        "outputId": "3fca442a-2c8e-48fc-a052-e321db32ac84",
        "colab": {
          "base_uri": "https://localhost:8080/",
          "height": 669
        }
      },
      "source": [
        "data = \"https://raw.githubusercontent.com/finerbrighterlighter/myanmar_covid19/master/mohs_announcement.csv\"\n",
        "df = pd.read_csv(data,header= 0)\n",
        "df.insert(loc=0, column=\"case_id\", value=np.arange(1,len(df)+1))\n",
        "df[\"case_id\"] = \"case_\" + df[\"case_id\"].astype(str)\n",
        "df"
      ],
      "execution_count": 44,
      "outputs": [
        {
          "output_type": "execute_result",
          "data": {
            "text/html": [
              "<div>\n",
              "<style scoped>\n",
              "    .dataframe tbody tr th:only-of-type {\n",
              "        vertical-align: middle;\n",
              "    }\n",
              "\n",
              "    .dataframe tbody tr th {\n",
              "        vertical-align: top;\n",
              "    }\n",
              "\n",
              "    .dataframe thead th {\n",
              "        text-align: right;\n",
              "    }\n",
              "</style>\n",
              "<table border=\"1\" class=\"dataframe\">\n",
              "  <thead>\n",
              "    <tr style=\"text-align: right;\">\n",
              "      <th></th>\n",
              "      <th>case_id</th>\n",
              "      <th>age</th>\n",
              "      <th>sex</th>\n",
              "      <th>travel</th>\n",
              "      <th>region</th>\n",
              "      <th>first_date</th>\n",
              "      <th>qua_date</th>\n",
              "      <th>ann_date</th>\n",
              "    </tr>\n",
              "  </thead>\n",
              "  <tbody>\n",
              "    <tr>\n",
              "      <th>0</th>\n",
              "      <td>case_1</td>\n",
              "      <td>36</td>\n",
              "      <td>Male</td>\n",
              "      <td>United States of America</td>\n",
              "      <td>Chin</td>\n",
              "      <td>2020-03-13</td>\n",
              "      <td>2020-03-21</td>\n",
              "      <td>2020-03-23</td>\n",
              "    </tr>\n",
              "    <tr>\n",
              "      <th>1</th>\n",
              "      <td>case_2</td>\n",
              "      <td>26</td>\n",
              "      <td>Male</td>\n",
              "      <td>United Kingdom</td>\n",
              "      <td>Yangon</td>\n",
              "      <td>2020-03-22</td>\n",
              "      <td>2020-03-23</td>\n",
              "      <td>2020-03-23</td>\n",
              "    </tr>\n",
              "    <tr>\n",
              "      <th>2</th>\n",
              "      <td>case_3</td>\n",
              "      <td>26</td>\n",
              "      <td>Male</td>\n",
              "      <td>United Kingdom</td>\n",
              "      <td>Yangon</td>\n",
              "      <td>2020-03-21</td>\n",
              "      <td>2020-03-23</td>\n",
              "      <td>2020-03-25</td>\n",
              "    </tr>\n",
              "    <tr>\n",
              "      <th>3</th>\n",
              "      <td>case_4</td>\n",
              "      <td>33</td>\n",
              "      <td>Male</td>\n",
              "      <td>United States of America</td>\n",
              "      <td>Yangon</td>\n",
              "      <td>2020-03-19</td>\n",
              "      <td>2020-03-25</td>\n",
              "      <td>2020-03-27</td>\n",
              "    </tr>\n",
              "    <tr>\n",
              "      <th>4</th>\n",
              "      <td>case_5</td>\n",
              "      <td>69</td>\n",
              "      <td>Male</td>\n",
              "      <td>Australia</td>\n",
              "      <td>Yangon</td>\n",
              "      <td>2020-03-14</td>\n",
              "      <td>2020-03-25</td>\n",
              "      <td>2020-03-27</td>\n",
              "    </tr>\n",
              "    <tr>\n",
              "      <th>5</th>\n",
              "      <td>case_6</td>\n",
              "      <td>29</td>\n",
              "      <td>Male</td>\n",
              "      <td>United Kingdom</td>\n",
              "      <td>Yangon</td>\n",
              "      <td>2020-03-21</td>\n",
              "      <td>2020-03-26</td>\n",
              "      <td>2020-03-28</td>\n",
              "    </tr>\n",
              "    <tr>\n",
              "      <th>6</th>\n",
              "      <td>case_7</td>\n",
              "      <td>58</td>\n",
              "      <td>Female</td>\n",
              "      <td>Switzerland</td>\n",
              "      <td>Nay Pyi Taw</td>\n",
              "      <td>2020-03-18</td>\n",
              "      <td>2020-03-26</td>\n",
              "      <td>2020-03-28</td>\n",
              "    </tr>\n",
              "    <tr>\n",
              "      <th>7</th>\n",
              "      <td>case_8</td>\n",
              "      <td>60</td>\n",
              "      <td>Female</td>\n",
              "      <td>NaN</td>\n",
              "      <td>Yangon</td>\n",
              "      <td>2020-03-25</td>\n",
              "      <td>2020-03-26</td>\n",
              "      <td>2020-03-28</td>\n",
              "    </tr>\n",
              "    <tr>\n",
              "      <th>8</th>\n",
              "      <td>case_9</td>\n",
              "      <td>44</td>\n",
              "      <td>Male</td>\n",
              "      <td>Thailand</td>\n",
              "      <td>Yangon</td>\n",
              "      <td>2020-03-23</td>\n",
              "      <td>2020-03-26</td>\n",
              "      <td>2020-03-29</td>\n",
              "    </tr>\n",
              "    <tr>\n",
              "      <th>9</th>\n",
              "      <td>case_10</td>\n",
              "      <td>45</td>\n",
              "      <td>Male</td>\n",
              "      <td>NaN</td>\n",
              "      <td>Yangon</td>\n",
              "      <td>2020-03-28</td>\n",
              "      <td>2020-03-28</td>\n",
              "      <td>2020-03-29</td>\n",
              "    </tr>\n",
              "    <tr>\n",
              "      <th>10</th>\n",
              "      <td>case_11</td>\n",
              "      <td>66</td>\n",
              "      <td>Female</td>\n",
              "      <td>France</td>\n",
              "      <td>Yangon</td>\n",
              "      <td>2020-03-28</td>\n",
              "      <td>2020-03-28</td>\n",
              "      <td>2020-03-30</td>\n",
              "    </tr>\n",
              "    <tr>\n",
              "      <th>11</th>\n",
              "      <td>case_12</td>\n",
              "      <td>65</td>\n",
              "      <td>Male</td>\n",
              "      <td>France</td>\n",
              "      <td>Yangon</td>\n",
              "      <td>2020-03-28</td>\n",
              "      <td>2020-03-28</td>\n",
              "      <td>2020-03-30</td>\n",
              "    </tr>\n",
              "    <tr>\n",
              "      <th>12</th>\n",
              "      <td>case_13</td>\n",
              "      <td>61</td>\n",
              "      <td>Female</td>\n",
              "      <td>France</td>\n",
              "      <td>Yangon</td>\n",
              "      <td>2020-03-28</td>\n",
              "      <td>2020-03-28</td>\n",
              "      <td>2020-03-30</td>\n",
              "    </tr>\n",
              "    <tr>\n",
              "      <th>13</th>\n",
              "      <td>case_14</td>\n",
              "      <td>24</td>\n",
              "      <td>Male</td>\n",
              "      <td>Thailand</td>\n",
              "      <td>Shan</td>\n",
              "      <td>2020-03-25</td>\n",
              "      <td>2020-03-28</td>\n",
              "      <td>2020-03-30</td>\n",
              "    </tr>\n",
              "    <tr>\n",
              "      <th>14</th>\n",
              "      <td>case_15</td>\n",
              "      <td>45</td>\n",
              "      <td>Female</td>\n",
              "      <td>NaN</td>\n",
              "      <td>Yangon</td>\n",
              "      <td>2020-03-27</td>\n",
              "      <td>2020-03-30</td>\n",
              "      <td>2020-03-30</td>\n",
              "    </tr>\n",
              "    <tr>\n",
              "      <th>15</th>\n",
              "      <td>case_16</td>\n",
              "      <td>63</td>\n",
              "      <td>Female</td>\n",
              "      <td>NaN</td>\n",
              "      <td>Yangon</td>\n",
              "      <td>2020-03-15</td>\n",
              "      <td>2020-03-31</td>\n",
              "      <td>2020-04-01</td>\n",
              "    </tr>\n",
              "    <tr>\n",
              "      <th>16</th>\n",
              "      <td>case_17</td>\n",
              "      <td>47</td>\n",
              "      <td>Male</td>\n",
              "      <td>NaN</td>\n",
              "      <td>Bago</td>\n",
              "      <td>2020-03-30</td>\n",
              "      <td>2020-03-31</td>\n",
              "      <td>2020-04-02</td>\n",
              "    </tr>\n",
              "    <tr>\n",
              "      <th>17</th>\n",
              "      <td>case_18</td>\n",
              "      <td>10</td>\n",
              "      <td>Male</td>\n",
              "      <td>NaN</td>\n",
              "      <td>Bago</td>\n",
              "      <td>2020-03-30</td>\n",
              "      <td>2020-03-31</td>\n",
              "      <td>2020-04-02</td>\n",
              "    </tr>\n",
              "    <tr>\n",
              "      <th>18</th>\n",
              "      <td>case_19</td>\n",
              "      <td>8</td>\n",
              "      <td>Female</td>\n",
              "      <td>NaN</td>\n",
              "      <td>Bago</td>\n",
              "      <td>2020-03-30</td>\n",
              "      <td>2020-03-31</td>\n",
              "      <td>2020-04-02</td>\n",
              "    </tr>\n",
              "    <tr>\n",
              "      <th>19</th>\n",
              "      <td>case_20</td>\n",
              "      <td>18</td>\n",
              "      <td>Female</td>\n",
              "      <td>NaN</td>\n",
              "      <td>Bago</td>\n",
              "      <td>2020-03-30</td>\n",
              "      <td>2020-03-31</td>\n",
              "      <td>2020-04-02</td>\n",
              "    </tr>\n",
              "  </tbody>\n",
              "</table>\n",
              "</div>"
            ],
            "text/plain": [
              "    case_id  age     sex  ...  first_date    qua_date    ann_date\n",
              "0    case_1   36    Male  ...  2020-03-13  2020-03-21  2020-03-23\n",
              "1    case_2   26    Male  ...  2020-03-22  2020-03-23  2020-03-23\n",
              "2    case_3   26    Male  ...  2020-03-21  2020-03-23  2020-03-25\n",
              "3    case_4   33    Male  ...  2020-03-19  2020-03-25  2020-03-27\n",
              "4    case_5   69    Male  ...  2020-03-14  2020-03-25  2020-03-27\n",
              "5    case_6   29    Male  ...  2020-03-21  2020-03-26  2020-03-28\n",
              "6    case_7   58  Female  ...  2020-03-18  2020-03-26  2020-03-28\n",
              "7    case_8   60  Female  ...  2020-03-25  2020-03-26  2020-03-28\n",
              "8    case_9   44    Male  ...  2020-03-23  2020-03-26  2020-03-29\n",
              "9   case_10   45    Male  ...  2020-03-28  2020-03-28  2020-03-29\n",
              "10  case_11   66  Female  ...  2020-03-28  2020-03-28  2020-03-30\n",
              "11  case_12   65    Male  ...  2020-03-28  2020-03-28  2020-03-30\n",
              "12  case_13   61  Female  ...  2020-03-28  2020-03-28  2020-03-30\n",
              "13  case_14   24    Male  ...  2020-03-25  2020-03-28  2020-03-30\n",
              "14  case_15   45  Female  ...  2020-03-27  2020-03-30  2020-03-30\n",
              "15  case_16   63  Female  ...  2020-03-15  2020-03-31  2020-04-01\n",
              "16  case_17   47    Male  ...  2020-03-30  2020-03-31  2020-04-02\n",
              "17  case_18   10    Male  ...  2020-03-30  2020-03-31  2020-04-02\n",
              "18  case_19    8  Female  ...  2020-03-30  2020-03-31  2020-04-02\n",
              "19  case_20   18  Female  ...  2020-03-30  2020-03-31  2020-04-02\n",
              "\n",
              "[20 rows x 8 columns]"
            ]
          },
          "metadata": {
            "tags": []
          },
          "execution_count": 44
        }
      ]
    },
    {
      "cell_type": "markdown",
      "metadata": {
        "id": "tB8hFUiGJQBA",
        "colab_type": "text"
      },
      "source": [
        "# Timeline"
      ]
    },
    {
      "cell_type": "code",
      "metadata": {
        "id": "_ZpKCBp3JTEE",
        "colab_type": "code",
        "outputId": "01575ca9-f2ce-451a-b12a-eadaa9b03fbf",
        "colab": {
          "base_uri": "https://localhost:8080/",
          "height": 669
        }
      },
      "source": [
        "df[\"first_date\"] = pd.to_datetime(df[\"first_date\"])\n",
        "df[\"qua_date\"] = pd.to_datetime(df[\"qua_date\"])\n",
        "df[\"ann_date\"] = pd.to_datetime(df[\"ann_date\"])\n",
        "\n",
        "df[\"until_qua\"] = (df[\"qua_date\"]-df[\"first_date\"]).dt.days\n",
        "df[\"until_ann\"] = (df[\"ann_date\"]-df[\"qua_date\"]).dt.days\n",
        "df"
      ],
      "execution_count": 45,
      "outputs": [
        {
          "output_type": "execute_result",
          "data": {
            "text/html": [
              "<div>\n",
              "<style scoped>\n",
              "    .dataframe tbody tr th:only-of-type {\n",
              "        vertical-align: middle;\n",
              "    }\n",
              "\n",
              "    .dataframe tbody tr th {\n",
              "        vertical-align: top;\n",
              "    }\n",
              "\n",
              "    .dataframe thead th {\n",
              "        text-align: right;\n",
              "    }\n",
              "</style>\n",
              "<table border=\"1\" class=\"dataframe\">\n",
              "  <thead>\n",
              "    <tr style=\"text-align: right;\">\n",
              "      <th></th>\n",
              "      <th>case_id</th>\n",
              "      <th>age</th>\n",
              "      <th>sex</th>\n",
              "      <th>travel</th>\n",
              "      <th>region</th>\n",
              "      <th>first_date</th>\n",
              "      <th>qua_date</th>\n",
              "      <th>ann_date</th>\n",
              "      <th>until_qua</th>\n",
              "      <th>until_ann</th>\n",
              "    </tr>\n",
              "  </thead>\n",
              "  <tbody>\n",
              "    <tr>\n",
              "      <th>0</th>\n",
              "      <td>case_1</td>\n",
              "      <td>36</td>\n",
              "      <td>Male</td>\n",
              "      <td>United States of America</td>\n",
              "      <td>Chin</td>\n",
              "      <td>2020-03-13</td>\n",
              "      <td>2020-03-21</td>\n",
              "      <td>2020-03-23</td>\n",
              "      <td>8</td>\n",
              "      <td>2</td>\n",
              "    </tr>\n",
              "    <tr>\n",
              "      <th>1</th>\n",
              "      <td>case_2</td>\n",
              "      <td>26</td>\n",
              "      <td>Male</td>\n",
              "      <td>United Kingdom</td>\n",
              "      <td>Yangon</td>\n",
              "      <td>2020-03-22</td>\n",
              "      <td>2020-03-23</td>\n",
              "      <td>2020-03-23</td>\n",
              "      <td>1</td>\n",
              "      <td>0</td>\n",
              "    </tr>\n",
              "    <tr>\n",
              "      <th>2</th>\n",
              "      <td>case_3</td>\n",
              "      <td>26</td>\n",
              "      <td>Male</td>\n",
              "      <td>United Kingdom</td>\n",
              "      <td>Yangon</td>\n",
              "      <td>2020-03-21</td>\n",
              "      <td>2020-03-23</td>\n",
              "      <td>2020-03-25</td>\n",
              "      <td>2</td>\n",
              "      <td>2</td>\n",
              "    </tr>\n",
              "    <tr>\n",
              "      <th>3</th>\n",
              "      <td>case_4</td>\n",
              "      <td>33</td>\n",
              "      <td>Male</td>\n",
              "      <td>United States of America</td>\n",
              "      <td>Yangon</td>\n",
              "      <td>2020-03-19</td>\n",
              "      <td>2020-03-25</td>\n",
              "      <td>2020-03-27</td>\n",
              "      <td>6</td>\n",
              "      <td>2</td>\n",
              "    </tr>\n",
              "    <tr>\n",
              "      <th>4</th>\n",
              "      <td>case_5</td>\n",
              "      <td>69</td>\n",
              "      <td>Male</td>\n",
              "      <td>Australia</td>\n",
              "      <td>Yangon</td>\n",
              "      <td>2020-03-14</td>\n",
              "      <td>2020-03-25</td>\n",
              "      <td>2020-03-27</td>\n",
              "      <td>11</td>\n",
              "      <td>2</td>\n",
              "    </tr>\n",
              "    <tr>\n",
              "      <th>5</th>\n",
              "      <td>case_6</td>\n",
              "      <td>29</td>\n",
              "      <td>Male</td>\n",
              "      <td>United Kingdom</td>\n",
              "      <td>Yangon</td>\n",
              "      <td>2020-03-21</td>\n",
              "      <td>2020-03-26</td>\n",
              "      <td>2020-03-28</td>\n",
              "      <td>5</td>\n",
              "      <td>2</td>\n",
              "    </tr>\n",
              "    <tr>\n",
              "      <th>6</th>\n",
              "      <td>case_7</td>\n",
              "      <td>58</td>\n",
              "      <td>Female</td>\n",
              "      <td>Switzerland</td>\n",
              "      <td>Nay Pyi Taw</td>\n",
              "      <td>2020-03-18</td>\n",
              "      <td>2020-03-26</td>\n",
              "      <td>2020-03-28</td>\n",
              "      <td>8</td>\n",
              "      <td>2</td>\n",
              "    </tr>\n",
              "    <tr>\n",
              "      <th>7</th>\n",
              "      <td>case_8</td>\n",
              "      <td>60</td>\n",
              "      <td>Female</td>\n",
              "      <td>NaN</td>\n",
              "      <td>Yangon</td>\n",
              "      <td>2020-03-25</td>\n",
              "      <td>2020-03-26</td>\n",
              "      <td>2020-03-28</td>\n",
              "      <td>1</td>\n",
              "      <td>2</td>\n",
              "    </tr>\n",
              "    <tr>\n",
              "      <th>8</th>\n",
              "      <td>case_9</td>\n",
              "      <td>44</td>\n",
              "      <td>Male</td>\n",
              "      <td>Thailand</td>\n",
              "      <td>Yangon</td>\n",
              "      <td>2020-03-23</td>\n",
              "      <td>2020-03-26</td>\n",
              "      <td>2020-03-29</td>\n",
              "      <td>3</td>\n",
              "      <td>3</td>\n",
              "    </tr>\n",
              "    <tr>\n",
              "      <th>9</th>\n",
              "      <td>case_10</td>\n",
              "      <td>45</td>\n",
              "      <td>Male</td>\n",
              "      <td>NaN</td>\n",
              "      <td>Yangon</td>\n",
              "      <td>2020-03-28</td>\n",
              "      <td>2020-03-28</td>\n",
              "      <td>2020-03-29</td>\n",
              "      <td>0</td>\n",
              "      <td>1</td>\n",
              "    </tr>\n",
              "    <tr>\n",
              "      <th>10</th>\n",
              "      <td>case_11</td>\n",
              "      <td>66</td>\n",
              "      <td>Female</td>\n",
              "      <td>France</td>\n",
              "      <td>Yangon</td>\n",
              "      <td>2020-03-28</td>\n",
              "      <td>2020-03-28</td>\n",
              "      <td>2020-03-30</td>\n",
              "      <td>0</td>\n",
              "      <td>2</td>\n",
              "    </tr>\n",
              "    <tr>\n",
              "      <th>11</th>\n",
              "      <td>case_12</td>\n",
              "      <td>65</td>\n",
              "      <td>Male</td>\n",
              "      <td>France</td>\n",
              "      <td>Yangon</td>\n",
              "      <td>2020-03-28</td>\n",
              "      <td>2020-03-28</td>\n",
              "      <td>2020-03-30</td>\n",
              "      <td>0</td>\n",
              "      <td>2</td>\n",
              "    </tr>\n",
              "    <tr>\n",
              "      <th>12</th>\n",
              "      <td>case_13</td>\n",
              "      <td>61</td>\n",
              "      <td>Female</td>\n",
              "      <td>France</td>\n",
              "      <td>Yangon</td>\n",
              "      <td>2020-03-28</td>\n",
              "      <td>2020-03-28</td>\n",
              "      <td>2020-03-30</td>\n",
              "      <td>0</td>\n",
              "      <td>2</td>\n",
              "    </tr>\n",
              "    <tr>\n",
              "      <th>13</th>\n",
              "      <td>case_14</td>\n",
              "      <td>24</td>\n",
              "      <td>Male</td>\n",
              "      <td>Thailand</td>\n",
              "      <td>Shan</td>\n",
              "      <td>2020-03-25</td>\n",
              "      <td>2020-03-28</td>\n",
              "      <td>2020-03-30</td>\n",
              "      <td>3</td>\n",
              "      <td>2</td>\n",
              "    </tr>\n",
              "    <tr>\n",
              "      <th>14</th>\n",
              "      <td>case_15</td>\n",
              "      <td>45</td>\n",
              "      <td>Female</td>\n",
              "      <td>NaN</td>\n",
              "      <td>Yangon</td>\n",
              "      <td>2020-03-27</td>\n",
              "      <td>2020-03-30</td>\n",
              "      <td>2020-03-30</td>\n",
              "      <td>3</td>\n",
              "      <td>0</td>\n",
              "    </tr>\n",
              "    <tr>\n",
              "      <th>15</th>\n",
              "      <td>case_16</td>\n",
              "      <td>63</td>\n",
              "      <td>Female</td>\n",
              "      <td>NaN</td>\n",
              "      <td>Yangon</td>\n",
              "      <td>2020-03-15</td>\n",
              "      <td>2020-03-31</td>\n",
              "      <td>2020-04-01</td>\n",
              "      <td>16</td>\n",
              "      <td>1</td>\n",
              "    </tr>\n",
              "    <tr>\n",
              "      <th>16</th>\n",
              "      <td>case_17</td>\n",
              "      <td>47</td>\n",
              "      <td>Male</td>\n",
              "      <td>NaN</td>\n",
              "      <td>Bago</td>\n",
              "      <td>2020-03-30</td>\n",
              "      <td>2020-03-31</td>\n",
              "      <td>2020-04-02</td>\n",
              "      <td>1</td>\n",
              "      <td>2</td>\n",
              "    </tr>\n",
              "    <tr>\n",
              "      <th>17</th>\n",
              "      <td>case_18</td>\n",
              "      <td>10</td>\n",
              "      <td>Male</td>\n",
              "      <td>NaN</td>\n",
              "      <td>Bago</td>\n",
              "      <td>2020-03-30</td>\n",
              "      <td>2020-03-31</td>\n",
              "      <td>2020-04-02</td>\n",
              "      <td>1</td>\n",
              "      <td>2</td>\n",
              "    </tr>\n",
              "    <tr>\n",
              "      <th>18</th>\n",
              "      <td>case_19</td>\n",
              "      <td>8</td>\n",
              "      <td>Female</td>\n",
              "      <td>NaN</td>\n",
              "      <td>Bago</td>\n",
              "      <td>2020-03-30</td>\n",
              "      <td>2020-03-31</td>\n",
              "      <td>2020-04-02</td>\n",
              "      <td>1</td>\n",
              "      <td>2</td>\n",
              "    </tr>\n",
              "    <tr>\n",
              "      <th>19</th>\n",
              "      <td>case_20</td>\n",
              "      <td>18</td>\n",
              "      <td>Female</td>\n",
              "      <td>NaN</td>\n",
              "      <td>Bago</td>\n",
              "      <td>2020-03-30</td>\n",
              "      <td>2020-03-31</td>\n",
              "      <td>2020-04-02</td>\n",
              "      <td>1</td>\n",
              "      <td>2</td>\n",
              "    </tr>\n",
              "  </tbody>\n",
              "</table>\n",
              "</div>"
            ],
            "text/plain": [
              "    case_id  age     sex  ...   ann_date until_qua until_ann\n",
              "0    case_1   36    Male  ... 2020-03-23         8         2\n",
              "1    case_2   26    Male  ... 2020-03-23         1         0\n",
              "2    case_3   26    Male  ... 2020-03-25         2         2\n",
              "3    case_4   33    Male  ... 2020-03-27         6         2\n",
              "4    case_5   69    Male  ... 2020-03-27        11         2\n",
              "5    case_6   29    Male  ... 2020-03-28         5         2\n",
              "6    case_7   58  Female  ... 2020-03-28         8         2\n",
              "7    case_8   60  Female  ... 2020-03-28         1         2\n",
              "8    case_9   44    Male  ... 2020-03-29         3         3\n",
              "9   case_10   45    Male  ... 2020-03-29         0         1\n",
              "10  case_11   66  Female  ... 2020-03-30         0         2\n",
              "11  case_12   65    Male  ... 2020-03-30         0         2\n",
              "12  case_13   61  Female  ... 2020-03-30         0         2\n",
              "13  case_14   24    Male  ... 2020-03-30         3         2\n",
              "14  case_15   45  Female  ... 2020-03-30         3         0\n",
              "15  case_16   63  Female  ... 2020-04-01        16         1\n",
              "16  case_17   47    Male  ... 2020-04-02         1         2\n",
              "17  case_18   10    Male  ... 2020-04-02         1         2\n",
              "18  case_19    8  Female  ... 2020-04-02         1         2\n",
              "19  case_20   18  Female  ... 2020-04-02         1         2\n",
              "\n",
              "[20 rows x 10 columns]"
            ]
          },
          "metadata": {
            "tags": []
          },
          "execution_count": 45
        }
      ]
    },
    {
      "cell_type": "code",
      "metadata": {
        "id": "tZuf7iIWJdDV",
        "colab_type": "code",
        "colab": {}
      },
      "source": [
        "earliest = df[\"first_date\"].min()\n",
        "df[\"until_first\"] = (df[\"first_date\"]-earliest).dt.days"
      ],
      "execution_count": 0,
      "outputs": []
    },
    {
      "cell_type": "markdown",
      "metadata": {
        "id": "p-ZUruchJkYC",
        "colab_type": "text"
      },
      "source": [
        "- travel -> travel history\n",
        "- region -> states and admininstrative regions of Myanmar where the case is quarantined\n",
        "- first_date -> entry into the country, or first symptom for no travel history\n",
        "- qua_date -> first date of quarantine\n",
        "- ann_date -> date of announcement by MOHS as positive"
      ]
    },
    {
      "cell_type": "markdown",
      "metadata": {
        "id": "YfWzumhQJyQz",
        "colab_type": "text"
      },
      "source": [
        "##Time taking for Action"
      ]
    },
    {
      "cell_type": "code",
      "metadata": {
        "id": "-Jpnwa6yJdqJ",
        "colab_type": "code",
        "outputId": "e8603640-7d83-4bec-c1c3-306d174f8fc1",
        "colab": {
          "base_uri": "https://localhost:8080/",
          "height": 312
        }
      },
      "source": [
        "index = np.arange(len(df[\"case_id\"]))\n",
        "\n",
        "p1 = plt.bar(index, df[\"until_qua\"], color = \"tomato\")\n",
        "p2 = plt.bar(index, df[\"until_ann\"], bottom=df[\"until_qua\"], color = \"lightsalmon\")\n",
        "\n",
        "plt.ylabel(\"Days\", fontsize=10)\n",
        "plt.title(\"Days until announcement\")\n",
        "plt.xticks(index,df[\"case_id\"], fontsize=10, rotation=90)\n",
        "plt.legend((p1[0], p2[0]), (\"Days until quarantine\", \"Days until announcement\"),loc=\"upper left\", bbox_to_anchor=(1, 1))\n",
        "\n",
        "days = str(df[\"ann_date\"][df.index[-1]])+\"_time_for_action.svg\"\n",
        "plt.savefig(days, bbox_inches = \"tight\")\n",
        "plt.show()\n",
        "files.download(days)"
      ],
      "execution_count": 47,
      "outputs": [
        {
          "output_type": "display_data",
          "data": {
            "image/png": "[encoded data removed]",
            "text/plain": [
              "<Figure size 432x288 with 1 Axes>"
            ]
          },
          "metadata": {
            "tags": []
          }
        }
      ]
    },
    {
      "cell_type": "markdown",
      "metadata": {
        "id": "mVeq27qaJ1Ie",
        "colab_type": "text"
      },
      "source": [
        "##Timeline"
      ]
    },
    {
      "cell_type": "code",
      "metadata": {
        "id": "30cgGwmqJux8",
        "colab_type": "code",
        "outputId": "6f0538f1-4f1d-414d-f31c-30a231954b9b",
        "colab": {
          "base_uri": "https://localhost:8080/",
          "height": 300
        }
      },
      "source": [
        "yindex = np.arange(len(df[\"case_id\"]))\n",
        "xindex = np.arange(len(pd.date_range(start=df.first_date.min(), end=df.ann_date.max())))\n",
        "\n",
        "plt.yticks(yindex,df[\"case_id\"], fontsize=10)\n",
        "plt.xticks(xindex,pd.date_range(start=df.first_date.min(), end=df.ann_date.max()).strftime('%d/%m'), fontsize=10, rotation=90)\n",
        "plt.gca().invert_yaxis()\n",
        "\n",
        "until_qua = plt.barh(yindex, df[\"until_qua\"], left= df[\"until_first\"], color = \"tomato\")\n",
        "until_ann = plt.barh(yindex, df[\"until_ann\"], left= df[\"until_qua\"]+df[\"until_first\"], color = \"lightsalmon\")\n",
        "\n",
        "plt.title(\"Timeline as of \"+str(df.ann_date.max().strftime(\"%d/%m/%Y\")))\n",
        "plt.legend((until_qua[0], until_ann[0]), (\"Before quarantine\", \"Before announcement\"),loc=\"upper left\", bbox_to_anchor=(1, 1))\n",
        "\n",
        "\n",
        "timeline = str(df[\"ann_date\"][df.index[-1]])+\"_timeline.svg\"\n",
        "plt.savefig(timeline, bbox_inches = \"tight\")\n",
        "plt.show()\n",
        "files.download(timeline)"
      ],
      "execution_count": 48,
      "outputs": [
        {
          "output_type": "display_data",
          "data": {
            "image/png": "[encoded data removed]",
            "text/plain": [
              "<Figure size 432x288 with 1 Axes>"
            ]
          },
          "metadata": {
            "tags": []
          }
        }
      ]
    },
    {
      "cell_type": "markdown",
      "metadata": {
        "id": "IkVBEsbTBtU4",
        "colab_type": "text"
      },
      "source": [
        "# Basic Line Chart for overseas inflow vs local spread"
      ]
    },
    {
      "cell_type": "code",
      "metadata": {
        "id": "69wpUCn8Bvdv",
        "colab_type": "code",
        "colab": {}
      },
      "source": [
        "spread_df = df[[\"ann_date\",\"travel\"]].copy()\n",
        "spread_df.columns = [\"date\", \"travel\"]\n",
        "\n",
        "spread_df[\"overseas_inflow\"] = np.where(spread_df[\"travel\"].isna(), 0, 1)\n",
        "spread_df[\"local_spread\"] = np.where(spread_df[\"travel\"].notna(), 0, 1)\n",
        "\n",
        "spread_df.drop(\"travel\", axis=1 , inplace=True)\n",
        "spread_df=spread_df.groupby([\"date\"]).sum().reset_index()\n",
        "spread_df[\"date\"] = pd.to_datetime(spread_df[\"date\"])"
      ],
      "execution_count": 0,
      "outputs": []
    },
    {
      "cell_type": "code",
      "metadata": {
        "id": "oB-OX3vQBy4b",
        "colab_type": "code",
        "outputId": "3d224e46-9e38-47ba-fef0-5e3065ab1120",
        "colab": {
          "base_uri": "https://localhost:8080/",
          "height": 545
        }
      },
      "source": [
        "spread_trend_df = pd.DataFrame(columns=[\"ndays\",\"date\"])\n",
        "spread_trend_df[\"ndays\"] = np.arange(len(pd.date_range(start=spread_df.date.min()-pd.Timedelta(days=5), end=spread_df.date.max())))\n",
        "spread_trend_df.loc[0,\"date\"]=spread_df.date.min()-pd.Timedelta(days=5)\n",
        "for i in range(1,len(spread_trend_df)):\n",
        "    spread_trend_df.loc[i,\"date\"] = spread_trend_df.loc[i-1,\"date\"] + pd.Timedelta(days=1)\n",
        "    i=i+1\n",
        "spread_trend_df[\"date\"] = pd.to_datetime(spread_trend_df[\"date\"])\n",
        "\n",
        "spread_trend_df=spread_trend_df.merge(spread_df,indicator=False,how='left')\n",
        "spread_trend_df[\"overseas_inflow\"].fillna(0, inplace=True)\n",
        "spread_trend_df[\"local_spread\"].fillna(0, inplace=True)\n",
        "spread_trend_df[\"overseas_inflow\"]=spread_trend_df[\"overseas_inflow\"].astype(int)\n",
        "spread_trend_df[\"local_spread\"]=spread_trend_df[\"local_spread\"].astype(int)\n",
        "spread_trend_df[\"tot_overseas_inflow\"]=spread_trend_df[\"overseas_inflow\"].cumsum()\n",
        "spread_trend_df[\"tot_local_spread\"]=spread_trend_df[\"local_spread\"].cumsum()\n",
        "spread_trend_df"
      ],
      "execution_count": 50,
      "outputs": [
        {
          "output_type": "execute_result",
          "data": {
            "text/html": [
              "<div>\n",
              "<style scoped>\n",
              "    .dataframe tbody tr th:only-of-type {\n",
              "        vertical-align: middle;\n",
              "    }\n",
              "\n",
              "    .dataframe tbody tr th {\n",
              "        vertical-align: top;\n",
              "    }\n",
              "\n",
              "    .dataframe thead th {\n",
              "        text-align: right;\n",
              "    }\n",
              "</style>\n",
              "<table border=\"1\" class=\"dataframe\">\n",
              "  <thead>\n",
              "    <tr style=\"text-align: right;\">\n",
              "      <th></th>\n",
              "      <th>ndays</th>\n",
              "      <th>date</th>\n",
              "      <th>overseas_inflow</th>\n",
              "      <th>local_spread</th>\n",
              "      <th>tot_overseas_inflow</th>\n",
              "      <th>tot_local_spread</th>\n",
              "    </tr>\n",
              "  </thead>\n",
              "  <tbody>\n",
              "    <tr>\n",
              "      <th>0</th>\n",
              "      <td>0</td>\n",
              "      <td>2020-03-18</td>\n",
              "      <td>0</td>\n",
              "      <td>0</td>\n",
              "      <td>0</td>\n",
              "      <td>0</td>\n",
              "    </tr>\n",
              "    <tr>\n",
              "      <th>1</th>\n",
              "      <td>1</td>\n",
              "      <td>2020-03-19</td>\n",
              "      <td>0</td>\n",
              "      <td>0</td>\n",
              "      <td>0</td>\n",
              "      <td>0</td>\n",
              "    </tr>\n",
              "    <tr>\n",
              "      <th>2</th>\n",
              "      <td>2</td>\n",
              "      <td>2020-03-20</td>\n",
              "      <td>0</td>\n",
              "      <td>0</td>\n",
              "      <td>0</td>\n",
              "      <td>0</td>\n",
              "    </tr>\n",
              "    <tr>\n",
              "      <th>3</th>\n",
              "      <td>3</td>\n",
              "      <td>2020-03-21</td>\n",
              "      <td>0</td>\n",
              "      <td>0</td>\n",
              "      <td>0</td>\n",
              "      <td>0</td>\n",
              "    </tr>\n",
              "    <tr>\n",
              "      <th>4</th>\n",
              "      <td>4</td>\n",
              "      <td>2020-03-22</td>\n",
              "      <td>0</td>\n",
              "      <td>0</td>\n",
              "      <td>0</td>\n",
              "      <td>0</td>\n",
              "    </tr>\n",
              "    <tr>\n",
              "      <th>5</th>\n",
              "      <td>5</td>\n",
              "      <td>2020-03-23</td>\n",
              "      <td>2</td>\n",
              "      <td>0</td>\n",
              "      <td>2</td>\n",
              "      <td>0</td>\n",
              "    </tr>\n",
              "    <tr>\n",
              "      <th>6</th>\n",
              "      <td>6</td>\n",
              "      <td>2020-03-24</td>\n",
              "      <td>0</td>\n",
              "      <td>0</td>\n",
              "      <td>2</td>\n",
              "      <td>0</td>\n",
              "    </tr>\n",
              "    <tr>\n",
              "      <th>7</th>\n",
              "      <td>7</td>\n",
              "      <td>2020-03-25</td>\n",
              "      <td>1</td>\n",
              "      <td>0</td>\n",
              "      <td>3</td>\n",
              "      <td>0</td>\n",
              "    </tr>\n",
              "    <tr>\n",
              "      <th>8</th>\n",
              "      <td>8</td>\n",
              "      <td>2020-03-26</td>\n",
              "      <td>0</td>\n",
              "      <td>0</td>\n",
              "      <td>3</td>\n",
              "      <td>0</td>\n",
              "    </tr>\n",
              "    <tr>\n",
              "      <th>9</th>\n",
              "      <td>9</td>\n",
              "      <td>2020-03-27</td>\n",
              "      <td>2</td>\n",
              "      <td>0</td>\n",
              "      <td>5</td>\n",
              "      <td>0</td>\n",
              "    </tr>\n",
              "    <tr>\n",
              "      <th>10</th>\n",
              "      <td>10</td>\n",
              "      <td>2020-03-28</td>\n",
              "      <td>2</td>\n",
              "      <td>1</td>\n",
              "      <td>7</td>\n",
              "      <td>1</td>\n",
              "    </tr>\n",
              "    <tr>\n",
              "      <th>11</th>\n",
              "      <td>11</td>\n",
              "      <td>2020-03-29</td>\n",
              "      <td>1</td>\n",
              "      <td>1</td>\n",
              "      <td>8</td>\n",
              "      <td>2</td>\n",
              "    </tr>\n",
              "    <tr>\n",
              "      <th>12</th>\n",
              "      <td>12</td>\n",
              "      <td>2020-03-30</td>\n",
              "      <td>4</td>\n",
              "      <td>1</td>\n",
              "      <td>12</td>\n",
              "      <td>3</td>\n",
              "    </tr>\n",
              "    <tr>\n",
              "      <th>13</th>\n",
              "      <td>13</td>\n",
              "      <td>2020-03-31</td>\n",
              "      <td>0</td>\n",
              "      <td>0</td>\n",
              "      <td>12</td>\n",
              "      <td>3</td>\n",
              "    </tr>\n",
              "    <tr>\n",
              "      <th>14</th>\n",
              "      <td>14</td>\n",
              "      <td>2020-04-01</td>\n",
              "      <td>0</td>\n",
              "      <td>1</td>\n",
              "      <td>12</td>\n",
              "      <td>4</td>\n",
              "    </tr>\n",
              "    <tr>\n",
              "      <th>15</th>\n",
              "      <td>15</td>\n",
              "      <td>2020-04-02</td>\n",
              "      <td>0</td>\n",
              "      <td>4</td>\n",
              "      <td>12</td>\n",
              "      <td>8</td>\n",
              "    </tr>\n",
              "  </tbody>\n",
              "</table>\n",
              "</div>"
            ],
            "text/plain": [
              "    ndays       date  ...  tot_overseas_inflow  tot_local_spread\n",
              "0       0 2020-03-18  ...                    0                 0\n",
              "1       1 2020-03-19  ...                    0                 0\n",
              "2       2 2020-03-20  ...                    0                 0\n",
              "3       3 2020-03-21  ...                    0                 0\n",
              "4       4 2020-03-22  ...                    0                 0\n",
              "5       5 2020-03-23  ...                    2                 0\n",
              "6       6 2020-03-24  ...                    2                 0\n",
              "7       7 2020-03-25  ...                    3                 0\n",
              "8       8 2020-03-26  ...                    3                 0\n",
              "9       9 2020-03-27  ...                    5                 0\n",
              "10     10 2020-03-28  ...                    7                 1\n",
              "11     11 2020-03-29  ...                    8                 2\n",
              "12     12 2020-03-30  ...                   12                 3\n",
              "13     13 2020-03-31  ...                   12                 3\n",
              "14     14 2020-04-01  ...                   12                 4\n",
              "15     15 2020-04-02  ...                   12                 8\n",
              "\n",
              "[16 rows x 6 columns]"
            ]
          },
          "metadata": {
            "tags": []
          },
          "execution_count": 50
        }
      ]
    },
    {
      "cell_type": "code",
      "metadata": {
        "id": "-TfeHFJ3olZR",
        "colab_type": "code",
        "colab": {
          "base_uri": "https://localhost:8080/",
          "height": 300
        },
        "outputId": "7bef1774-3fb8-425a-f0b3-f0f60764543e"
      },
      "source": [
        "xindex = np.arange(len(pd.date_range(start=spread_trend_df.date.min(), end=spread_trend_df.date.max())))\n",
        "\n",
        "plt.xticks(xindex,pd.date_range(start=spread_trend_df.date.min(), end=spread_trend_df.date.max()).strftime('%d/%m'), fontsize=10, rotation=90)\n",
        "plt.gca().yaxis.set_major_locator(mticker.MultipleLocator(1))\n",
        "\n",
        "oi_case = plt.bar(xindex, spread_trend_df[\"overseas_inflow\"], color = \"cornflowerblue\")\n",
        "ls_case = plt.bar(xindex, spread_trend_df[\"local_spread\"], bottom=spread_trend_df[\"overseas_inflow\"], color = \"lightcoral\")\n",
        "\n",
        "plt.title(\"Daily new cases as of \"+str(spread_trend_df.date.max().strftime(\"%d/%m/%Y\")))\n",
        "plt.legend((oi_case[0],ls_case[0]), (\"Overseas Inflow\", \"Local Spread\"),loc='upper left', bbox_to_anchor=(1, 1))\n",
        "\n",
        "new_cases = str(df[\"ann_date\"][df.index[-1]])+\"_new_cases.svg\"\n",
        "plt.savefig(new_cases, bbox_inches = \"tight\")\n",
        "plt.show()\n",
        "files.download(new_cases)"
      ],
      "execution_count": 51,
      "outputs": [
        {
          "output_type": "display_data",
          "data": {
            "image/png": "[encoded data removed]",
            "text/plain": [
              "<Figure size 432x288 with 1 Axes>"
            ]
          },
          "metadata": {
            "tags": []
          }
        }
      ]
    },
    {
      "cell_type": "code",
      "metadata": {
        "id": "vJCxGDGQB1Uh",
        "colab_type": "code",
        "outputId": "e6bf6f68-af66-478a-b07a-f8d812348b3b",
        "colab": {
          "base_uri": "https://localhost:8080/",
          "height": 300
        }
      },
      "source": [
        "plt.xticks(xindex,pd.date_range(start=spread_trend_df.date.min(), end=spread_trend_df.date.max()).strftime('%d/%m'), fontsize=10, rotation=90)\n",
        "plt.gca().yaxis.set_major_locator(mticker.MultipleLocator(1))\n",
        "\n",
        "land_close_fore = plt.axvline(x=1, color=\"orange\", linestyle=\"--\")\n",
        "air_close = plt.axvline(x=12, color=\"red\", linestyle=\"--\")\n",
        "overseas_inflow = plt.plot(xindex, spread_trend_df[\"tot_overseas_inflow\"], color=\"cornflowerblue\",linewidth=3.0)\n",
        "local_spread = plt.plot(xindex, spread_trend_df[\"tot_local_spread\"], color=\"lightcoral\", linewidth=3.0)\n",
        "\n",
        "plt.title(\"Infection spread as of \"+str(spread_trend_df.date.max().strftime(\"%d/%m/%Y\")))\n",
        "plt.legend((overseas_inflow[0],local_spread[0],land_close_fore,air_close), (\"Overseas Inflow\", \"Local Spread\",\"Land border closed to foreigners\",\"International Flight Ban\"),loc='upper left', bbox_to_anchor=(1, 1))\n",
        "\n",
        "spread = str(df[\"ann_date\"][df.index[-1]])+\"_spread.svg\"\n",
        "plt.savefig(spread, bbox_inches = \"tight\")\n",
        "plt.show()\n",
        "files.download(spread)"
      ],
      "execution_count": 52,
      "outputs": [
        {
          "output_type": "display_data",
          "data": {
            "image/png": "[encoded data removed]",
            "text/plain": [
              "<Figure size 432x288 with 1 Axes>"
            ]
          },
          "metadata": {
            "tags": []
          }
        }
      ]
    },
    {
      "cell_type": "markdown",
      "metadata": {
        "id": "B2ajxc-KJK_k",
        "colab_type": "text"
      },
      "source": [
        "# Exponential Growth"
      ]
    },
    {
      "cell_type": "code",
      "metadata": {
        "id": "Sj3FNfpC8Xl3",
        "colab_type": "code",
        "outputId": "b507e244-4791-4619-bcfe-f5cb7d87efff",
        "colab": {
          "base_uri": "https://localhost:8080/",
          "height": 297
        }
      },
      "source": [
        "sum_df = df[[\"ann_date\",\"case_id\"]].copy()\n",
        "sum_df.columns = [\"Date\", \"id\"]\n",
        "sum_df=sum_df.groupby([\"Date\"]).size().to_frame(\"Case\").reset_index()\n",
        "sum_df[\"Date\"] = pd.to_datetime(sum_df[\"Date\"])\n",
        "sum_df"
      ],
      "execution_count": 53,
      "outputs": [
        {
          "output_type": "execute_result",
          "data": {
            "text/html": [
              "<div>\n",
              "<style scoped>\n",
              "    .dataframe tbody tr th:only-of-type {\n",
              "        vertical-align: middle;\n",
              "    }\n",
              "\n",
              "    .dataframe tbody tr th {\n",
              "        vertical-align: top;\n",
              "    }\n",
              "\n",
              "    .dataframe thead th {\n",
              "        text-align: right;\n",
              "    }\n",
              "</style>\n",
              "<table border=\"1\" class=\"dataframe\">\n",
              "  <thead>\n",
              "    <tr style=\"text-align: right;\">\n",
              "      <th></th>\n",
              "      <th>Date</th>\n",
              "      <th>Case</th>\n",
              "    </tr>\n",
              "  </thead>\n",
              "  <tbody>\n",
              "    <tr>\n",
              "      <th>0</th>\n",
              "      <td>2020-03-23</td>\n",
              "      <td>2</td>\n",
              "    </tr>\n",
              "    <tr>\n",
              "      <th>1</th>\n",
              "      <td>2020-03-25</td>\n",
              "      <td>1</td>\n",
              "    </tr>\n",
              "    <tr>\n",
              "      <th>2</th>\n",
              "      <td>2020-03-27</td>\n",
              "      <td>2</td>\n",
              "    </tr>\n",
              "    <tr>\n",
              "      <th>3</th>\n",
              "      <td>2020-03-28</td>\n",
              "      <td>3</td>\n",
              "    </tr>\n",
              "    <tr>\n",
              "      <th>4</th>\n",
              "      <td>2020-03-29</td>\n",
              "      <td>2</td>\n",
              "    </tr>\n",
              "    <tr>\n",
              "      <th>5</th>\n",
              "      <td>2020-03-30</td>\n",
              "      <td>5</td>\n",
              "    </tr>\n",
              "    <tr>\n",
              "      <th>6</th>\n",
              "      <td>2020-04-01</td>\n",
              "      <td>1</td>\n",
              "    </tr>\n",
              "    <tr>\n",
              "      <th>7</th>\n",
              "      <td>2020-04-02</td>\n",
              "      <td>4</td>\n",
              "    </tr>\n",
              "  </tbody>\n",
              "</table>\n",
              "</div>"
            ],
            "text/plain": [
              "        Date  Case\n",
              "0 2020-03-23     2\n",
              "1 2020-03-25     1\n",
              "2 2020-03-27     2\n",
              "3 2020-03-28     3\n",
              "4 2020-03-29     2\n",
              "5 2020-03-30     5\n",
              "6 2020-04-01     1\n",
              "7 2020-04-02     4"
            ]
          },
          "metadata": {
            "tags": []
          },
          "execution_count": 53
        }
      ]
    },
    {
      "cell_type": "code",
      "metadata": {
        "id": "Nfo5dqXJAXYV",
        "colab_type": "code",
        "outputId": "88399e51-6baa-4b19-e938-d61864ae71e6",
        "colab": {
          "base_uri": "https://localhost:8080/",
          "height": 390
        }
      },
      "source": [
        "confirmed_df = pd.DataFrame(columns=[\"ndays\",\"Date\"])\n",
        "confirmed_df[\"ndays\"] = np.arange(len(pd.date_range(start=sum_df.Date.min(), end=sum_df.Date.max())))\n",
        "confirmed_df.loc[0,\"Date\"]=sum_df.Date.min()\n",
        "for i in range(1,len(confirmed_df)):\n",
        "    confirmed_df.loc[i,\"Date\"] = confirmed_df.loc[i-1,\"Date\"] + pd.Timedelta(days=1)\n",
        "    i=i+1\n",
        "confirmed_df[\"Date\"] = pd.to_datetime(confirmed_df[\"Date\"])\n",
        "confirmed_df=confirmed_df.merge(sum_df,indicator=False,how='left')\n",
        "confirmed_df[\"Case\"].fillna(0, inplace=True)\n",
        "confirmed_df[\"Case\"]=confirmed_df[\"Case\"].astype(int)\n",
        "confirmed_df[\"Case\"] = confirmed_df[\"Case\"].cumsum()\n",
        "\n",
        "# Natural Log of Real Cases\n",
        "confirmed_df[\"logCase\"] = np.log(confirmed_df.Case).astype(float)\n",
        "confirmed_df"
      ],
      "execution_count": 54,
      "outputs": [
        {
          "output_type": "execute_result",
          "data": {
            "text/html": [
              "<div>\n",
              "<style scoped>\n",
              "    .dataframe tbody tr th:only-of-type {\n",
              "        vertical-align: middle;\n",
              "    }\n",
              "\n",
              "    .dataframe tbody tr th {\n",
              "        vertical-align: top;\n",
              "    }\n",
              "\n",
              "    .dataframe thead th {\n",
              "        text-align: right;\n",
              "    }\n",
              "</style>\n",
              "<table border=\"1\" class=\"dataframe\">\n",
              "  <thead>\n",
              "    <tr style=\"text-align: right;\">\n",
              "      <th></th>\n",
              "      <th>ndays</th>\n",
              "      <th>Date</th>\n",
              "      <th>Case</th>\n",
              "      <th>logCase</th>\n",
              "    </tr>\n",
              "  </thead>\n",
              "  <tbody>\n",
              "    <tr>\n",
              "      <th>0</th>\n",
              "      <td>0</td>\n",
              "      <td>2020-03-23</td>\n",
              "      <td>2</td>\n",
              "      <td>0.693147</td>\n",
              "    </tr>\n",
              "    <tr>\n",
              "      <th>1</th>\n",
              "      <td>1</td>\n",
              "      <td>2020-03-24</td>\n",
              "      <td>2</td>\n",
              "      <td>0.693147</td>\n",
              "    </tr>\n",
              "    <tr>\n",
              "      <th>2</th>\n",
              "      <td>2</td>\n",
              "      <td>2020-03-25</td>\n",
              "      <td>3</td>\n",
              "      <td>1.098612</td>\n",
              "    </tr>\n",
              "    <tr>\n",
              "      <th>3</th>\n",
              "      <td>3</td>\n",
              "      <td>2020-03-26</td>\n",
              "      <td>3</td>\n",
              "      <td>1.098612</td>\n",
              "    </tr>\n",
              "    <tr>\n",
              "      <th>4</th>\n",
              "      <td>4</td>\n",
              "      <td>2020-03-27</td>\n",
              "      <td>5</td>\n",
              "      <td>1.609438</td>\n",
              "    </tr>\n",
              "    <tr>\n",
              "      <th>5</th>\n",
              "      <td>5</td>\n",
              "      <td>2020-03-28</td>\n",
              "      <td>8</td>\n",
              "      <td>2.079442</td>\n",
              "    </tr>\n",
              "    <tr>\n",
              "      <th>6</th>\n",
              "      <td>6</td>\n",
              "      <td>2020-03-29</td>\n",
              "      <td>10</td>\n",
              "      <td>2.302585</td>\n",
              "    </tr>\n",
              "    <tr>\n",
              "      <th>7</th>\n",
              "      <td>7</td>\n",
              "      <td>2020-03-30</td>\n",
              "      <td>15</td>\n",
              "      <td>2.708050</td>\n",
              "    </tr>\n",
              "    <tr>\n",
              "      <th>8</th>\n",
              "      <td>8</td>\n",
              "      <td>2020-03-31</td>\n",
              "      <td>15</td>\n",
              "      <td>2.708050</td>\n",
              "    </tr>\n",
              "    <tr>\n",
              "      <th>9</th>\n",
              "      <td>9</td>\n",
              "      <td>2020-04-01</td>\n",
              "      <td>16</td>\n",
              "      <td>2.772589</td>\n",
              "    </tr>\n",
              "    <tr>\n",
              "      <th>10</th>\n",
              "      <td>10</td>\n",
              "      <td>2020-04-02</td>\n",
              "      <td>20</td>\n",
              "      <td>2.995732</td>\n",
              "    </tr>\n",
              "  </tbody>\n",
              "</table>\n",
              "</div>"
            ],
            "text/plain": [
              "    ndays       Date  Case   logCase\n",
              "0       0 2020-03-23     2  0.693147\n",
              "1       1 2020-03-24     2  0.693147\n",
              "2       2 2020-03-25     3  1.098612\n",
              "3       3 2020-03-26     3  1.098612\n",
              "4       4 2020-03-27     5  1.609438\n",
              "5       5 2020-03-28     8  2.079442\n",
              "6       6 2020-03-29    10  2.302585\n",
              "7       7 2020-03-30    15  2.708050\n",
              "8       8 2020-03-31    15  2.708050\n",
              "9       9 2020-04-01    16  2.772589\n",
              "10     10 2020-04-02    20  2.995732"
            ]
          },
          "metadata": {
            "tags": []
          },
          "execution_count": 54
        }
      ]
    },
    {
      "cell_type": "code",
      "metadata": {
        "id": "gFh1t0IUnkWZ",
        "colab_type": "code",
        "colab": {
          "base_uri": "https://localhost:8080/",
          "height": 317
        },
        "outputId": "7d5e45c8-c556-4be4-f62b-05c382d5fbcc"
      },
      "source": [
        "xindex = np.arange(len(pd.date_range(start=confirmed_df.Date.min(), end=confirmed_df.Date.max())))\n",
        "\n",
        "plt.xticks(xindex,pd.date_range(start=confirmed_df.Date.min(), end=confirmed_df.Date.max()).strftime('%d/%m'), fontsize=10, rotation=90)\n",
        "plt.gca().yaxis.set_major_locator(mticker.MultipleLocator(1))\n",
        "\n",
        "plt.bar(xindex, confirmed_df[\"Case\"], color = \"tomato\")\n",
        "\n",
        "plt.title(\"Total cases as of \"+str(spread_trend_df.date.max().strftime(\"%d/%m/%Y\")))\n",
        "\n",
        "tot_cases = str(df[\"ann_date\"][df.index[-1]])+\"_total_cases.svg\"\n",
        "plt.savefig(tot_cases, bbox_inches = \"tight\")\n",
        "plt.show()\n",
        "'''files.download(tot_cases)'''"
      ],
      "execution_count": 55,
      "outputs": [
        {
          "output_type": "display_data",
          "data": {
            "image/png": "[encoded data removed]",
            "text/plain": [
              "<Figure size 432x288 with 1 Axes>"
            ]
          },
          "metadata": {
            "tags": []
          }
        },
        {
          "output_type": "execute_result",
          "data": {
            "text/plain": [
              "'files.download(tot_cases)'"
            ]
          },
          "metadata": {
            "tags": []
          },
          "execution_count": 55
        }
      ]
    },
    {
      "cell_type": "markdown",
      "metadata": {
        "id": "xFdC0ZN9wg4a",
        "colab_type": "text"
      },
      "source": [
        "Natural log makes it better in terms of visualization and long term comparison, make the data look more linear. That is why I will be plotting both real and natural log line graphs."
      ]
    },
    {
      "cell_type": "markdown",
      "metadata": {
        "id": "HGaFBbLTw_S5",
        "colab_type": "text"
      },
      "source": [
        "# Model of choice"
      ]
    },
    {
      "cell_type": "markdown",
      "metadata": {
        "id": "GFx-62fSxFtE",
        "colab_type": "text"
      },
      "source": [
        "True exponential does not exist, but exponential growth is assumed until the inflection point has arrived. Linear Regression is applied."
      ]
    },
    {
      "cell_type": "markdown",
      "metadata": {
        "id": "SAigzuEhxGAl",
        "colab_type": "text"
      },
      "source": [
        "## Logistic Regression\n",
        "### Ordinary Least Squared Regression"
      ]
    },
    {
      "cell_type": "code",
      "metadata": {
        "id": "AuTgGKD8yFr2",
        "colab_type": "code",
        "outputId": "c6449cd9-2419-4917-ed76-fa63badac368",
        "colab": {
          "base_uri": "https://localhost:8080/",
          "height": 478
        }
      },
      "source": [
        "X = confirmed_df.ndays\n",
        "X = sm.add_constant(X)\n",
        "y = confirmed_df.logCase\n",
        "model = sm.OLS(y, X)\n",
        "result = model.fit()\n",
        "result.summary()"
      ],
      "execution_count": 56,
      "outputs": [
        {
          "output_type": "stream",
          "text": [
            "/usr/local/lib/python3.6/dist-packages/scipy/stats/stats.py:1535: UserWarning: kurtosistest only valid for n>=20 ... continuing anyway, n=11\n",
            "  \"anyway, n=%i\" % int(n))\n"
          ],
          "name": "stderr"
        },
        {
          "output_type": "execute_result",
          "data": {
            "text/html": [
              "<table class=\"simpletable\">\n",
              "<caption>OLS Regression Results</caption>\n",
              "<tr>\n",
              "  <th>Dep. Variable:</th>         <td>logCase</td>     <th>  R-squared:         </th> <td>   0.958</td>\n",
              "</tr>\n",
              "<tr>\n",
              "  <th>Model:</th>                   <td>OLS</td>       <th>  Adj. R-squared:    </th> <td>   0.954</td>\n",
              "</tr>\n",
              "<tr>\n",
              "  <th>Method:</th>             <td>Least Squares</td>  <th>  F-statistic:       </th> <td>   207.9</td>\n",
              "</tr>\n",
              "<tr>\n",
              "  <th>Date:</th>             <td>Sat, 04 Apr 2020</td> <th>  Prob (F-statistic):</th> <td>1.59e-07</td>\n",
              "</tr>\n",
              "<tr>\n",
              "  <th>Time:</th>                 <td>05:24:23</td>     <th>  Log-Likelihood:    </th> <td>  3.8243</td>\n",
              "</tr>\n",
              "<tr>\n",
              "  <th>No. Observations:</th>      <td>    11</td>      <th>  AIC:               </th> <td>  -3.649</td>\n",
              "</tr>\n",
              "<tr>\n",
              "  <th>Df Residuals:</th>          <td>     9</td>      <th>  BIC:               </th> <td>  -2.853</td>\n",
              "</tr>\n",
              "<tr>\n",
              "  <th>Df Model:</th>              <td>     1</td>      <th>                     </th>     <td> </td>   \n",
              "</tr>\n",
              "<tr>\n",
              "  <th>Covariance Type:</th>      <td>nonrobust</td>    <th>                     </th>     <td> </td>   \n",
              "</tr>\n",
              "</table>\n",
              "<table class=\"simpletable\">\n",
              "<tr>\n",
              "    <td></td>       <th>coef</th>     <th>std err</th>      <th>t</th>      <th>P>|t|</th>  <th>[0.025</th>    <th>0.975]</th>  \n",
              "</tr>\n",
              "<tr>\n",
              "  <th>const</th> <td>    0.5885</td> <td>    0.107</td> <td>    5.522</td> <td> 0.000</td> <td>    0.347</td> <td>    0.830</td>\n",
              "</tr>\n",
              "<tr>\n",
              "  <th>ndays</th> <td>    0.2597</td> <td>    0.018</td> <td>   14.417</td> <td> 0.000</td> <td>    0.219</td> <td>    0.300</td>\n",
              "</tr>\n",
              "</table>\n",
              "<table class=\"simpletable\">\n",
              "<tr>\n",
              "  <th>Omnibus:</th>       <td> 0.627</td> <th>  Durbin-Watson:     </th> <td>   1.223</td>\n",
              "</tr>\n",
              "<tr>\n",
              "  <th>Prob(Omnibus):</th> <td> 0.731</td> <th>  Jarque-Bera (JB):  </th> <td>   0.556</td>\n",
              "</tr>\n",
              "<tr>\n",
              "  <th>Skew:</th>          <td> 0.104</td> <th>  Prob(JB):          </th> <td>   0.757</td>\n",
              "</tr>\n",
              "<tr>\n",
              "  <th>Kurtosis:</th>      <td> 1.919</td> <th>  Cond. No.          </th> <td>    11.3</td>\n",
              "</tr>\n",
              "</table><br/><br/>Warnings:<br/>[1] Standard Errors assume that the covariance matrix of the errors is correctly specified."
            ],
            "text/plain": [
              "<class 'statsmodels.iolib.summary.Summary'>\n",
              "\"\"\"\n",
              "                            OLS Regression Results                            \n",
              "==============================================================================\n",
              "Dep. Variable:                logCase   R-squared:                       0.958\n",
              "Model:                            OLS   Adj. R-squared:                  0.954\n",
              "Method:                 Least Squares   F-statistic:                     207.9\n",
              "Date:                Sat, 04 Apr 2020   Prob (F-statistic):           1.59e-07\n",
              "Time:                        05:24:23   Log-Likelihood:                 3.8243\n",
              "No. Observations:                  11   AIC:                            -3.649\n",
              "Df Residuals:                       9   BIC:                            -2.853\n",
              "Df Model:                           1                                         \n",
              "Covariance Type:            nonrobust                                         \n",
              "==============================================================================\n",
              "                 coef    std err          t      P>|t|      [0.025      0.975]\n",
              "------------------------------------------------------------------------------\n",
              "const          0.5885      0.107      5.522      0.000       0.347       0.830\n",
              "ndays          0.2597      0.018     14.417      0.000       0.219       0.300\n",
              "==============================================================================\n",
              "Omnibus:                        0.627   Durbin-Watson:                   1.223\n",
              "Prob(Omnibus):                  0.731   Jarque-Bera (JB):                0.556\n",
              "Skew:                           0.104   Prob(JB):                        0.757\n",
              "Kurtosis:                       1.919   Cond. No.                         11.3\n",
              "==============================================================================\n",
              "\n",
              "Warnings:\n",
              "[1] Standard Errors assume that the covariance matrix of the errors is correctly specified.\n",
              "\"\"\""
            ]
          },
          "metadata": {
            "tags": []
          },
          "execution_count": 56
        }
      ]
    },
    {
      "cell_type": "markdown",
      "metadata": {
        "id": "n12sI9dEya7A",
        "colab_type": "text"
      },
      "source": [
        "Exponential Formaula<br> y = ab<sup>x</sup> <br>\n",
        "a = Initial Value<br>\n",
        "b = Rate of Change<br>\n",
        "x = The feature ( Here it is time )<br>\n",
        "\n",
        "b = (1+r) = Growth Rate <- Before Inflection <br>\n",
        "b = (1-r) = Decay Rate <- After Inflection <br>\n",
        "\n",
        "In the summary, \"constant stands\" for initial \"a\".<br>\n",
        "\"ndays\" is the coefficient of \"time\", which means the value increasing y as x is increased by 1. In our case, the number of cases to increase as the next day comes."
      ]
    },
    {
      "cell_type": "code",
      "metadata": {
        "id": "Rk_huG2pzvjT",
        "colab_type": "code",
        "colab": {}
      },
      "source": [
        "def linear_predictions(t):\n",
        "    return np.exp(result.params[\"const\"]) * np.exp(result.params[\"ndays\"]) ** t"
      ],
      "execution_count": 0,
      "outputs": []
    },
    {
      "cell_type": "markdown",
      "metadata": {
        "id": "KqJKNU38zyrK",
        "colab_type": "text"
      },
      "source": [
        "As we fitted our model with natural log values, we should change them back to real numbers to predict."
      ]
    },
    {
      "cell_type": "markdown",
      "metadata": {
        "id": "jClR8K740EVc",
        "colab_type": "text"
      },
      "source": [
        "# Next Week Prediction"
      ]
    },
    {
      "cell_type": "code",
      "metadata": {
        "id": "rrqFbmyI0Cw-",
        "colab_type": "code",
        "outputId": "bd7a5cb4-bf01-409a-ac5c-fb40acbf827a",
        "colab": {
          "base_uri": "https://localhost:8080/",
          "height": 483
        }
      },
      "source": [
        "ndays = len(confirmed_df)+3\n",
        "nextweek_df = pd.DataFrame(columns=[\"ndays\",\"Date\"])\n",
        "nextweek_df[\"ndays\"] = np.arange(ndays)\n",
        "nextweek_df.loc[0,\"Date\"]=confirmed_df.loc[0,\"Date\"]\n",
        "for i in range(1,len(nextweek_df)):\n",
        "    nextweek_df.loc[i,\"Date\"] = nextweek_df.loc[i-1,\"Date\"] + pd.Timedelta(days=1)\n",
        "    i=i+1\n",
        "nextweek_df[\"Predictions\"] = nextweek_df.ndays.apply(linear_predictions)\n",
        "\n",
        "# Natural Log of Predicted Cases\n",
        "nextweek_df[\"logPredictions\"] = np.log(nextweek_df.Predictions).astype(float)\n",
        "\n",
        "nextweek_df"
      ],
      "execution_count": 58,
      "outputs": [
        {
          "output_type": "execute_result",
          "data": {
            "text/html": [
              "<div>\n",
              "<style scoped>\n",
              "    .dataframe tbody tr th:only-of-type {\n",
              "        vertical-align: middle;\n",
              "    }\n",
              "\n",
              "    .dataframe tbody tr th {\n",
              "        vertical-align: top;\n",
              "    }\n",
              "\n",
              "    .dataframe thead th {\n",
              "        text-align: right;\n",
              "    }\n",
              "</style>\n",
              "<table border=\"1\" class=\"dataframe\">\n",
              "  <thead>\n",
              "    <tr style=\"text-align: right;\">\n",
              "      <th></th>\n",
              "      <th>ndays</th>\n",
              "      <th>Date</th>\n",
              "      <th>Predictions</th>\n",
              "      <th>logPredictions</th>\n",
              "    </tr>\n",
              "  </thead>\n",
              "  <tbody>\n",
              "    <tr>\n",
              "      <th>0</th>\n",
              "      <td>0</td>\n",
              "      <td>2020-03-23 00:00:00</td>\n",
              "      <td>1.801348</td>\n",
              "      <td>0.588536</td>\n",
              "    </tr>\n",
              "    <tr>\n",
              "      <th>1</th>\n",
              "      <td>1</td>\n",
              "      <td>2020-03-24 00:00:00</td>\n",
              "      <td>2.335608</td>\n",
              "      <td>0.848272</td>\n",
              "    </tr>\n",
              "    <tr>\n",
              "      <th>2</th>\n",
              "      <td>2</td>\n",
              "      <td>2020-03-25 00:00:00</td>\n",
              "      <td>3.028322</td>\n",
              "      <td>1.108009</td>\n",
              "    </tr>\n",
              "    <tr>\n",
              "      <th>3</th>\n",
              "      <td>3</td>\n",
              "      <td>2020-03-26 00:00:00</td>\n",
              "      <td>3.926488</td>\n",
              "      <td>1.367745</td>\n",
              "    </tr>\n",
              "    <tr>\n",
              "      <th>4</th>\n",
              "      <td>4</td>\n",
              "      <td>2020-03-27 00:00:00</td>\n",
              "      <td>5.091039</td>\n",
              "      <td>1.627482</td>\n",
              "    </tr>\n",
              "    <tr>\n",
              "      <th>5</th>\n",
              "      <td>5</td>\n",
              "      <td>2020-03-28 00:00:00</td>\n",
              "      <td>6.600983</td>\n",
              "      <td>1.887219</td>\n",
              "    </tr>\n",
              "    <tr>\n",
              "      <th>6</th>\n",
              "      <td>6</td>\n",
              "      <td>2020-03-29 00:00:00</td>\n",
              "      <td>8.558759</td>\n",
              "      <td>2.146955</td>\n",
              "    </tr>\n",
              "    <tr>\n",
              "      <th>7</th>\n",
              "      <td>7</td>\n",
              "      <td>2020-03-30 00:00:00</td>\n",
              "      <td>11.097189</td>\n",
              "      <td>2.406692</td>\n",
              "    </tr>\n",
              "    <tr>\n",
              "      <th>8</th>\n",
              "      <td>8</td>\n",
              "      <td>2020-03-31 00:00:00</td>\n",
              "      <td>14.388489</td>\n",
              "      <td>2.666428</td>\n",
              "    </tr>\n",
              "    <tr>\n",
              "      <th>9</th>\n",
              "      <td>9</td>\n",
              "      <td>2020-04-01 00:00:00</td>\n",
              "      <td>18.655950</td>\n",
              "      <td>2.926165</td>\n",
              "    </tr>\n",
              "    <tr>\n",
              "      <th>10</th>\n",
              "      <td>10</td>\n",
              "      <td>2020-04-02 00:00:00</td>\n",
              "      <td>24.189091</td>\n",
              "      <td>3.185902</td>\n",
              "    </tr>\n",
              "    <tr>\n",
              "      <th>11</th>\n",
              "      <td>11</td>\n",
              "      <td>2020-04-03 00:00:00</td>\n",
              "      <td>31.363298</td>\n",
              "      <td>3.445638</td>\n",
              "    </tr>\n",
              "    <tr>\n",
              "      <th>12</th>\n",
              "      <td>12</td>\n",
              "      <td>2020-04-04 00:00:00</td>\n",
              "      <td>40.665293</td>\n",
              "      <td>3.705375</td>\n",
              "    </tr>\n",
              "    <tr>\n",
              "      <th>13</th>\n",
              "      <td>13</td>\n",
              "      <td>2020-04-05 00:00:00</td>\n",
              "      <td>52.726153</td>\n",
              "      <td>3.965112</td>\n",
              "    </tr>\n",
              "  </tbody>\n",
              "</table>\n",
              "</div>"
            ],
            "text/plain": [
              "    ndays                 Date  Predictions  logPredictions\n",
              "0       0  2020-03-23 00:00:00     1.801348        0.588536\n",
              "1       1  2020-03-24 00:00:00     2.335608        0.848272\n",
              "2       2  2020-03-25 00:00:00     3.028322        1.108009\n",
              "3       3  2020-03-26 00:00:00     3.926488        1.367745\n",
              "4       4  2020-03-27 00:00:00     5.091039        1.627482\n",
              "5       5  2020-03-28 00:00:00     6.600983        1.887219\n",
              "6       6  2020-03-29 00:00:00     8.558759        2.146955\n",
              "7       7  2020-03-30 00:00:00    11.097189        2.406692\n",
              "8       8  2020-03-31 00:00:00    14.388489        2.666428\n",
              "9       9  2020-04-01 00:00:00    18.655950        2.926165\n",
              "10     10  2020-04-02 00:00:00    24.189091        3.185902\n",
              "11     11  2020-04-03 00:00:00    31.363298        3.445638\n",
              "12     12  2020-04-04 00:00:00    40.665293        3.705375\n",
              "13     13  2020-04-05 00:00:00    52.726153        3.965112"
            ]
          },
          "metadata": {
            "tags": []
          },
          "execution_count": 58
        }
      ]
    },
    {
      "cell_type": "markdown",
      "metadata": {
        "id": "POlLAmet0NBp",
        "colab_type": "text"
      },
      "source": [
        "Although I stated next week, here I added only \"3\". Since our data and history is very short right now, it is not sufficient to predict far without sacraficing. This currently here is a proof of concept. We shall increase the data and after that, we should pursure further analysis."
      ]
    },
    {
      "cell_type": "markdown",
      "metadata": {
        "id": "cvvX1sd70pep",
        "colab_type": "text"
      },
      "source": [
        "# Real Number Plot"
      ]
    },
    {
      "cell_type": "code",
      "metadata": {
        "id": "1HdSZXF3lQvM",
        "colab_type": "code",
        "colab": {}
      },
      "source": [
        "real = str(confirmed_df[\"Date\"][confirmed_df.index[-1]])+\"_real.svg\"\n",
        "log = str(confirmed_df[\"Date\"][confirmed_df.index[-1]])+\"_log.svg\""
      ],
      "execution_count": 0,
      "outputs": []
    },
    {
      "cell_type": "code",
      "metadata": {
        "id": "672JOT-V0rcy",
        "colab_type": "code",
        "outputId": "ee0e9308-0472-462c-99ab-b0a1dbde3cea",
        "colab": {
          "base_uri": "https://localhost:8080/",
          "height": 356
        }
      },
      "source": [
        "confirmed_x = pd.date_range(start=confirmed_df[\"Date\"][confirmed_df.index[0]], end=confirmed_df[\"Date\"][confirmed_df.index[-1]])\n",
        "confirmed_y = confirmed_df[\"Case\"].tolist()\n",
        "confirmed_plot = pd.Series(data=confirmed_y, index=confirmed_x)\n",
        "\n",
        "nextweek_x = pd.date_range(start=nextweek_df[\"Date\"][nextweek_df.index[0]], end=nextweek_df[\"Date\"][nextweek_df.index[-1]])\n",
        "nextweek_y = nextweek_df[\"Predictions\"].tolist()\n",
        "nextweek_plot = pd.Series(data=nextweek_y, index=nextweek_x)\n",
        "\n",
        "fig, ax = plt.subplots()\n",
        "ax.plot(confirmed_plot, label=\"Confirmed\", color=\"red\")\n",
        "ax.plot(nextweek_plot, label=\"Predicted\", color =\"blue\")\n",
        "legend = ax.legend(loc=\"upper left\", fontsize=\"large\")\n",
        "plt.xlabel(\"Date\")\n",
        "plt.ylabel(\"Infections\")\n",
        "plt.suptitle(\"Predicted number of cases vs comfirmed number of cases\")\n",
        "plt.title(\"As of \"+str(confirmed_df[\"Date\"][confirmed_df.index[-1]]))\n",
        "plt.xticks(rotation=90)\n",
        "plt.savefig(real, bbox_inches = \"tight\")\n",
        "plt.show()\n",
        "files.download(real)"
      ],
      "execution_count": 60,
      "outputs": [
        {
          "output_type": "display_data",
          "data": {
            "image/png": "[encoded data removed]",
            "text/plain": [
              "<Figure size 432x288 with 1 Axes>"
            ]
          },
          "metadata": {
            "tags": []
          }
        }
      ]
    },
    {
      "cell_type": "markdown",
      "metadata": {
        "id": "6GqiZScX0tbM",
        "colab_type": "text"
      },
      "source": [
        "# Natural Log Plot"
      ]
    },
    {
      "cell_type": "code",
      "metadata": {
        "id": "sfR6seGg0u3I",
        "colab_type": "code",
        "outputId": "3c25a258-5a55-4e52-ce10-20d0fb74e958",
        "colab": {
          "base_uri": "https://localhost:8080/",
          "height": 356
        }
      },
      "source": [
        "confirmed_logy = confirmed_df[\"logCase\"].tolist()\n",
        "confirmed_logplot = pd.Series(data=confirmed_logy, index=confirmed_x)\n",
        "\n",
        "nextweek_logy = nextweek_df[\"logPredictions\"].tolist()\n",
        "nextweek_logplot = pd.Series(data=nextweek_logy, index=nextweek_x)\n",
        "\n",
        "fig, ax = plt.subplots()\n",
        "ax.plot(confirmed_logplot, label=\"Confirmed\", color=\"red\")\n",
        "ax.plot(nextweek_logplot, label=\"Predicted\", color =\"blue\")\n",
        "legend = ax.legend(loc=\"upper left\", fontsize=\"large\")\n",
        "plt.xlabel(\"Date\")\n",
        "plt.ylabel(\"Infections\")\n",
        "plt.suptitle(\"Predicted number of cases vs confirmed number of cases (Natural Log)\")\n",
        "plt.title(\"As of \"+str(confirmed_df[\"Date\"][confirmed_df.index[-1]]))\n",
        "plt.xticks(rotation=90)\n",
        "plt.savefig(log, bbox_inches = \"tight\")\n",
        "plt.show()\n",
        "files.download(log)"
      ],
      "execution_count": 61,
      "outputs": [
        {
          "output_type": "display_data",
          "data": {
            "image/png": "[encoded data removed]",
            "text/plain": [
              "<Figure size 432x288 with 1 Axes>"
            ]
          },
          "metadata": {
            "tags": []
          }
        }
      ]
    },
    {
      "cell_type": "code",
      "metadata": {
        "id": "3MrWdZHQIOCB",
        "colab_type": "code",
        "colab": {}
      },
      "source": [
        "%reset"
      ],
      "execution_count": 0,
      "outputs": []
    }
  ]
}