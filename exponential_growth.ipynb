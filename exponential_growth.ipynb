{
  "nbformat": 4,
  "nbformat_minor": 0,
  "metadata": {
    "colab": {
      "name": "exponential_growth.ipynb",
      "provenance": [],
      "collapsed_sections": [],
      "authorship_tag": "ABX9TyP104LtyXvjZmqVLIxFWvwg",
      "include_colab_link": true
    },
    "kernelspec": {
      "name": "python3",
      "display_name": "Python 3"
    }
  },
  "cells": [
    {
      "cell_type": "markdown",
      "metadata": {
        "id": "view-in-github",
        "colab_type": "text"
      },
      "source": [
        "<a href=\"https://colab.research.google.com/github/finerbrighterlighter/myanmar_covid19/blob/master/exponential_growth.ipynb\" target=\"_parent\"><img src=\"https://colab.research.google.com/assets/colab-badge.svg\" alt=\"Open In Colab\"/></a>"
      ]
    },
    {
      "cell_type": "markdown",
      "metadata": {
        "id": "uPFp-CtDv3Vu",
        "colab_type": "text"
      },
      "source": [
        "#Libraries"
      ]
    },
    {
      "cell_type": "code",
      "metadata": {
        "id": "CFfhKjxfv2Ik",
        "colab_type": "code",
        "colab": {
          "base_uri": "https://localhost:8080/",
          "height": 71
        },
        "outputId": "dedab988-c53c-4f49-fb1d-a72d4dbd7a66"
      },
      "source": [
        "import statsmodels.api as sm\n",
        "import pandas as pd\n",
        "import numpy as np\n",
        "import matplotlib.pyplot as plt\n",
        "from google.colab import files\n",
        "import warnings\n",
        "warnings.simplefilter(action='ignore', category=FutureWarning)"
      ],
      "execution_count": 1,
      "outputs": [
        {
          "output_type": "stream",
          "text": [
            "/usr/local/lib/python3.6/dist-packages/statsmodels/tools/_testing.py:19: FutureWarning: pandas.util.testing is deprecated. Use the functions in the public API at pandas.testing instead.\n",
            "  import pandas.util.testing as tm\n"
          ],
          "name": "stderr"
        }
      ]
    },
    {
      "cell_type": "markdown",
      "metadata": {
        "id": "fntllV2nwF4X",
        "colab_type": "text"
      },
      "source": [
        "#Data"
      ]
    },
    {
      "cell_type": "markdown",
      "metadata": {
        "id": "9e37oPlWwIAs",
        "colab_type": "text"
      },
      "source": [
        "Since the Government fails to provide a complete and open dataset for disease status in the country, several young doctors in Myanmar volunteered on their own to monitor announcements. Current data applied is collected by Dr. Nyein Chan Ko Ko."
      ]
    },
    {
      "cell_type": "code",
      "metadata": {
        "id": "r6OOsz9trkb4",
        "colab_type": "code",
        "colab": {}
      },
      "source": [
        "data = \"https://raw.githubusercontent.com/finerbrighterlighter/myanmar_covid19/master/announced_cases.csv\"\n",
        "columns = [\"Date\",\"Announced\"]"
      ],
      "execution_count": 0,
      "outputs": []
    },
    {
      "cell_type": "code",
      "metadata": {
        "id": "YLz7ziYSwk0p",
        "colab_type": "code",
        "outputId": "13717323-194f-49a2-b5f8-0e3584b3bb3f",
        "colab": {
          "base_uri": "https://localhost:8080/",
          "height": 238
        }
      },
      "source": [
        "confirmed_df = pd.read_csv(data,names = columns) \n",
        "confirmed_df[\"Date\"] = pd.to_datetime(confirmed_df[\"Date\"])\n",
        "confirmed_df[\"Case\"] = confirmed_df[\"Announced\"].cumsum()\n",
        "confirmed_df[\"ndays\"] = np.arange(len(confirmed_df))\n",
        "\n",
        "# Natural Log of Real Cases\n",
        "confirmed_df[\"logCase\"] = np.log(confirmed_df.Case).astype(float)\n",
        "\n",
        "print(confirmed_df)"
      ],
      "execution_count": 3,
      "outputs": [
        {
          "output_type": "stream",
          "text": [
            "         Date  Announced  Case  ndays   logCase\n",
            "0  2020-03-21          1     1      0  0.000000\n",
            "1  2020-03-22          0     1      1  0.000000\n",
            "2  2020-03-23          2     3      2  1.098612\n",
            "3  2020-03-24          0     3      3  1.098612\n",
            "4  2020-03-25          2     5      4  1.609438\n",
            "5  2020-03-26          3     8      5  2.079442\n",
            "6  2020-03-27          0     8      6  2.079442\n",
            "7  2020-03-28          0     8      7  2.079442\n",
            "8  2020-03-29          2    10      8  2.302585\n",
            "9  2020-03-30          4    14      9  2.639057\n",
            "10 2020-03-31          1    15     10  2.708050\n",
            "11 2020-04-01          1    16     11  2.772589\n"
          ],
          "name": "stdout"
        }
      ]
    },
    {
      "cell_type": "markdown",
      "metadata": {
        "id": "xFdC0ZN9wg4a",
        "colab_type": "text"
      },
      "source": [
        "Natural log makes it better in terms of visualization and long term comparison, make the data look more linear. That is why I will be plotting both real and natural log line graphs."
      ]
    },
    {
      "cell_type": "markdown",
      "metadata": {
        "id": "HGaFBbLTw_S5",
        "colab_type": "text"
      },
      "source": [
        "# Model of choice"
      ]
    },
    {
      "cell_type": "markdown",
      "metadata": {
        "id": "GFx-62fSxFtE",
        "colab_type": "text"
      },
      "source": [
        "True exponential does not exist, but exponential growth is assumed until the inflection point has arrived. Linear Regression is applied."
      ]
    },
    {
      "cell_type": "markdown",
      "metadata": {
        "id": "SAigzuEhxGAl",
        "colab_type": "text"
      },
      "source": [
        "## Logistic Regression\n",
        "### Ordinary Least Squared Regression"
      ]
    },
    {
      "cell_type": "code",
      "metadata": {
        "id": "AuTgGKD8yFr2",
        "colab_type": "code",
        "outputId": "65e275d8-9cf3-4ff7-c429-a9d7ecbd8dd5",
        "colab": {
          "base_uri": "https://localhost:8080/",
          "height": 478
        }
      },
      "source": [
        "X = confirmed_df.ndays\n",
        "X = sm.add_constant(X)\n",
        "y = confirmed_df.logCase\n",
        "model = sm.OLS(y, X)\n",
        "result = model.fit()\n",
        "result.summary()"
      ],
      "execution_count": 4,
      "outputs": [
        {
          "output_type": "stream",
          "text": [
            "/usr/local/lib/python3.6/dist-packages/scipy/stats/stats.py:1535: UserWarning: kurtosistest only valid for n>=20 ... continuing anyway, n=12\n",
            "  \"anyway, n=%i\" % int(n))\n"
          ],
          "name": "stderr"
        },
        {
          "output_type": "execute_result",
          "data": {
            "text/html": [
              "<table class=\"simpletable\">\n",
              "<caption>OLS Regression Results</caption>\n",
              "<tr>\n",
              "  <th>Dep. Variable:</th>         <td>logCase</td>     <th>  R-squared:         </th> <td>   0.902</td>\n",
              "</tr>\n",
              "<tr>\n",
              "  <th>Model:</th>                   <td>OLS</td>       <th>  Adj. R-squared:    </th> <td>   0.892</td>\n",
              "</tr>\n",
              "<tr>\n",
              "  <th>Method:</th>             <td>Least Squares</td>  <th>  F-statistic:       </th> <td>   91.84</td>\n",
              "</tr>\n",
              "<tr>\n",
              "  <th>Date:</th>             <td>Wed, 01 Apr 2020</td> <th>  Prob (F-statistic):</th> <td>2.34e-06</td>\n",
              "</tr>\n",
              "<tr>\n",
              "  <th>Time:</th>                 <td>18:58:42</td>     <th>  Log-Likelihood:    </th> <td> -2.2176</td>\n",
              "</tr>\n",
              "<tr>\n",
              "  <th>No. Observations:</th>      <td>    12</td>      <th>  AIC:               </th> <td>   8.435</td>\n",
              "</tr>\n",
              "<tr>\n",
              "  <th>Df Residuals:</th>          <td>    10</td>      <th>  BIC:               </th> <td>   9.405</td>\n",
              "</tr>\n",
              "<tr>\n",
              "  <th>Df Model:</th>              <td>     1</td>      <th>                     </th>     <td> </td>   \n",
              "</tr>\n",
              "<tr>\n",
              "  <th>Covariance Type:</th>      <td>nonrobust</td>    <th>                     </th>     <td> </td>   \n",
              "</tr>\n",
              "</table>\n",
              "<table class=\"simpletable\">\n",
              "<tr>\n",
              "    <td></td>       <th>coef</th>     <th>std err</th>      <th>t</th>      <th>P>|t|</th>  <th>[0.025</th>    <th>0.975]</th>  \n",
              "</tr>\n",
              "<tr>\n",
              "  <th>const</th> <td>    0.3001</td> <td>    0.173</td> <td>    1.733</td> <td> 0.114</td> <td>   -0.086</td> <td>    0.686</td>\n",
              "</tr>\n",
              "<tr>\n",
              "  <th>ndays</th> <td>    0.2555</td> <td>    0.027</td> <td>    9.583</td> <td> 0.000</td> <td>    0.196</td> <td>    0.315</td>\n",
              "</tr>\n",
              "</table>\n",
              "<table class=\"simpletable\">\n",
              "<tr>\n",
              "  <th>Omnibus:</th>       <td> 0.133</td> <th>  Durbin-Watson:     </th> <td>   1.143</td>\n",
              "</tr>\n",
              "<tr>\n",
              "  <th>Prob(Omnibus):</th> <td> 0.936</td> <th>  Jarque-Bera (JB):  </th> <td>   0.311</td>\n",
              "</tr>\n",
              "<tr>\n",
              "  <th>Skew:</th>          <td>-0.176</td> <th>  Prob(JB):          </th> <td>   0.856</td>\n",
              "</tr>\n",
              "<tr>\n",
              "  <th>Kurtosis:</th>      <td> 2.294</td> <th>  Cond. No.          </th> <td>    12.4</td>\n",
              "</tr>\n",
              "</table><br/><br/>Warnings:<br/>[1] Standard Errors assume that the covariance matrix of the errors is correctly specified."
            ],
            "text/plain": [
              "<class 'statsmodels.iolib.summary.Summary'>\n",
              "\"\"\"\n",
              "                            OLS Regression Results                            \n",
              "==============================================================================\n",
              "Dep. Variable:                logCase   R-squared:                       0.902\n",
              "Model:                            OLS   Adj. R-squared:                  0.892\n",
              "Method:                 Least Squares   F-statistic:                     91.84\n",
              "Date:                Wed, 01 Apr 2020   Prob (F-statistic):           2.34e-06\n",
              "Time:                        18:58:42   Log-Likelihood:                -2.2176\n",
              "No. Observations:                  12   AIC:                             8.435\n",
              "Df Residuals:                      10   BIC:                             9.405\n",
              "Df Model:                           1                                         \n",
              "Covariance Type:            nonrobust                                         \n",
              "==============================================================================\n",
              "                 coef    std err          t      P>|t|      [0.025      0.975]\n",
              "------------------------------------------------------------------------------\n",
              "const          0.3001      0.173      1.733      0.114      -0.086       0.686\n",
              "ndays          0.2555      0.027      9.583      0.000       0.196       0.315\n",
              "==============================================================================\n",
              "Omnibus:                        0.133   Durbin-Watson:                   1.143\n",
              "Prob(Omnibus):                  0.936   Jarque-Bera (JB):                0.311\n",
              "Skew:                          -0.176   Prob(JB):                        0.856\n",
              "Kurtosis:                       2.294   Cond. No.                         12.4\n",
              "==============================================================================\n",
              "\n",
              "Warnings:\n",
              "[1] Standard Errors assume that the covariance matrix of the errors is correctly specified.\n",
              "\"\"\""
            ]
          },
          "metadata": {
            "tags": []
          },
          "execution_count": 4
        }
      ]
    },
    {
      "cell_type": "markdown",
      "metadata": {
        "id": "n12sI9dEya7A",
        "colab_type": "text"
      },
      "source": [
        "Exponential Formaula<br> y = ab<sup>x</sup> <br>\n",
        "a = Initial Value<br>\n",
        "b = Rate of Change<br>\n",
        "x = The feature ( Here it is time )<br>\n",
        "\n",
        "b = (1+r) = Growth Rate <- Before Inflection <br>\n",
        "b = (1-r) = Decay Rate <- After Inflection <br>\n",
        "\n",
        "In the summary, \"constant stands\" for initial \"a\".<br>\n",
        "\"ndays\" is the coefficient of \"time\", which means the value increasing y as x is increased by 1. In our case, the number of cases to increase as the next day comes."
      ]
    },
    {
      "cell_type": "code",
      "metadata": {
        "id": "Rk_huG2pzvjT",
        "colab_type": "code",
        "colab": {}
      },
      "source": [
        "def linear_predictions(t):\n",
        "    return np.exp(result.params[\"const\"]) * np.exp(result.params[\"ndays\"]) ** t"
      ],
      "execution_count": 0,
      "outputs": []
    },
    {
      "cell_type": "markdown",
      "metadata": {
        "id": "KqJKNU38zyrK",
        "colab_type": "text"
      },
      "source": [
        "As we fitted our model with natural log values, we should change them back to real numbers to predict."
      ]
    },
    {
      "cell_type": "markdown",
      "metadata": {
        "id": "jClR8K740EVc",
        "colab_type": "text"
      },
      "source": [
        "# Next Week Prediction"
      ]
    },
    {
      "cell_type": "code",
      "metadata": {
        "id": "rrqFbmyI0Cw-",
        "colab_type": "code",
        "outputId": "152cac11-fe65-486e-94d3-3bdd0e428a55",
        "colab": {
          "base_uri": "https://localhost:8080/",
          "height": 289
        }
      },
      "source": [
        "ndays = len(confirmed_df)+3\n",
        "nextweek_df = pd.DataFrame(columns=[\"ndays\",\"Date\"])\n",
        "nextweek_df[\"ndays\"] = np.arange(ndays)\n",
        "nextweek_df.loc[0,\"Date\"]=confirmed_df.loc[0,\"Date\"]\n",
        "for i in range(1,len(nextweek_df)):\n",
        "    nextweek_df.loc[i,\"Date\"] = nextweek_df.loc[i-1,\"Date\"] + pd.Timedelta(days=1)\n",
        "    i=i+1\n",
        "nextweek_df[\"Predictions\"] = nextweek_df.ndays.apply(linear_predictions)\n",
        "\n",
        "# Natural Log of Predicted Cases\n",
        "nextweek_df[\"logPredictions\"] = np.log(nextweek_df.Predictions).astype(float)\n",
        "\n",
        "print(nextweek_df)"
      ],
      "execution_count": 6,
      "outputs": [
        {
          "output_type": "stream",
          "text": [
            "    ndays                 Date  Predictions  logPredictions\n",
            "0       0  2020-03-21 00:00:00     1.350056        0.300146\n",
            "1       1  2020-03-22 00:00:00     1.743133        0.555684\n",
            "2       2  2020-03-23 00:00:00     2.250657        0.811222\n",
            "3       3  2020-03-24 00:00:00     2.905950        1.066760\n",
            "4       4  2020-03-25 00:00:00     3.752035        1.322298\n",
            "5       5  2020-03-26 00:00:00     4.844464        1.577837\n",
            "6       6  2020-03-27 00:00:00     6.254960        1.833375\n",
            "7       7  2020-03-28 00:00:00     8.076131        2.088913\n",
            "8       8  2020-03-29 00:00:00    10.427548        2.344451\n",
            "9       9  2020-03-30 00:00:00    13.463594        2.599989\n",
            "10     10  2020-03-31 00:00:00    17.383604        2.855527\n",
            "11     11  2020-04-01 00:00:00    22.444950        3.111066\n",
            "12     12  2020-04-02 00:00:00    28.979939        3.366604\n",
            "13     13  2020-04-03 00:00:00    37.417631        3.622142\n",
            "14     14  2020-04-04 00:00:00    48.312010        3.877680\n"
          ],
          "name": "stdout"
        }
      ]
    },
    {
      "cell_type": "markdown",
      "metadata": {
        "id": "POlLAmet0NBp",
        "colab_type": "text"
      },
      "source": [
        "Although I stated next week, here I added only \"3\". Since our data and history is very short right now, it is not sufficient to predict far without sacraficing. This currently here is a proof of concept. We shall increase the data and after that, we should pursure further analysis."
      ]
    },
    {
      "cell_type": "markdown",
      "metadata": {
        "id": "cvvX1sd70pep",
        "colab_type": "text"
      },
      "source": [
        "# Real Number Plot"
      ]
    },
    {
      "cell_type": "code",
      "metadata": {
        "id": "1HdSZXF3lQvM",
        "colab_type": "code",
        "colab": {}
      },
      "source": [
        "a = str(confirmed_df[\"Date\"][confirmed_df.index[-1]])+\"_real.svg\"\n",
        "b = str(confirmed_df[\"Date\"][confirmed_df.index[-1]])+\"_log.svg\""
      ],
      "execution_count": 0,
      "outputs": []
    },
    {
      "cell_type": "code",
      "metadata": {
        "id": "672JOT-V0rcy",
        "colab_type": "code",
        "outputId": "f2b9009d-9ebf-410b-db6c-02ba5a9060c1",
        "colab": {
          "base_uri": "https://localhost:8080/",
          "height": 356
        }
      },
      "source": [
        "confirmed_x = pd.date_range(start=confirmed_df[\"Date\"][confirmed_df.index[0]], end=confirmed_df[\"Date\"][confirmed_df.index[-1]])\n",
        "confirmed_y = confirmed_df[\"Case\"].tolist()\n",
        "confirmed_plot = pd.Series(data=confirmed_y, index=confirmed_x)\n",
        "\n",
        "nextweek_x = pd.date_range(start=nextweek_df[\"Date\"][nextweek_df.index[0]], end=nextweek_df[\"Date\"][nextweek_df.index[-1]])\n",
        "nextweek_y = nextweek_df[\"Predictions\"].tolist()\n",
        "nextweek_plot = pd.Series(data=nextweek_y, index=nextweek_x)\n",
        "\n",
        "fig, ax = plt.subplots()\n",
        "ax.plot(confirmed_plot, label=\"Confirmed\", color=\"red\")\n",
        "ax.plot(nextweek_plot, label=\"Predicted\", color =\"blue\")\n",
        "legend = ax.legend(loc=\"upper left\", fontsize=\"large\")\n",
        "plt.xlabel(\"Date\")\n",
        "plt.ylabel(\"Infections\")\n",
        "plt.suptitle(\"Predicted number of cases vs comfirmed number of cases\")\n",
        "plt.title(\"As of \"+str(confirmed_df[\"Date\"][confirmed_df.index[-1]]))\n",
        "plt.xticks(rotation=90)\n",
        "plt.savefig(a)\n",
        "plt.show()\n",
        "files.download(a)"
      ],
      "execution_count": 8,
      "outputs": [
        {
          "output_type": "display_data",
          "data": {
            "image/png": "[encoded data removed]",
            "text/plain": [
              "<Figure size 432x288 with 1 Axes>"
            ]
          },
          "metadata": {
            "tags": []
          }
        }
      ]
    },
    {
      "cell_type": "markdown",
      "metadata": {
        "id": "6GqiZScX0tbM",
        "colab_type": "text"
      },
      "source": [
        "# Natural Log Plot"
      ]
    },
    {
      "cell_type": "code",
      "metadata": {
        "id": "sfR6seGg0u3I",
        "colab_type": "code",
        "outputId": "4e452abf-f6b0-4e57-de5c-b8e5ae935ebf",
        "colab": {
          "base_uri": "https://localhost:8080/",
          "height": 356
        }
      },
      "source": [
        "confirmed_logy = confirmed_df[\"logCase\"].tolist()\n",
        "confirmed_logplot = pd.Series(data=confirmed_logy, index=confirmed_x)\n",
        "\n",
        "nextweek_logy = nextweek_df[\"logPredictions\"].tolist()\n",
        "nextweek_logplot = pd.Series(data=nextweek_logy, index=nextweek_x)\n",
        "\n",
        "fig, ax = plt.subplots()\n",
        "ax.plot(confirmed_logplot, label=\"Confirmed\", color=\"red\")\n",
        "ax.plot(nextweek_logplot, label=\"Predicted\", color =\"blue\")\n",
        "legend = ax.legend(loc=\"upper left\", fontsize=\"large\")\n",
        "plt.xlabel(\"Date\")\n",
        "plt.ylabel(\"Infections\")\n",
        "plt.suptitle(\"Predicted number of cases vs confirmed number of cases (Natural Log)\")\n",
        "plt.title(\"As of \"+str(confirmed_df[\"Date\"][confirmed_df.index[-1]]))\n",
        "plt.xticks(rotation=90)\n",
        "plt.savefig(b)\n",
        "plt.show()\n",
        "files.download(b)"
      ],
      "execution_count": 9,
      "outputs": [
        {
          "output_type": "display_data",
          "data": {
            "image/png": "[encoded data removed]",
            "text/plain": [
              "<Figure size 432x288 with 1 Axes>"
            ]
          },
          "metadata": {
            "tags": []
          }
        }
      ]
    },
    {
      "cell_type": "code",
      "metadata": {
        "id": "3MrWdZHQIOCB",
        "colab_type": "code",
        "outputId": "bbd8d1d1-72cb-42bb-fe48-d7222119c216",
        "colab": {
          "base_uri": "https://localhost:8080/",
          "height": 34
        }
      },
      "source": [
        "reset"
      ],
      "execution_count": 10,
      "outputs": [
        {
          "output_type": "stream",
          "text": [
            "Once deleted, variables cannot be recovered. Proceed (y/[n])? y\n"
          ],
          "name": "stdout"
        }
      ]
    }
  ]
}