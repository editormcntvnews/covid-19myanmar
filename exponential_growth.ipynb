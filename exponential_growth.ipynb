{
  "nbformat": 4,
  "nbformat_minor": 0,
  "metadata": {
    "colab": {
      "name": "exponential_growth.ipynb",
      "provenance": [],
      "collapsed_sections": [],
      "authorship_tag": "ABX9TyPGjC+vMi816+bV5lYj/oz4",
      "include_colab_link": true
    },
    "kernelspec": {
      "name": "python3",
      "display_name": "Python 3"
    }
  },
  "cells": [
    {
      "cell_type": "markdown",
      "metadata": {
        "id": "view-in-github",
        "colab_type": "text"
      },
      "source": [
        "<a href=\"https://colab.research.google.com/github/finerbrighterlighter/myanmar_covid19/blob/master/exponential_growth.ipynb\" target=\"_parent\"><img src=\"https://colab.research.google.com/assets/colab-badge.svg\" alt=\"Open In Colab\"/></a>"
      ]
    },
    {
      "cell_type": "markdown",
      "metadata": {
        "id": "uPFp-CtDv3Vu",
        "colab_type": "text"
      },
      "source": [
        "#Libraries"
      ]
    },
    {
      "cell_type": "code",
      "metadata": {
        "id": "CFfhKjxfv2Ik",
        "colab_type": "code",
        "outputId": "5b18355f-8412-4cf6-f07c-41f4350065e0",
        "colab": {
          "base_uri": "https://localhost:8080/",
          "height": 34
        }
      },
      "source": [
        "import statsmodels.api as sm\n",
        "import pandas as pd\n",
        "import numpy as np\n",
        "import matplotlib.pyplot as plt\n",
        "from google.colab import files\n",
        "import warnings\n",
        "warnings.simplefilter(action='ignore', category=FutureWarning)"
      ],
      "execution_count": 41,
      "outputs": [
        {
          "output_type": "stream",
          "text": [
            "ERROR! Session/line number was not unique in database. History logging moved to new session 69\n"
          ],
          "name": "stdout"
        }
      ]
    },
    {
      "cell_type": "markdown",
      "metadata": {
        "id": "fntllV2nwF4X",
        "colab_type": "text"
      },
      "source": [
        "#Data"
      ]
    },
    {
      "cell_type": "markdown",
      "metadata": {
        "id": "9e37oPlWwIAs",
        "colab_type": "text"
      },
      "source": [
        "Since the Government fails to provide a complete and open dataset for disease status in the country, several young doctors in Myanmar volunteered on their own to monitor announcements. Current data applied is collected by Dr. Nyein Chan Ko Ko."
      ]
    },
    {
      "cell_type": "code",
      "metadata": {
        "id": "r6OOsz9trkb4",
        "colab_type": "code",
        "outputId": "4c49bbd9-048b-473b-c982-6eaf35780d52",
        "colab": {
          "base_uri": "https://localhost:8080/",
          "height": 545
        }
      },
      "source": [
        "data = \"https://raw.githubusercontent.com/finerbrighterlighter/myanmar_covid19/master/mohs_announcement.csv\"\n",
        "df = pd.read_csv(data,header= 0)\n",
        "df.insert(loc=0, column=\"case_id\", value=np.arange(1,len(df)+1))\n",
        "df[\"case_id\"] = \"case_\" + df[\"case_id\"].astype(str)\n",
        "df"
      ],
      "execution_count": 42,
      "outputs": [
        {
          "output_type": "execute_result",
          "data": {
            "text/html": [
              "<div>\n",
              "<style scoped>\n",
              "    .dataframe tbody tr th:only-of-type {\n",
              "        vertical-align: middle;\n",
              "    }\n",
              "\n",
              "    .dataframe tbody tr th {\n",
              "        vertical-align: top;\n",
              "    }\n",
              "\n",
              "    .dataframe thead th {\n",
              "        text-align: right;\n",
              "    }\n",
              "</style>\n",
              "<table border=\"1\" class=\"dataframe\">\n",
              "  <thead>\n",
              "    <tr style=\"text-align: right;\">\n",
              "      <th></th>\n",
              "      <th>case_id</th>\n",
              "      <th>age</th>\n",
              "      <th>sex</th>\n",
              "      <th>travel</th>\n",
              "      <th>region</th>\n",
              "      <th>first_date</th>\n",
              "      <th>qua_date</th>\n",
              "      <th>ann_date</th>\n",
              "    </tr>\n",
              "  </thead>\n",
              "  <tbody>\n",
              "    <tr>\n",
              "      <th>0</th>\n",
              "      <td>case_1</td>\n",
              "      <td>36</td>\n",
              "      <td>Male</td>\n",
              "      <td>United States of America</td>\n",
              "      <td>Chin</td>\n",
              "      <td>2020-03-13</td>\n",
              "      <td>2020-03-21</td>\n",
              "      <td>2020-03-23</td>\n",
              "    </tr>\n",
              "    <tr>\n",
              "      <th>1</th>\n",
              "      <td>case_2</td>\n",
              "      <td>26</td>\n",
              "      <td>Male</td>\n",
              "      <td>United Kingdom</td>\n",
              "      <td>Yangon</td>\n",
              "      <td>2020-03-22</td>\n",
              "      <td>2020-03-23</td>\n",
              "      <td>2020-03-23</td>\n",
              "    </tr>\n",
              "    <tr>\n",
              "      <th>2</th>\n",
              "      <td>case_3</td>\n",
              "      <td>26</td>\n",
              "      <td>Male</td>\n",
              "      <td>United Kingdom</td>\n",
              "      <td>Yangon</td>\n",
              "      <td>2020-03-21</td>\n",
              "      <td>2020-03-23</td>\n",
              "      <td>2020-03-25</td>\n",
              "    </tr>\n",
              "    <tr>\n",
              "      <th>3</th>\n",
              "      <td>case_4</td>\n",
              "      <td>33</td>\n",
              "      <td>Male</td>\n",
              "      <td>United States of America</td>\n",
              "      <td>Yangon</td>\n",
              "      <td>2020-03-19</td>\n",
              "      <td>2020-03-25</td>\n",
              "      <td>2020-03-27</td>\n",
              "    </tr>\n",
              "    <tr>\n",
              "      <th>4</th>\n",
              "      <td>case_5</td>\n",
              "      <td>69</td>\n",
              "      <td>Male</td>\n",
              "      <td>Australia</td>\n",
              "      <td>Yangon</td>\n",
              "      <td>2020-03-14</td>\n",
              "      <td>2020-03-25</td>\n",
              "      <td>2020-03-27</td>\n",
              "    </tr>\n",
              "    <tr>\n",
              "      <th>5</th>\n",
              "      <td>case_6</td>\n",
              "      <td>29</td>\n",
              "      <td>Male</td>\n",
              "      <td>United Kingdom</td>\n",
              "      <td>Yangon</td>\n",
              "      <td>2020-03-21</td>\n",
              "      <td>2020-03-26</td>\n",
              "      <td>2020-03-28</td>\n",
              "    </tr>\n",
              "    <tr>\n",
              "      <th>6</th>\n",
              "      <td>case_7</td>\n",
              "      <td>58</td>\n",
              "      <td>Female</td>\n",
              "      <td>Switzerland</td>\n",
              "      <td>Nay Pyi Taw</td>\n",
              "      <td>2020-03-18</td>\n",
              "      <td>2020-03-26</td>\n",
              "      <td>2020-03-28</td>\n",
              "    </tr>\n",
              "    <tr>\n",
              "      <th>7</th>\n",
              "      <td>case_8</td>\n",
              "      <td>60</td>\n",
              "      <td>Female</td>\n",
              "      <td>NaN</td>\n",
              "      <td>Yangon</td>\n",
              "      <td>2020-03-25</td>\n",
              "      <td>2020-03-26</td>\n",
              "      <td>2020-03-28</td>\n",
              "    </tr>\n",
              "    <tr>\n",
              "      <th>8</th>\n",
              "      <td>case_9</td>\n",
              "      <td>44</td>\n",
              "      <td>Male</td>\n",
              "      <td>Thailand</td>\n",
              "      <td>Yangon</td>\n",
              "      <td>2020-03-23</td>\n",
              "      <td>2020-03-26</td>\n",
              "      <td>2020-03-29</td>\n",
              "    </tr>\n",
              "    <tr>\n",
              "      <th>9</th>\n",
              "      <td>case_10</td>\n",
              "      <td>45</td>\n",
              "      <td>Male</td>\n",
              "      <td>NaN</td>\n",
              "      <td>Yangon</td>\n",
              "      <td>2020-03-28</td>\n",
              "      <td>2020-03-28</td>\n",
              "      <td>2020-03-29</td>\n",
              "    </tr>\n",
              "    <tr>\n",
              "      <th>10</th>\n",
              "      <td>case_11</td>\n",
              "      <td>66</td>\n",
              "      <td>Female</td>\n",
              "      <td>France</td>\n",
              "      <td>Yangon</td>\n",
              "      <td>2020-03-28</td>\n",
              "      <td>2020-03-28</td>\n",
              "      <td>2020-03-30</td>\n",
              "    </tr>\n",
              "    <tr>\n",
              "      <th>11</th>\n",
              "      <td>case_12</td>\n",
              "      <td>65</td>\n",
              "      <td>Male</td>\n",
              "      <td>France</td>\n",
              "      <td>Yangon</td>\n",
              "      <td>2020-03-28</td>\n",
              "      <td>2020-03-28</td>\n",
              "      <td>2020-03-30</td>\n",
              "    </tr>\n",
              "    <tr>\n",
              "      <th>12</th>\n",
              "      <td>case_13</td>\n",
              "      <td>61</td>\n",
              "      <td>Female</td>\n",
              "      <td>France</td>\n",
              "      <td>Yangon</td>\n",
              "      <td>2020-03-28</td>\n",
              "      <td>2020-03-28</td>\n",
              "      <td>2020-03-30</td>\n",
              "    </tr>\n",
              "    <tr>\n",
              "      <th>13</th>\n",
              "      <td>case_14</td>\n",
              "      <td>24</td>\n",
              "      <td>Male</td>\n",
              "      <td>Thailand</td>\n",
              "      <td>Shan</td>\n",
              "      <td>2020-03-25</td>\n",
              "      <td>2020-03-28</td>\n",
              "      <td>2020-03-30</td>\n",
              "    </tr>\n",
              "    <tr>\n",
              "      <th>14</th>\n",
              "      <td>case_15</td>\n",
              "      <td>45</td>\n",
              "      <td>Female</td>\n",
              "      <td>NaN</td>\n",
              "      <td>Yangon</td>\n",
              "      <td>2020-03-27</td>\n",
              "      <td>2020-03-30</td>\n",
              "      <td>2020-03-30</td>\n",
              "    </tr>\n",
              "    <tr>\n",
              "      <th>15</th>\n",
              "      <td>case_16</td>\n",
              "      <td>63</td>\n",
              "      <td>Female</td>\n",
              "      <td>NaN</td>\n",
              "      <td>Yangon</td>\n",
              "      <td>2020-03-15</td>\n",
              "      <td>2020-03-31</td>\n",
              "      <td>2020-04-01</td>\n",
              "    </tr>\n",
              "  </tbody>\n",
              "</table>\n",
              "</div>"
            ],
            "text/plain": [
              "    case_id  age     sex  ...  first_date    qua_date    ann_date\n",
              "0    case_1   36    Male  ...  2020-03-13  2020-03-21  2020-03-23\n",
              "1    case_2   26    Male  ...  2020-03-22  2020-03-23  2020-03-23\n",
              "2    case_3   26    Male  ...  2020-03-21  2020-03-23  2020-03-25\n",
              "3    case_4   33    Male  ...  2020-03-19  2020-03-25  2020-03-27\n",
              "4    case_5   69    Male  ...  2020-03-14  2020-03-25  2020-03-27\n",
              "5    case_6   29    Male  ...  2020-03-21  2020-03-26  2020-03-28\n",
              "6    case_7   58  Female  ...  2020-03-18  2020-03-26  2020-03-28\n",
              "7    case_8   60  Female  ...  2020-03-25  2020-03-26  2020-03-28\n",
              "8    case_9   44    Male  ...  2020-03-23  2020-03-26  2020-03-29\n",
              "9   case_10   45    Male  ...  2020-03-28  2020-03-28  2020-03-29\n",
              "10  case_11   66  Female  ...  2020-03-28  2020-03-28  2020-03-30\n",
              "11  case_12   65    Male  ...  2020-03-28  2020-03-28  2020-03-30\n",
              "12  case_13   61  Female  ...  2020-03-28  2020-03-28  2020-03-30\n",
              "13  case_14   24    Male  ...  2020-03-25  2020-03-28  2020-03-30\n",
              "14  case_15   45  Female  ...  2020-03-27  2020-03-30  2020-03-30\n",
              "15  case_16   63  Female  ...  2020-03-15  2020-03-31  2020-04-01\n",
              "\n",
              "[16 rows x 8 columns]"
            ]
          },
          "metadata": {
            "tags": []
          },
          "execution_count": 42
        }
      ]
    },
    {
      "cell_type": "markdown",
      "metadata": {
        "id": "tB8hFUiGJQBA",
        "colab_type": "text"
      },
      "source": [
        "# Timeline"
      ]
    },
    {
      "cell_type": "code",
      "metadata": {
        "id": "_ZpKCBp3JTEE",
        "colab_type": "code",
        "outputId": "7678615d-70ce-4550-b61f-40abc5269f9f",
        "colab": {
          "base_uri": "https://localhost:8080/",
          "height": 545
        }
      },
      "source": [
        "df[\"first_date\"] = pd.to_datetime(df[\"first_date\"])\n",
        "df[\"qua_date\"] = pd.to_datetime(df[\"qua_date\"])\n",
        "df[\"ann_date\"] = pd.to_datetime(df[\"ann_date\"])\n",
        "\n",
        "df[\"until_qua\"] = (df[\"qua_date\"]-df[\"first_date\"]).dt.days\n",
        "df[\"until_ann\"] = (df[\"ann_date\"]-df[\"qua_date\"]).dt.days\n",
        "df"
      ],
      "execution_count": 43,
      "outputs": [
        {
          "output_type": "execute_result",
          "data": {
            "text/html": [
              "<div>\n",
              "<style scoped>\n",
              "    .dataframe tbody tr th:only-of-type {\n",
              "        vertical-align: middle;\n",
              "    }\n",
              "\n",
              "    .dataframe tbody tr th {\n",
              "        vertical-align: top;\n",
              "    }\n",
              "\n",
              "    .dataframe thead th {\n",
              "        text-align: right;\n",
              "    }\n",
              "</style>\n",
              "<table border=\"1\" class=\"dataframe\">\n",
              "  <thead>\n",
              "    <tr style=\"text-align: right;\">\n",
              "      <th></th>\n",
              "      <th>case_id</th>\n",
              "      <th>age</th>\n",
              "      <th>sex</th>\n",
              "      <th>travel</th>\n",
              "      <th>region</th>\n",
              "      <th>first_date</th>\n",
              "      <th>qua_date</th>\n",
              "      <th>ann_date</th>\n",
              "      <th>until_qua</th>\n",
              "      <th>until_ann</th>\n",
              "    </tr>\n",
              "  </thead>\n",
              "  <tbody>\n",
              "    <tr>\n",
              "      <th>0</th>\n",
              "      <td>case_1</td>\n",
              "      <td>36</td>\n",
              "      <td>Male</td>\n",
              "      <td>United States of America</td>\n",
              "      <td>Chin</td>\n",
              "      <td>2020-03-13</td>\n",
              "      <td>2020-03-21</td>\n",
              "      <td>2020-03-23</td>\n",
              "      <td>8</td>\n",
              "      <td>2</td>\n",
              "    </tr>\n",
              "    <tr>\n",
              "      <th>1</th>\n",
              "      <td>case_2</td>\n",
              "      <td>26</td>\n",
              "      <td>Male</td>\n",
              "      <td>United Kingdom</td>\n",
              "      <td>Yangon</td>\n",
              "      <td>2020-03-22</td>\n",
              "      <td>2020-03-23</td>\n",
              "      <td>2020-03-23</td>\n",
              "      <td>1</td>\n",
              "      <td>0</td>\n",
              "    </tr>\n",
              "    <tr>\n",
              "      <th>2</th>\n",
              "      <td>case_3</td>\n",
              "      <td>26</td>\n",
              "      <td>Male</td>\n",
              "      <td>United Kingdom</td>\n",
              "      <td>Yangon</td>\n",
              "      <td>2020-03-21</td>\n",
              "      <td>2020-03-23</td>\n",
              "      <td>2020-03-25</td>\n",
              "      <td>2</td>\n",
              "      <td>2</td>\n",
              "    </tr>\n",
              "    <tr>\n",
              "      <th>3</th>\n",
              "      <td>case_4</td>\n",
              "      <td>33</td>\n",
              "      <td>Male</td>\n",
              "      <td>United States of America</td>\n",
              "      <td>Yangon</td>\n",
              "      <td>2020-03-19</td>\n",
              "      <td>2020-03-25</td>\n",
              "      <td>2020-03-27</td>\n",
              "      <td>6</td>\n",
              "      <td>2</td>\n",
              "    </tr>\n",
              "    <tr>\n",
              "      <th>4</th>\n",
              "      <td>case_5</td>\n",
              "      <td>69</td>\n",
              "      <td>Male</td>\n",
              "      <td>Australia</td>\n",
              "      <td>Yangon</td>\n",
              "      <td>2020-03-14</td>\n",
              "      <td>2020-03-25</td>\n",
              "      <td>2020-03-27</td>\n",
              "      <td>11</td>\n",
              "      <td>2</td>\n",
              "    </tr>\n",
              "    <tr>\n",
              "      <th>5</th>\n",
              "      <td>case_6</td>\n",
              "      <td>29</td>\n",
              "      <td>Male</td>\n",
              "      <td>United Kingdom</td>\n",
              "      <td>Yangon</td>\n",
              "      <td>2020-03-21</td>\n",
              "      <td>2020-03-26</td>\n",
              "      <td>2020-03-28</td>\n",
              "      <td>5</td>\n",
              "      <td>2</td>\n",
              "    </tr>\n",
              "    <tr>\n",
              "      <th>6</th>\n",
              "      <td>case_7</td>\n",
              "      <td>58</td>\n",
              "      <td>Female</td>\n",
              "      <td>Switzerland</td>\n",
              "      <td>Nay Pyi Taw</td>\n",
              "      <td>2020-03-18</td>\n",
              "      <td>2020-03-26</td>\n",
              "      <td>2020-03-28</td>\n",
              "      <td>8</td>\n",
              "      <td>2</td>\n",
              "    </tr>\n",
              "    <tr>\n",
              "      <th>7</th>\n",
              "      <td>case_8</td>\n",
              "      <td>60</td>\n",
              "      <td>Female</td>\n",
              "      <td>NaN</td>\n",
              "      <td>Yangon</td>\n",
              "      <td>2020-03-25</td>\n",
              "      <td>2020-03-26</td>\n",
              "      <td>2020-03-28</td>\n",
              "      <td>1</td>\n",
              "      <td>2</td>\n",
              "    </tr>\n",
              "    <tr>\n",
              "      <th>8</th>\n",
              "      <td>case_9</td>\n",
              "      <td>44</td>\n",
              "      <td>Male</td>\n",
              "      <td>Thailand</td>\n",
              "      <td>Yangon</td>\n",
              "      <td>2020-03-23</td>\n",
              "      <td>2020-03-26</td>\n",
              "      <td>2020-03-29</td>\n",
              "      <td>3</td>\n",
              "      <td>3</td>\n",
              "    </tr>\n",
              "    <tr>\n",
              "      <th>9</th>\n",
              "      <td>case_10</td>\n",
              "      <td>45</td>\n",
              "      <td>Male</td>\n",
              "      <td>NaN</td>\n",
              "      <td>Yangon</td>\n",
              "      <td>2020-03-28</td>\n",
              "      <td>2020-03-28</td>\n",
              "      <td>2020-03-29</td>\n",
              "      <td>0</td>\n",
              "      <td>1</td>\n",
              "    </tr>\n",
              "    <tr>\n",
              "      <th>10</th>\n",
              "      <td>case_11</td>\n",
              "      <td>66</td>\n",
              "      <td>Female</td>\n",
              "      <td>France</td>\n",
              "      <td>Yangon</td>\n",
              "      <td>2020-03-28</td>\n",
              "      <td>2020-03-28</td>\n",
              "      <td>2020-03-30</td>\n",
              "      <td>0</td>\n",
              "      <td>2</td>\n",
              "    </tr>\n",
              "    <tr>\n",
              "      <th>11</th>\n",
              "      <td>case_12</td>\n",
              "      <td>65</td>\n",
              "      <td>Male</td>\n",
              "      <td>France</td>\n",
              "      <td>Yangon</td>\n",
              "      <td>2020-03-28</td>\n",
              "      <td>2020-03-28</td>\n",
              "      <td>2020-03-30</td>\n",
              "      <td>0</td>\n",
              "      <td>2</td>\n",
              "    </tr>\n",
              "    <tr>\n",
              "      <th>12</th>\n",
              "      <td>case_13</td>\n",
              "      <td>61</td>\n",
              "      <td>Female</td>\n",
              "      <td>France</td>\n",
              "      <td>Yangon</td>\n",
              "      <td>2020-03-28</td>\n",
              "      <td>2020-03-28</td>\n",
              "      <td>2020-03-30</td>\n",
              "      <td>0</td>\n",
              "      <td>2</td>\n",
              "    </tr>\n",
              "    <tr>\n",
              "      <th>13</th>\n",
              "      <td>case_14</td>\n",
              "      <td>24</td>\n",
              "      <td>Male</td>\n",
              "      <td>Thailand</td>\n",
              "      <td>Shan</td>\n",
              "      <td>2020-03-25</td>\n",
              "      <td>2020-03-28</td>\n",
              "      <td>2020-03-30</td>\n",
              "      <td>3</td>\n",
              "      <td>2</td>\n",
              "    </tr>\n",
              "    <tr>\n",
              "      <th>14</th>\n",
              "      <td>case_15</td>\n",
              "      <td>45</td>\n",
              "      <td>Female</td>\n",
              "      <td>NaN</td>\n",
              "      <td>Yangon</td>\n",
              "      <td>2020-03-27</td>\n",
              "      <td>2020-03-30</td>\n",
              "      <td>2020-03-30</td>\n",
              "      <td>3</td>\n",
              "      <td>0</td>\n",
              "    </tr>\n",
              "    <tr>\n",
              "      <th>15</th>\n",
              "      <td>case_16</td>\n",
              "      <td>63</td>\n",
              "      <td>Female</td>\n",
              "      <td>NaN</td>\n",
              "      <td>Yangon</td>\n",
              "      <td>2020-03-15</td>\n",
              "      <td>2020-03-31</td>\n",
              "      <td>2020-04-01</td>\n",
              "      <td>16</td>\n",
              "      <td>1</td>\n",
              "    </tr>\n",
              "  </tbody>\n",
              "</table>\n",
              "</div>"
            ],
            "text/plain": [
              "    case_id  age     sex  ...   ann_date until_qua until_ann\n",
              "0    case_1   36    Male  ... 2020-03-23         8         2\n",
              "1    case_2   26    Male  ... 2020-03-23         1         0\n",
              "2    case_3   26    Male  ... 2020-03-25         2         2\n",
              "3    case_4   33    Male  ... 2020-03-27         6         2\n",
              "4    case_5   69    Male  ... 2020-03-27        11         2\n",
              "5    case_6   29    Male  ... 2020-03-28         5         2\n",
              "6    case_7   58  Female  ... 2020-03-28         8         2\n",
              "7    case_8   60  Female  ... 2020-03-28         1         2\n",
              "8    case_9   44    Male  ... 2020-03-29         3         3\n",
              "9   case_10   45    Male  ... 2020-03-29         0         1\n",
              "10  case_11   66  Female  ... 2020-03-30         0         2\n",
              "11  case_12   65    Male  ... 2020-03-30         0         2\n",
              "12  case_13   61  Female  ... 2020-03-30         0         2\n",
              "13  case_14   24    Male  ... 2020-03-30         3         2\n",
              "14  case_15   45  Female  ... 2020-03-30         3         0\n",
              "15  case_16   63  Female  ... 2020-04-01        16         1\n",
              "\n",
              "[16 rows x 10 columns]"
            ]
          },
          "metadata": {
            "tags": []
          },
          "execution_count": 43
        }
      ]
    },
    {
      "cell_type": "code",
      "metadata": {
        "id": "tZuf7iIWJdDV",
        "colab_type": "code",
        "outputId": "5ab9e583-1ba0-4acf-8171-67b6432ae718",
        "colab": {
          "base_uri": "https://localhost:8080/",
          "height": 545
        }
      },
      "source": [
        "earliest = df[\"first_date\"].min()\n",
        "df[\"until_first\"] = (df[\"first_date\"]-earliest).dt.days\n",
        "df"
      ],
      "execution_count": 44,
      "outputs": [
        {
          "output_type": "execute_result",
          "data": {
            "text/html": [
              "<div>\n",
              "<style scoped>\n",
              "    .dataframe tbody tr th:only-of-type {\n",
              "        vertical-align: middle;\n",
              "    }\n",
              "\n",
              "    .dataframe tbody tr th {\n",
              "        vertical-align: top;\n",
              "    }\n",
              "\n",
              "    .dataframe thead th {\n",
              "        text-align: right;\n",
              "    }\n",
              "</style>\n",
              "<table border=\"1\" class=\"dataframe\">\n",
              "  <thead>\n",
              "    <tr style=\"text-align: right;\">\n",
              "      <th></th>\n",
              "      <th>case_id</th>\n",
              "      <th>age</th>\n",
              "      <th>sex</th>\n",
              "      <th>travel</th>\n",
              "      <th>region</th>\n",
              "      <th>first_date</th>\n",
              "      <th>qua_date</th>\n",
              "      <th>ann_date</th>\n",
              "      <th>until_qua</th>\n",
              "      <th>until_ann</th>\n",
              "      <th>until_first</th>\n",
              "    </tr>\n",
              "  </thead>\n",
              "  <tbody>\n",
              "    <tr>\n",
              "      <th>0</th>\n",
              "      <td>case_1</td>\n",
              "      <td>36</td>\n",
              "      <td>Male</td>\n",
              "      <td>United States of America</td>\n",
              "      <td>Chin</td>\n",
              "      <td>2020-03-13</td>\n",
              "      <td>2020-03-21</td>\n",
              "      <td>2020-03-23</td>\n",
              "      <td>8</td>\n",
              "      <td>2</td>\n",
              "      <td>0</td>\n",
              "    </tr>\n",
              "    <tr>\n",
              "      <th>1</th>\n",
              "      <td>case_2</td>\n",
              "      <td>26</td>\n",
              "      <td>Male</td>\n",
              "      <td>United Kingdom</td>\n",
              "      <td>Yangon</td>\n",
              "      <td>2020-03-22</td>\n",
              "      <td>2020-03-23</td>\n",
              "      <td>2020-03-23</td>\n",
              "      <td>1</td>\n",
              "      <td>0</td>\n",
              "      <td>9</td>\n",
              "    </tr>\n",
              "    <tr>\n",
              "      <th>2</th>\n",
              "      <td>case_3</td>\n",
              "      <td>26</td>\n",
              "      <td>Male</td>\n",
              "      <td>United Kingdom</td>\n",
              "      <td>Yangon</td>\n",
              "      <td>2020-03-21</td>\n",
              "      <td>2020-03-23</td>\n",
              "      <td>2020-03-25</td>\n",
              "      <td>2</td>\n",
              "      <td>2</td>\n",
              "      <td>8</td>\n",
              "    </tr>\n",
              "    <tr>\n",
              "      <th>3</th>\n",
              "      <td>case_4</td>\n",
              "      <td>33</td>\n",
              "      <td>Male</td>\n",
              "      <td>United States of America</td>\n",
              "      <td>Yangon</td>\n",
              "      <td>2020-03-19</td>\n",
              "      <td>2020-03-25</td>\n",
              "      <td>2020-03-27</td>\n",
              "      <td>6</td>\n",
              "      <td>2</td>\n",
              "      <td>6</td>\n",
              "    </tr>\n",
              "    <tr>\n",
              "      <th>4</th>\n",
              "      <td>case_5</td>\n",
              "      <td>69</td>\n",
              "      <td>Male</td>\n",
              "      <td>Australia</td>\n",
              "      <td>Yangon</td>\n",
              "      <td>2020-03-14</td>\n",
              "      <td>2020-03-25</td>\n",
              "      <td>2020-03-27</td>\n",
              "      <td>11</td>\n",
              "      <td>2</td>\n",
              "      <td>1</td>\n",
              "    </tr>\n",
              "    <tr>\n",
              "      <th>5</th>\n",
              "      <td>case_6</td>\n",
              "      <td>29</td>\n",
              "      <td>Male</td>\n",
              "      <td>United Kingdom</td>\n",
              "      <td>Yangon</td>\n",
              "      <td>2020-03-21</td>\n",
              "      <td>2020-03-26</td>\n",
              "      <td>2020-03-28</td>\n",
              "      <td>5</td>\n",
              "      <td>2</td>\n",
              "      <td>8</td>\n",
              "    </tr>\n",
              "    <tr>\n",
              "      <th>6</th>\n",
              "      <td>case_7</td>\n",
              "      <td>58</td>\n",
              "      <td>Female</td>\n",
              "      <td>Switzerland</td>\n",
              "      <td>Nay Pyi Taw</td>\n",
              "      <td>2020-03-18</td>\n",
              "      <td>2020-03-26</td>\n",
              "      <td>2020-03-28</td>\n",
              "      <td>8</td>\n",
              "      <td>2</td>\n",
              "      <td>5</td>\n",
              "    </tr>\n",
              "    <tr>\n",
              "      <th>7</th>\n",
              "      <td>case_8</td>\n",
              "      <td>60</td>\n",
              "      <td>Female</td>\n",
              "      <td>NaN</td>\n",
              "      <td>Yangon</td>\n",
              "      <td>2020-03-25</td>\n",
              "      <td>2020-03-26</td>\n",
              "      <td>2020-03-28</td>\n",
              "      <td>1</td>\n",
              "      <td>2</td>\n",
              "      <td>12</td>\n",
              "    </tr>\n",
              "    <tr>\n",
              "      <th>8</th>\n",
              "      <td>case_9</td>\n",
              "      <td>44</td>\n",
              "      <td>Male</td>\n",
              "      <td>Thailand</td>\n",
              "      <td>Yangon</td>\n",
              "      <td>2020-03-23</td>\n",
              "      <td>2020-03-26</td>\n",
              "      <td>2020-03-29</td>\n",
              "      <td>3</td>\n",
              "      <td>3</td>\n",
              "      <td>10</td>\n",
              "    </tr>\n",
              "    <tr>\n",
              "      <th>9</th>\n",
              "      <td>case_10</td>\n",
              "      <td>45</td>\n",
              "      <td>Male</td>\n",
              "      <td>NaN</td>\n",
              "      <td>Yangon</td>\n",
              "      <td>2020-03-28</td>\n",
              "      <td>2020-03-28</td>\n",
              "      <td>2020-03-29</td>\n",
              "      <td>0</td>\n",
              "      <td>1</td>\n",
              "      <td>15</td>\n",
              "    </tr>\n",
              "    <tr>\n",
              "      <th>10</th>\n",
              "      <td>case_11</td>\n",
              "      <td>66</td>\n",
              "      <td>Female</td>\n",
              "      <td>France</td>\n",
              "      <td>Yangon</td>\n",
              "      <td>2020-03-28</td>\n",
              "      <td>2020-03-28</td>\n",
              "      <td>2020-03-30</td>\n",
              "      <td>0</td>\n",
              "      <td>2</td>\n",
              "      <td>15</td>\n",
              "    </tr>\n",
              "    <tr>\n",
              "      <th>11</th>\n",
              "      <td>case_12</td>\n",
              "      <td>65</td>\n",
              "      <td>Male</td>\n",
              "      <td>France</td>\n",
              "      <td>Yangon</td>\n",
              "      <td>2020-03-28</td>\n",
              "      <td>2020-03-28</td>\n",
              "      <td>2020-03-30</td>\n",
              "      <td>0</td>\n",
              "      <td>2</td>\n",
              "      <td>15</td>\n",
              "    </tr>\n",
              "    <tr>\n",
              "      <th>12</th>\n",
              "      <td>case_13</td>\n",
              "      <td>61</td>\n",
              "      <td>Female</td>\n",
              "      <td>France</td>\n",
              "      <td>Yangon</td>\n",
              "      <td>2020-03-28</td>\n",
              "      <td>2020-03-28</td>\n",
              "      <td>2020-03-30</td>\n",
              "      <td>0</td>\n",
              "      <td>2</td>\n",
              "      <td>15</td>\n",
              "    </tr>\n",
              "    <tr>\n",
              "      <th>13</th>\n",
              "      <td>case_14</td>\n",
              "      <td>24</td>\n",
              "      <td>Male</td>\n",
              "      <td>Thailand</td>\n",
              "      <td>Shan</td>\n",
              "      <td>2020-03-25</td>\n",
              "      <td>2020-03-28</td>\n",
              "      <td>2020-03-30</td>\n",
              "      <td>3</td>\n",
              "      <td>2</td>\n",
              "      <td>12</td>\n",
              "    </tr>\n",
              "    <tr>\n",
              "      <th>14</th>\n",
              "      <td>case_15</td>\n",
              "      <td>45</td>\n",
              "      <td>Female</td>\n",
              "      <td>NaN</td>\n",
              "      <td>Yangon</td>\n",
              "      <td>2020-03-27</td>\n",
              "      <td>2020-03-30</td>\n",
              "      <td>2020-03-30</td>\n",
              "      <td>3</td>\n",
              "      <td>0</td>\n",
              "      <td>14</td>\n",
              "    </tr>\n",
              "    <tr>\n",
              "      <th>15</th>\n",
              "      <td>case_16</td>\n",
              "      <td>63</td>\n",
              "      <td>Female</td>\n",
              "      <td>NaN</td>\n",
              "      <td>Yangon</td>\n",
              "      <td>2020-03-15</td>\n",
              "      <td>2020-03-31</td>\n",
              "      <td>2020-04-01</td>\n",
              "      <td>16</td>\n",
              "      <td>1</td>\n",
              "      <td>2</td>\n",
              "    </tr>\n",
              "  </tbody>\n",
              "</table>\n",
              "</div>"
            ],
            "text/plain": [
              "    case_id  age     sex  ... until_qua until_ann until_first\n",
              "0    case_1   36    Male  ...         8         2           0\n",
              "1    case_2   26    Male  ...         1         0           9\n",
              "2    case_3   26    Male  ...         2         2           8\n",
              "3    case_4   33    Male  ...         6         2           6\n",
              "4    case_5   69    Male  ...        11         2           1\n",
              "5    case_6   29    Male  ...         5         2           8\n",
              "6    case_7   58  Female  ...         8         2           5\n",
              "7    case_8   60  Female  ...         1         2          12\n",
              "8    case_9   44    Male  ...         3         3          10\n",
              "9   case_10   45    Male  ...         0         1          15\n",
              "10  case_11   66  Female  ...         0         2          15\n",
              "11  case_12   65    Male  ...         0         2          15\n",
              "12  case_13   61  Female  ...         0         2          15\n",
              "13  case_14   24    Male  ...         3         2          12\n",
              "14  case_15   45  Female  ...         3         0          14\n",
              "15  case_16   63  Female  ...        16         1           2\n",
              "\n",
              "[16 rows x 11 columns]"
            ]
          },
          "metadata": {
            "tags": []
          },
          "execution_count": 44
        }
      ]
    },
    {
      "cell_type": "markdown",
      "metadata": {
        "id": "p-ZUruchJkYC",
        "colab_type": "text"
      },
      "source": [
        "- travel -> travel history\n",
        "- region -> states and admininstrative regions of Myanmar where the case is quarantined\n",
        "- first_date -> entry into the country, or first symptom for no travel history\n",
        "- qua_date -> first date of quarantine\n",
        "- ann_date -> date of announcement by MOHS as positive"
      ]
    },
    {
      "cell_type": "markdown",
      "metadata": {
        "id": "YfWzumhQJyQz",
        "colab_type": "text"
      },
      "source": [
        "##Time taking for Action"
      ]
    },
    {
      "cell_type": "code",
      "metadata": {
        "id": "-Jpnwa6yJdqJ",
        "colab_type": "code",
        "outputId": "f9b42d18-2bf6-41e7-c105-fbdd23c4ffa1",
        "colab": {
          "base_uri": "https://localhost:8080/",
          "height": 312
        }
      },
      "source": [
        "index = np.arange(len(df[\"case_id\"]))\n",
        "\n",
        "p1 = plt.bar(index, df[\"until_qua\"], color = \"red\")\n",
        "p2 = plt.bar(index, df[\"until_ann\"], bottom=df[\"until_qua\"], color = \"orange\")\n",
        "\n",
        "plt.ylabel(\"Days\", fontsize=10)\n",
        "plt.title(\"Days until announcement\")\n",
        "plt.xticks(index,df[\"case_id\"], fontsize=10, rotation=90)\n",
        "plt.legend((p1[0], p2[0]), ('Days until quarantine', 'Days until announcement'),loc='upper left', bbox_to_anchor=(1, 1))\n",
        "\n",
        "tt = str(df[\"ann_date\"][df.index[-1]])+\"_time_for_action.svg\"\n",
        "plt.savefig(tt, bbox_inches = \"tight\")\n",
        "plt.show()\n",
        "files.download(tt)"
      ],
      "execution_count": 45,
      "outputs": [
        {
          "output_type": "display_data",
          "data": {
            "image/png": "[encoded data removed]",
            "text/plain": [
              "<Figure size 432x288 with 1 Axes>"
            ]
          },
          "metadata": {
            "tags": []
          }
        }
      ]
    },
    {
      "cell_type": "markdown",
      "metadata": {
        "id": "mVeq27qaJ1Ie",
        "colab_type": "text"
      },
      "source": [
        "##Timeline"
      ]
    },
    {
      "cell_type": "code",
      "metadata": {
        "id": "30cgGwmqJux8",
        "colab_type": "code",
        "outputId": "41f204de-3bb3-446e-e21e-aaaf92bd2147",
        "colab": {
          "base_uri": "https://localhost:8080/",
          "height": 300
        }
      },
      "source": [
        "yindex = np.arange(len(df[\"case_id\"]))\n",
        "xindex = np.arange(len(pd.date_range(start=df.first_date.min(), end=df.ann_date.max())))\n",
        "\n",
        "plt.yticks(yindex,df[\"case_id\"], fontsize=10)\n",
        "plt.xticks(xindex,pd.date_range(start=df.first_date.min(), end=df.ann_date.max()).strftime('%d/%m'), fontsize=10, rotation=90)\n",
        "plt.gca().invert_yaxis()\n",
        "\n",
        "until_qua = plt.barh(yindex, df[\"until_qua\"], left= df[\"until_first\"], color = \"red\")\n",
        "until_ann = plt.barh(yindex, df[\"until_ann\"], left= df[\"until_qua\"]+df[\"until_first\"], color = \"orange\")\n",
        "\n",
        "plt.title(\"Timeline as of \"+str(df.ann_date.max().strftime('%d/%m/%Y')))\n",
        "plt.legend((until_qua[0], until_ann[0]), ('Before quarantine', 'Before announcement'),loc='upper left', bbox_to_anchor=(1, 1))\n",
        "\n",
        "\n",
        "pp = str(df[\"ann_date\"][df.index[-1]])+\"_timeline.svg\"\n",
        "plt.savefig(pp, bbox_inches = \"tight\")\n",
        "plt.show()\n",
        "files.download(pp)"
      ],
      "execution_count": 46,
      "outputs": [
        {
          "output_type": "display_data",
          "data": {
            "image/png": "[encoded data removed]",
            "text/plain": [
              "<Figure size 432x288 with 1 Axes>"
            ]
          },
          "metadata": {
            "tags": []
          }
        }
      ]
    },
    {
      "cell_type": "markdown",
      "metadata": {
        "id": "B2ajxc-KJK_k",
        "colab_type": "text"
      },
      "source": [
        "# Exponential Growth"
      ]
    },
    {
      "cell_type": "code",
      "metadata": {
        "id": "Sj3FNfpC8Xl3",
        "colab_type": "code",
        "outputId": "e1c3774f-2856-40fb-d9fc-e064f1a4da98",
        "colab": {
          "base_uri": "https://localhost:8080/",
          "height": 266
        }
      },
      "source": [
        "sum_df = df[['ann_date','case_id']].copy()\n",
        "sum_df.columns = ['Date', 'id']\n",
        "sum_df=sum_df.groupby(['Date']).size().to_frame('Case').reset_index()\n",
        "sum_df[\"Date\"] = pd.to_datetime(sum_df[\"Date\"])\n",
        "sum_df"
      ],
      "execution_count": 47,
      "outputs": [
        {
          "output_type": "execute_result",
          "data": {
            "text/html": [
              "<div>\n",
              "<style scoped>\n",
              "    .dataframe tbody tr th:only-of-type {\n",
              "        vertical-align: middle;\n",
              "    }\n",
              "\n",
              "    .dataframe tbody tr th {\n",
              "        vertical-align: top;\n",
              "    }\n",
              "\n",
              "    .dataframe thead th {\n",
              "        text-align: right;\n",
              "    }\n",
              "</style>\n",
              "<table border=\"1\" class=\"dataframe\">\n",
              "  <thead>\n",
              "    <tr style=\"text-align: right;\">\n",
              "      <th></th>\n",
              "      <th>Date</th>\n",
              "      <th>Case</th>\n",
              "    </tr>\n",
              "  </thead>\n",
              "  <tbody>\n",
              "    <tr>\n",
              "      <th>0</th>\n",
              "      <td>2020-03-23</td>\n",
              "      <td>2</td>\n",
              "    </tr>\n",
              "    <tr>\n",
              "      <th>1</th>\n",
              "      <td>2020-03-25</td>\n",
              "      <td>1</td>\n",
              "    </tr>\n",
              "    <tr>\n",
              "      <th>2</th>\n",
              "      <td>2020-03-27</td>\n",
              "      <td>2</td>\n",
              "    </tr>\n",
              "    <tr>\n",
              "      <th>3</th>\n",
              "      <td>2020-03-28</td>\n",
              "      <td>3</td>\n",
              "    </tr>\n",
              "    <tr>\n",
              "      <th>4</th>\n",
              "      <td>2020-03-29</td>\n",
              "      <td>2</td>\n",
              "    </tr>\n",
              "    <tr>\n",
              "      <th>5</th>\n",
              "      <td>2020-03-30</td>\n",
              "      <td>5</td>\n",
              "    </tr>\n",
              "    <tr>\n",
              "      <th>6</th>\n",
              "      <td>2020-04-01</td>\n",
              "      <td>1</td>\n",
              "    </tr>\n",
              "  </tbody>\n",
              "</table>\n",
              "</div>"
            ],
            "text/plain": [
              "        Date  Case\n",
              "0 2020-03-23     2\n",
              "1 2020-03-25     1\n",
              "2 2020-03-27     2\n",
              "3 2020-03-28     3\n",
              "4 2020-03-29     2\n",
              "5 2020-03-30     5\n",
              "6 2020-04-01     1"
            ]
          },
          "metadata": {
            "tags": []
          },
          "execution_count": 47
        }
      ]
    },
    {
      "cell_type": "code",
      "metadata": {
        "id": "Nfo5dqXJAXYV",
        "colab_type": "code",
        "outputId": "4fbf7067-5cca-44f0-9318-88903ea01a7f",
        "colab": {
          "base_uri": "https://localhost:8080/",
          "height": 359
        }
      },
      "source": [
        "confirmed_df = pd.DataFrame(columns=[\"ndays\",\"Date\"])\n",
        "confirmed_df[\"ndays\"] = np.arange(len(pd.date_range(start=sum_df.Date.min(), end=sum_df.Date.max())))\n",
        "confirmed_df.loc[0,\"Date\"]=sum_df.Date.min()\n",
        "for i in range(1,len(confirmed_df)):\n",
        "    confirmed_df.loc[i,\"Date\"] = confirmed_df.loc[i-1,\"Date\"] + pd.Timedelta(days=1)\n",
        "    i=i+1\n",
        "confirmed_df[\"Date\"] = pd.to_datetime(confirmed_df[\"Date\"])\n",
        "confirmed_df=confirmed_df.merge(sum_df,indicator=False,how='left')\n",
        "confirmed_df[\"Case\"].fillna(0, inplace=True)\n",
        "confirmed_df[\"Case\"]=confirmed_df[\"Case\"].astype(int)\n",
        "confirmed_df[\"Case\"] = confirmed_df[\"Case\"].cumsum()\n",
        "confirmed_df"
      ],
      "execution_count": 48,
      "outputs": [
        {
          "output_type": "execute_result",
          "data": {
            "text/html": [
              "<div>\n",
              "<style scoped>\n",
              "    .dataframe tbody tr th:only-of-type {\n",
              "        vertical-align: middle;\n",
              "    }\n",
              "\n",
              "    .dataframe tbody tr th {\n",
              "        vertical-align: top;\n",
              "    }\n",
              "\n",
              "    .dataframe thead th {\n",
              "        text-align: right;\n",
              "    }\n",
              "</style>\n",
              "<table border=\"1\" class=\"dataframe\">\n",
              "  <thead>\n",
              "    <tr style=\"text-align: right;\">\n",
              "      <th></th>\n",
              "      <th>ndays</th>\n",
              "      <th>Date</th>\n",
              "      <th>Case</th>\n",
              "    </tr>\n",
              "  </thead>\n",
              "  <tbody>\n",
              "    <tr>\n",
              "      <th>0</th>\n",
              "      <td>0</td>\n",
              "      <td>2020-03-23</td>\n",
              "      <td>2</td>\n",
              "    </tr>\n",
              "    <tr>\n",
              "      <th>1</th>\n",
              "      <td>1</td>\n",
              "      <td>2020-03-24</td>\n",
              "      <td>2</td>\n",
              "    </tr>\n",
              "    <tr>\n",
              "      <th>2</th>\n",
              "      <td>2</td>\n",
              "      <td>2020-03-25</td>\n",
              "      <td>3</td>\n",
              "    </tr>\n",
              "    <tr>\n",
              "      <th>3</th>\n",
              "      <td>3</td>\n",
              "      <td>2020-03-26</td>\n",
              "      <td>3</td>\n",
              "    </tr>\n",
              "    <tr>\n",
              "      <th>4</th>\n",
              "      <td>4</td>\n",
              "      <td>2020-03-27</td>\n",
              "      <td>5</td>\n",
              "    </tr>\n",
              "    <tr>\n",
              "      <th>5</th>\n",
              "      <td>5</td>\n",
              "      <td>2020-03-28</td>\n",
              "      <td>8</td>\n",
              "    </tr>\n",
              "    <tr>\n",
              "      <th>6</th>\n",
              "      <td>6</td>\n",
              "      <td>2020-03-29</td>\n",
              "      <td>10</td>\n",
              "    </tr>\n",
              "    <tr>\n",
              "      <th>7</th>\n",
              "      <td>7</td>\n",
              "      <td>2020-03-30</td>\n",
              "      <td>15</td>\n",
              "    </tr>\n",
              "    <tr>\n",
              "      <th>8</th>\n",
              "      <td>8</td>\n",
              "      <td>2020-03-31</td>\n",
              "      <td>15</td>\n",
              "    </tr>\n",
              "    <tr>\n",
              "      <th>9</th>\n",
              "      <td>9</td>\n",
              "      <td>2020-04-01</td>\n",
              "      <td>16</td>\n",
              "    </tr>\n",
              "  </tbody>\n",
              "</table>\n",
              "</div>"
            ],
            "text/plain": [
              "   ndays       Date  Case\n",
              "0      0 2020-03-23     2\n",
              "1      1 2020-03-24     2\n",
              "2      2 2020-03-25     3\n",
              "3      3 2020-03-26     3\n",
              "4      4 2020-03-27     5\n",
              "5      5 2020-03-28     8\n",
              "6      6 2020-03-29    10\n",
              "7      7 2020-03-30    15\n",
              "8      8 2020-03-31    15\n",
              "9      9 2020-04-01    16"
            ]
          },
          "metadata": {
            "tags": []
          },
          "execution_count": 48
        }
      ]
    },
    {
      "cell_type": "code",
      "metadata": {
        "id": "YLz7ziYSwk0p",
        "colab_type": "code",
        "outputId": "e8178268-7bce-4a22-9237-13dcc082b78a",
        "colab": {
          "base_uri": "https://localhost:8080/",
          "height": 204
        }
      },
      "source": [
        "# Natural Log of Real Cases\n",
        "confirmed_df[\"logCase\"] = np.log(confirmed_df.Case).astype(float)\n",
        "\n",
        "print(confirmed_df)"
      ],
      "execution_count": 49,
      "outputs": [
        {
          "output_type": "stream",
          "text": [
            "   ndays       Date  Case   logCase\n",
            "0      0 2020-03-23     2  0.693147\n",
            "1      1 2020-03-24     2  0.693147\n",
            "2      2 2020-03-25     3  1.098612\n",
            "3      3 2020-03-26     3  1.098612\n",
            "4      4 2020-03-27     5  1.609438\n",
            "5      5 2020-03-28     8  2.079442\n",
            "6      6 2020-03-29    10  2.302585\n",
            "7      7 2020-03-30    15  2.708050\n",
            "8      8 2020-03-31    15  2.708050\n",
            "9      9 2020-04-01    16  2.772589\n"
          ],
          "name": "stdout"
        }
      ]
    },
    {
      "cell_type": "markdown",
      "metadata": {
        "id": "xFdC0ZN9wg4a",
        "colab_type": "text"
      },
      "source": [
        "Natural log makes it better in terms of visualization and long term comparison, make the data look more linear. That is why I will be plotting both real and natural log line graphs."
      ]
    },
    {
      "cell_type": "markdown",
      "metadata": {
        "id": "HGaFBbLTw_S5",
        "colab_type": "text"
      },
      "source": [
        "# Model of choice"
      ]
    },
    {
      "cell_type": "markdown",
      "metadata": {
        "id": "GFx-62fSxFtE",
        "colab_type": "text"
      },
      "source": [
        "True exponential does not exist, but exponential growth is assumed until the inflection point has arrived. Linear Regression is applied."
      ]
    },
    {
      "cell_type": "markdown",
      "metadata": {
        "id": "SAigzuEhxGAl",
        "colab_type": "text"
      },
      "source": [
        "## Logistic Regression\n",
        "### Ordinary Least Squared Regression"
      ]
    },
    {
      "cell_type": "code",
      "metadata": {
        "id": "AuTgGKD8yFr2",
        "colab_type": "code",
        "outputId": "26135847-442f-4b95-e1c3-46430f5cc11a",
        "colab": {
          "base_uri": "https://localhost:8080/",
          "height": 478
        }
      },
      "source": [
        "X = confirmed_df.ndays\n",
        "X = sm.add_constant(X)\n",
        "y = confirmed_df.logCase\n",
        "model = sm.OLS(y, X)\n",
        "result = model.fit()\n",
        "result.summary()"
      ],
      "execution_count": 50,
      "outputs": [
        {
          "output_type": "stream",
          "text": [
            "/usr/local/lib/python3.6/dist-packages/scipy/stats/stats.py:1535: UserWarning: kurtosistest only valid for n>=20 ... continuing anyway, n=10\n",
            "  \"anyway, n=%i\" % int(n))\n"
          ],
          "name": "stderr"
        },
        {
          "output_type": "execute_result",
          "data": {
            "text/html": [
              "<table class=\"simpletable\">\n",
              "<caption>OLS Regression Results</caption>\n",
              "<tr>\n",
              "  <th>Dep. Variable:</th>         <td>logCase</td>     <th>  R-squared:         </th> <td>   0.958</td>\n",
              "</tr>\n",
              "<tr>\n",
              "  <th>Model:</th>                   <td>OLS</td>       <th>  Adj. R-squared:    </th> <td>   0.953</td>\n",
              "</tr>\n",
              "<tr>\n",
              "  <th>Method:</th>             <td>Least Squares</td>  <th>  F-statistic:       </th> <td>   182.6</td>\n",
              "</tr>\n",
              "<tr>\n",
              "  <th>Date:</th>             <td>Thu, 02 Apr 2020</td> <th>  Prob (F-statistic):</th> <td>8.64e-07</td>\n",
              "</tr>\n",
              "<tr>\n",
              "  <th>Time:</th>                 <td>00:31:31</td>     <th>  Log-Likelihood:    </th> <td>  3.9021</td>\n",
              "</tr>\n",
              "<tr>\n",
              "  <th>No. Observations:</th>      <td>    10</td>      <th>  AIC:               </th> <td>  -3.804</td>\n",
              "</tr>\n",
              "<tr>\n",
              "  <th>Df Residuals:</th>          <td>     8</td>      <th>  BIC:               </th> <td>  -3.199</td>\n",
              "</tr>\n",
              "<tr>\n",
              "  <th>Df Model:</th>              <td>     1</td>      <th>                     </th>     <td> </td>   \n",
              "</tr>\n",
              "<tr>\n",
              "  <th>Covariance Type:</th>      <td>nonrobust</td>    <th>                     </th>     <td> </td>   \n",
              "</tr>\n",
              "</table>\n",
              "<table class=\"simpletable\">\n",
              "<tr>\n",
              "    <td></td>       <th>coef</th>     <th>std err</th>      <th>t</th>      <th>P>|t|</th>  <th>[0.025</th>    <th>0.975]</th>  \n",
              "</tr>\n",
              "<tr>\n",
              "  <th>const</th> <td>    0.5505</td> <td>    0.108</td> <td>    5.115</td> <td> 0.001</td> <td>    0.302</td> <td>    0.799</td>\n",
              "</tr>\n",
              "<tr>\n",
              "  <th>ndays</th> <td>    0.2724</td> <td>    0.020</td> <td>   13.512</td> <td> 0.000</td> <td>    0.226</td> <td>    0.319</td>\n",
              "</tr>\n",
              "</table>\n",
              "<table class=\"simpletable\">\n",
              "<tr>\n",
              "  <th>Omnibus:</th>       <td> 0.677</td> <th>  Durbin-Watson:     </th> <td>   1.489</td>\n",
              "</tr>\n",
              "<tr>\n",
              "  <th>Prob(Omnibus):</th> <td> 0.713</td> <th>  Jarque-Bera (JB):  </th> <td>   0.577</td>\n",
              "</tr>\n",
              "<tr>\n",
              "  <th>Skew:</th>          <td>-0.203</td> <th>  Prob(JB):          </th> <td>   0.749</td>\n",
              "</tr>\n",
              "<tr>\n",
              "  <th>Kurtosis:</th>      <td> 1.895</td> <th>  Cond. No.          </th> <td>    10.2</td>\n",
              "</tr>\n",
              "</table><br/><br/>Warnings:<br/>[1] Standard Errors assume that the covariance matrix of the errors is correctly specified."
            ],
            "text/plain": [
              "<class 'statsmodels.iolib.summary.Summary'>\n",
              "\"\"\"\n",
              "                            OLS Regression Results                            \n",
              "==============================================================================\n",
              "Dep. Variable:                logCase   R-squared:                       0.958\n",
              "Model:                            OLS   Adj. R-squared:                  0.953\n",
              "Method:                 Least Squares   F-statistic:                     182.6\n",
              "Date:                Thu, 02 Apr 2020   Prob (F-statistic):           8.64e-07\n",
              "Time:                        00:31:31   Log-Likelihood:                 3.9021\n",
              "No. Observations:                  10   AIC:                            -3.804\n",
              "Df Residuals:                       8   BIC:                            -3.199\n",
              "Df Model:                           1                                         \n",
              "Covariance Type:            nonrobust                                         \n",
              "==============================================================================\n",
              "                 coef    std err          t      P>|t|      [0.025      0.975]\n",
              "------------------------------------------------------------------------------\n",
              "const          0.5505      0.108      5.115      0.001       0.302       0.799\n",
              "ndays          0.2724      0.020     13.512      0.000       0.226       0.319\n",
              "==============================================================================\n",
              "Omnibus:                        0.677   Durbin-Watson:                   1.489\n",
              "Prob(Omnibus):                  0.713   Jarque-Bera (JB):                0.577\n",
              "Skew:                          -0.203   Prob(JB):                        0.749\n",
              "Kurtosis:                       1.895   Cond. No.                         10.2\n",
              "==============================================================================\n",
              "\n",
              "Warnings:\n",
              "[1] Standard Errors assume that the covariance matrix of the errors is correctly specified.\n",
              "\"\"\""
            ]
          },
          "metadata": {
            "tags": []
          },
          "execution_count": 50
        }
      ]
    },
    {
      "cell_type": "markdown",
      "metadata": {
        "id": "n12sI9dEya7A",
        "colab_type": "text"
      },
      "source": [
        "Exponential Formaula<br> y = ab<sup>x</sup> <br>\n",
        "a = Initial Value<br>\n",
        "b = Rate of Change<br>\n",
        "x = The feature ( Here it is time )<br>\n",
        "\n",
        "b = (1+r) = Growth Rate <- Before Inflection <br>\n",
        "b = (1-r) = Decay Rate <- After Inflection <br>\n",
        "\n",
        "In the summary, \"constant stands\" for initial \"a\".<br>\n",
        "\"ndays\" is the coefficient of \"time\", which means the value increasing y as x is increased by 1. In our case, the number of cases to increase as the next day comes."
      ]
    },
    {
      "cell_type": "code",
      "metadata": {
        "id": "Rk_huG2pzvjT",
        "colab_type": "code",
        "colab": {}
      },
      "source": [
        "def linear_predictions(t):\n",
        "    return np.exp(result.params[\"const\"]) * np.exp(result.params[\"ndays\"]) ** t"
      ],
      "execution_count": 0,
      "outputs": []
    },
    {
      "cell_type": "markdown",
      "metadata": {
        "id": "KqJKNU38zyrK",
        "colab_type": "text"
      },
      "source": [
        "As we fitted our model with natural log values, we should change them back to real numbers to predict."
      ]
    },
    {
      "cell_type": "markdown",
      "metadata": {
        "id": "jClR8K740EVc",
        "colab_type": "text"
      },
      "source": [
        "# Next Week Prediction"
      ]
    },
    {
      "cell_type": "code",
      "metadata": {
        "id": "rrqFbmyI0Cw-",
        "colab_type": "code",
        "outputId": "e843fd84-90df-484f-d7dd-e6075b4c5a1e",
        "colab": {
          "base_uri": "https://localhost:8080/",
          "height": 255
        }
      },
      "source": [
        "ndays = len(confirmed_df)+3\n",
        "nextweek_df = pd.DataFrame(columns=[\"ndays\",\"Date\"])\n",
        "nextweek_df[\"ndays\"] = np.arange(ndays)\n",
        "nextweek_df.loc[0,\"Date\"]=confirmed_df.loc[0,\"Date\"]\n",
        "for i in range(1,len(nextweek_df)):\n",
        "    nextweek_df.loc[i,\"Date\"] = nextweek_df.loc[i-1,\"Date\"] + pd.Timedelta(days=1)\n",
        "    i=i+1\n",
        "nextweek_df[\"Predictions\"] = nextweek_df.ndays.apply(linear_predictions)\n",
        "\n",
        "# Natural Log of Predicted Cases\n",
        "nextweek_df[\"logPredictions\"] = np.log(nextweek_df.Predictions).astype(float)\n",
        "\n",
        "print(nextweek_df)"
      ],
      "execution_count": 52,
      "outputs": [
        {
          "output_type": "stream",
          "text": [
            "    ndays                 Date  Predictions  logPredictions\n",
            "0       0  2020-03-23 00:00:00     1.734123        0.550502\n",
            "1       1  2020-03-24 00:00:00     2.277131        0.822916\n",
            "2       2  2020-03-25 00:00:00     2.990172        1.095331\n",
            "3       3  2020-03-26 00:00:00     3.926488        1.367745\n",
            "4       4  2020-03-27 00:00:00     5.155994        1.640160\n",
            "5       5  2020-03-28 00:00:00     6.770497        1.912575\n",
            "6       6  2020-03-29 00:00:00     8.890552        2.184989\n",
            "7       7  2020-03-30 00:00:00    11.674462        2.457404\n",
            "8       8  2020-03-31 00:00:00    15.330101        2.729818\n",
            "9       9  2020-04-01 00:00:00    20.130436        3.002233\n",
            "10     10  2020-04-02 00:00:00    26.433905        3.274647\n",
            "11     11  2020-04-03 00:00:00    34.711188        3.547062\n",
            "12     12  2020-04-04 00:00:00    45.580348        3.819477\n"
          ],
          "name": "stdout"
        }
      ]
    },
    {
      "cell_type": "markdown",
      "metadata": {
        "id": "POlLAmet0NBp",
        "colab_type": "text"
      },
      "source": [
        "Although I stated next week, here I added only \"3\". Since our data and history is very short right now, it is not sufficient to predict far without sacraficing. This currently here is a proof of concept. We shall increase the data and after that, we should pursure further analysis."
      ]
    },
    {
      "cell_type": "markdown",
      "metadata": {
        "id": "cvvX1sd70pep",
        "colab_type": "text"
      },
      "source": [
        "# Real Number Plot"
      ]
    },
    {
      "cell_type": "code",
      "metadata": {
        "id": "1HdSZXF3lQvM",
        "colab_type": "code",
        "colab": {}
      },
      "source": [
        "a = str(confirmed_df[\"Date\"][confirmed_df.index[-1]])+\"_real.svg\"\n",
        "b = str(confirmed_df[\"Date\"][confirmed_df.index[-1]])+\"_log.svg\""
      ],
      "execution_count": 0,
      "outputs": []
    },
    {
      "cell_type": "code",
      "metadata": {
        "id": "672JOT-V0rcy",
        "colab_type": "code",
        "outputId": "d8a22595-ffb2-4ce7-dd33-496459c93d69",
        "colab": {
          "base_uri": "https://localhost:8080/",
          "height": 356
        }
      },
      "source": [
        "confirmed_x = pd.date_range(start=confirmed_df[\"Date\"][confirmed_df.index[0]], end=confirmed_df[\"Date\"][confirmed_df.index[-1]])\n",
        "confirmed_y = confirmed_df[\"Case\"].tolist()\n",
        "confirmed_plot = pd.Series(data=confirmed_y, index=confirmed_x)\n",
        "\n",
        "nextweek_x = pd.date_range(start=nextweek_df[\"Date\"][nextweek_df.index[0]], end=nextweek_df[\"Date\"][nextweek_df.index[-1]])\n",
        "nextweek_y = nextweek_df[\"Predictions\"].tolist()\n",
        "nextweek_plot = pd.Series(data=nextweek_y, index=nextweek_x)\n",
        "\n",
        "fig, ax = plt.subplots()\n",
        "ax.plot(confirmed_plot, label=\"Confirmed\", color=\"red\")\n",
        "ax.plot(nextweek_plot, label=\"Predicted\", color =\"blue\")\n",
        "legend = ax.legend(loc=\"upper left\", fontsize=\"large\")\n",
        "plt.xlabel(\"Date\")\n",
        "plt.ylabel(\"Infections\")\n",
        "plt.suptitle(\"Predicted number of cases vs comfirmed number of cases\")\n",
        "plt.title(\"As of \"+str(confirmed_df[\"Date\"][confirmed_df.index[-1]]))\n",
        "plt.xticks(rotation=90)\n",
        "plt.savefig(a, bbox_inches = \"tight\")\n",
        "plt.show()\n",
        "files.download(a)"
      ],
      "execution_count": 54,
      "outputs": [
        {
          "output_type": "display_data",
          "data": {
            "image/png": "[encoded data removed]",
            "text/plain": [
              "<Figure size 432x288 with 1 Axes>"
            ]
          },
          "metadata": {
            "tags": []
          }
        }
      ]
    },
    {
      "cell_type": "markdown",
      "metadata": {
        "id": "6GqiZScX0tbM",
        "colab_type": "text"
      },
      "source": [
        "# Natural Log Plot"
      ]
    },
    {
      "cell_type": "code",
      "metadata": {
        "id": "sfR6seGg0u3I",
        "colab_type": "code",
        "outputId": "3d988e9a-ed19-44a4-f8e4-629c47dbd480",
        "colab": {
          "base_uri": "https://localhost:8080/",
          "height": 356
        }
      },
      "source": [
        "confirmed_logy = confirmed_df[\"logCase\"].tolist()\n",
        "confirmed_logplot = pd.Series(data=confirmed_logy, index=confirmed_x)\n",
        "\n",
        "nextweek_logy = nextweek_df[\"logPredictions\"].tolist()\n",
        "nextweek_logplot = pd.Series(data=nextweek_logy, index=nextweek_x)\n",
        "\n",
        "fig, ax = plt.subplots()\n",
        "ax.plot(confirmed_logplot, label=\"Confirmed\", color=\"red\")\n",
        "ax.plot(nextweek_logplot, label=\"Predicted\", color =\"blue\")\n",
        "legend = ax.legend(loc=\"upper left\", fontsize=\"large\")\n",
        "plt.xlabel(\"Date\")\n",
        "plt.ylabel(\"Infections\")\n",
        "plt.suptitle(\"Predicted number of cases vs confirmed number of cases (Natural Log)\")\n",
        "plt.title(\"As of \"+str(confirmed_df[\"Date\"][confirmed_df.index[-1]]))\n",
        "plt.xticks(rotation=90)\n",
        "plt.savefig(b, bbox_inches = \"tight\")\n",
        "plt.show()\n",
        "files.download(b)"
      ],
      "execution_count": 55,
      "outputs": [
        {
          "output_type": "display_data",
          "data": {
            "image/png": "[encoded data removed]",
            "text/plain": [
              "<Figure size 432x288 with 1 Axes>"
            ]
          },
          "metadata": {
            "tags": []
          }
        }
      ]
    },
    {
      "cell_type": "code",
      "metadata": {
        "id": "3MrWdZHQIOCB",
        "colab_type": "code",
        "outputId": "48224c8a-8daf-4ac6-fb75-865540ee13be",
        "colab": {
          "base_uri": "https://localhost:8080/",
          "height": 51
        }
      },
      "source": [
        "%reset"
      ],
      "execution_count": 56,
      "outputs": [
        {
          "output_type": "stream",
          "text": [
            "Once deleted, variables cannot be recovered. Proceed (y/[n])? n\n",
            "Nothing done.\n"
          ],
          "name": "stdout"
        }
      ]
    }
  ]
}