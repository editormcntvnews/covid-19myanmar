{
  "nbformat": 4,
  "nbformat_minor": 0,
  "metadata": {
    "colab": {
      "name": "exponential_growth.ipynb",
      "provenance": [],
      "collapsed_sections": [],
      "authorship_tag": "ABX9TyPF6avIK4dfgm/Oa4UwfWrm",
      "include_colab_link": true
    },
    "kernelspec": {
      "name": "python3",
      "display_name": "Python 3"
    }
  },
  "cells": [
    {
      "cell_type": "markdown",
      "metadata": {
        "id": "view-in-github",
        "colab_type": "text"
      },
      "source": [
        "<a href=\"https://colab.research.google.com/github/finerbrighterlighter/myanmar_covid19/blob/master/exponential_growth.ipynb\" target=\"_parent\"><img src=\"https://colab.research.google.com/assets/colab-badge.svg\" alt=\"Open In Colab\"/></a>"
      ]
    },
    {
      "cell_type": "markdown",
      "metadata": {
        "id": "uPFp-CtDv3Vu",
        "colab_type": "text"
      },
      "source": [
        "#Libraries"
      ]
    },
    {
      "cell_type": "code",
      "metadata": {
        "id": "CFfhKjxfv2Ik",
        "colab_type": "code",
        "colab": {}
      },
      "source": [
        "import statsmodels.api as sm\n",
        "import pandas as pd\n",
        "import numpy as np\n",
        "import matplotlib.pyplot as plt\n",
        "from google.colab import files\n",
        "import warnings\n",
        "warnings.simplefilter(action='ignore', category=FutureWarning)"
      ],
      "execution_count": 0,
      "outputs": []
    },
    {
      "cell_type": "markdown",
      "metadata": {
        "id": "fntllV2nwF4X",
        "colab_type": "text"
      },
      "source": [
        "#Data"
      ]
    },
    {
      "cell_type": "markdown",
      "metadata": {
        "id": "9e37oPlWwIAs",
        "colab_type": "text"
      },
      "source": [
        "Since the Government fails to provide a complete and open dataset for disease status in the country, several young doctors in Myanmar volunteered on their own to monitor announcements. Current data applied is collected by Dr. Nyein Chan Ko Ko."
      ]
    },
    {
      "cell_type": "code",
      "metadata": {
        "id": "r6OOsz9trkb4",
        "colab_type": "code",
        "colab": {}
      },
      "source": [
        "data = \"https://raw.githubusercontent.com/finerbrighterlighter/myanmar_covid19/master/announced_cases.csv\"\n",
        "columns = [\"Date\",\"Announced\"]"
      ],
      "execution_count": 0,
      "outputs": []
    },
    {
      "cell_type": "code",
      "metadata": {
        "id": "YLz7ziYSwk0p",
        "colab_type": "code",
        "outputId": "771d4337-f96c-485f-bc1c-7ca541e0caf7",
        "colab": {
          "base_uri": "https://localhost:8080/",
          "height": 221
        }
      },
      "source": [
        "confirmed_df = pd.read_csv(data,names = columns) \n",
        "confirmed_df[\"Date\"] = pd.to_datetime(confirmed_df[\"Date\"])\n",
        "confirmed_df[\"Case\"] = confirmed_df[\"Announced\"].cumsum()\n",
        "confirmed_df[\"ndays\"] = np.arange(len(confirmed_df))\n",
        "\n",
        "# Natural Log of Real Cases\n",
        "confirmed_df[\"logCase\"] = np.log(confirmed_df.Case).astype(float)\n",
        "\n",
        "print(confirmed_df)"
      ],
      "execution_count": 29,
      "outputs": [
        {
          "output_type": "stream",
          "text": [
            "         Date  Announced  Case  ndays   logCase\n",
            "0  2021-03-21          1     1      0  0.000000\n",
            "1  2021-03-22          0     1      1  0.000000\n",
            "2  2021-03-23          2     3      2  1.098612\n",
            "3  2021-03-24          0     3      3  1.098612\n",
            "4  2021-03-25          2     5      4  1.609438\n",
            "5  2021-03-26          3     8      5  2.079442\n",
            "6  2021-03-27          0     8      6  2.079442\n",
            "7  2021-03-28          0     8      7  2.079442\n",
            "8  2021-03-29          2    10      8  2.302585\n",
            "9  2021-03-30          4    14      9  2.639057\n",
            "10 2021-03-31          1    15     10  2.708050\n"
          ],
          "name": "stdout"
        }
      ]
    },
    {
      "cell_type": "markdown",
      "metadata": {
        "id": "xFdC0ZN9wg4a",
        "colab_type": "text"
      },
      "source": [
        "Natural log makes it better in terms of visualization and long term comparison, make the data look more linear. That is why I will be plotting both real and natural log line graphs."
      ]
    },
    {
      "cell_type": "markdown",
      "metadata": {
        "id": "HGaFBbLTw_S5",
        "colab_type": "text"
      },
      "source": [
        "# Model of choice"
      ]
    },
    {
      "cell_type": "markdown",
      "metadata": {
        "id": "GFx-62fSxFtE",
        "colab_type": "text"
      },
      "source": [
        "True exponential does not exist, but exponential growth is assumed until the inflection point has arrived. Linear Regression is applied."
      ]
    },
    {
      "cell_type": "markdown",
      "metadata": {
        "id": "SAigzuEhxGAl",
        "colab_type": "text"
      },
      "source": [
        "## Logistic Regression\n",
        "### Ordinary Least Squared Regression"
      ]
    },
    {
      "cell_type": "code",
      "metadata": {
        "id": "AuTgGKD8yFr2",
        "colab_type": "code",
        "outputId": "02ac564a-3131-4ae7-a56a-0ae96a53454c",
        "colab": {
          "base_uri": "https://localhost:8080/",
          "height": 478
        }
      },
      "source": [
        "X = confirmed_df.ndays\n",
        "X = sm.add_constant(X)\n",
        "y = confirmed_df.logCase\n",
        "model = sm.OLS(y, X)\n",
        "result = model.fit()\n",
        "result.summary()"
      ],
      "execution_count": 30,
      "outputs": [
        {
          "output_type": "stream",
          "text": [
            "/usr/local/lib/python3.6/dist-packages/scipy/stats/stats.py:1535: UserWarning: kurtosistest only valid for n>=20 ... continuing anyway, n=11\n",
            "  \"anyway, n=%i\" % int(n))\n"
          ],
          "name": "stderr"
        },
        {
          "output_type": "execute_result",
          "data": {
            "text/html": [
              "<table class=\"simpletable\">\n",
              "<caption>OLS Regression Results</caption>\n",
              "<tr>\n",
              "  <th>Dep. Variable:</th>         <td>logCase</td>     <th>  R-squared:         </th> <td>   0.906</td>\n",
              "</tr>\n",
              "<tr>\n",
              "  <th>Model:</th>                   <td>OLS</td>       <th>  Adj. R-squared:    </th> <td>   0.896</td>\n",
              "</tr>\n",
              "<tr>\n",
              "  <th>Method:</th>             <td>Least Squares</td>  <th>  F-statistic:       </th> <td>   87.00</td>\n",
              "</tr>\n",
              "<tr>\n",
              "  <th>Date:</th>             <td>Tue, 31 Mar 2020</td> <th>  Prob (F-statistic):</th> <td>6.37e-06</td>\n",
              "</tr>\n",
              "<tr>\n",
              "  <th>Time:</th>                 <td>15:01:58</td>     <th>  Log-Likelihood:    </th> <td> -1.5538</td>\n",
              "</tr>\n",
              "<tr>\n",
              "  <th>No. Observations:</th>      <td>    11</td>      <th>  AIC:               </th> <td>   7.108</td>\n",
              "</tr>\n",
              "<tr>\n",
              "  <th>Df Residuals:</th>          <td>     9</td>      <th>  BIC:               </th> <td>   7.903</td>\n",
              "</tr>\n",
              "<tr>\n",
              "  <th>Df Model:</th>              <td>     1</td>      <th>                     </th>     <td> </td>   \n",
              "</tr>\n",
              "<tr>\n",
              "  <th>Covariance Type:</th>      <td>nonrobust</td>    <th>                     </th>     <td> </td>   \n",
              "</tr>\n",
              "</table>\n",
              "<table class=\"simpletable\">\n",
              "<tr>\n",
              "    <td></td>       <th>coef</th>     <th>std err</th>      <th>t</th>      <th>P>|t|</th>  <th>[0.025</th>    <th>0.975]</th>  \n",
              "</tr>\n",
              "<tr>\n",
              "  <th>const</th> <td>    0.2386</td> <td>    0.174</td> <td>    1.373</td> <td> 0.203</td> <td>   -0.155</td> <td>    0.632</td>\n",
              "</tr>\n",
              "<tr>\n",
              "  <th>ndays</th> <td>    0.2740</td> <td>    0.029</td> <td>    9.328</td> <td> 0.000</td> <td>    0.208</td> <td>    0.340</td>\n",
              "</tr>\n",
              "</table>\n",
              "<table class=\"simpletable\">\n",
              "<tr>\n",
              "  <th>Omnibus:</th>       <td> 0.096</td> <th>  Durbin-Watson:     </th> <td>   1.315</td>\n",
              "</tr>\n",
              "<tr>\n",
              "  <th>Prob(Omnibus):</th> <td> 0.953</td> <th>  Jarque-Bera (JB):  </th> <td>   0.320</td>\n",
              "</tr>\n",
              "<tr>\n",
              "  <th>Skew:</th>          <td>-0.032</td> <th>  Prob(JB):          </th> <td>   0.852</td>\n",
              "</tr>\n",
              "<tr>\n",
              "  <th>Kurtosis:</th>      <td> 2.167</td> <th>  Cond. No.          </th> <td>    11.3</td>\n",
              "</tr>\n",
              "</table><br/><br/>Warnings:<br/>[1] Standard Errors assume that the covariance matrix of the errors is correctly specified."
            ],
            "text/plain": [
              "<class 'statsmodels.iolib.summary.Summary'>\n",
              "\"\"\"\n",
              "                            OLS Regression Results                            \n",
              "==============================================================================\n",
              "Dep. Variable:                logCase   R-squared:                       0.906\n",
              "Model:                            OLS   Adj. R-squared:                  0.896\n",
              "Method:                 Least Squares   F-statistic:                     87.00\n",
              "Date:                Tue, 31 Mar 2020   Prob (F-statistic):           6.37e-06\n",
              "Time:                        15:01:58   Log-Likelihood:                -1.5538\n",
              "No. Observations:                  11   AIC:                             7.108\n",
              "Df Residuals:                       9   BIC:                             7.903\n",
              "Df Model:                           1                                         \n",
              "Covariance Type:            nonrobust                                         \n",
              "==============================================================================\n",
              "                 coef    std err          t      P>|t|      [0.025      0.975]\n",
              "------------------------------------------------------------------------------\n",
              "const          0.2386      0.174      1.373      0.203      -0.155       0.632\n",
              "ndays          0.2740      0.029      9.328      0.000       0.208       0.340\n",
              "==============================================================================\n",
              "Omnibus:                        0.096   Durbin-Watson:                   1.315\n",
              "Prob(Omnibus):                  0.953   Jarque-Bera (JB):                0.320\n",
              "Skew:                          -0.032   Prob(JB):                        0.852\n",
              "Kurtosis:                       2.167   Cond. No.                         11.3\n",
              "==============================================================================\n",
              "\n",
              "Warnings:\n",
              "[1] Standard Errors assume that the covariance matrix of the errors is correctly specified.\n",
              "\"\"\""
            ]
          },
          "metadata": {
            "tags": []
          },
          "execution_count": 30
        }
      ]
    },
    {
      "cell_type": "markdown",
      "metadata": {
        "id": "n12sI9dEya7A",
        "colab_type": "text"
      },
      "source": [
        "Exponential Formaula<br> y = ab<sup>x</sup> <br>\n",
        "a = Initial Value<br>\n",
        "b = Rate of Change<br>\n",
        "x = The feature ( Here it is time )<br>\n",
        "\n",
        "b = (1+r) = Growth Rate <- Before Inflection <br>\n",
        "b = (1-r) = Decay Rate <- After Inflection <br>\n",
        "\n",
        "In the summary, \"constant stands\" for initial \"a\".<br>\n",
        "\"ndays\" is the coefficient of \"time\", which means the value increasing y as x is increased by 1. In our case, the number of cases to increase as the next day comes."
      ]
    },
    {
      "cell_type": "code",
      "metadata": {
        "id": "Rk_huG2pzvjT",
        "colab_type": "code",
        "colab": {}
      },
      "source": [
        "def linear_predictions(t):\n",
        "    return np.exp(result.params[\"const\"]) * np.exp(result.params[\"ndays\"]) ** t"
      ],
      "execution_count": 0,
      "outputs": []
    },
    {
      "cell_type": "markdown",
      "metadata": {
        "id": "KqJKNU38zyrK",
        "colab_type": "text"
      },
      "source": [
        "As we fitted our model with natural log values, we should change them back to real numbers to predict."
      ]
    },
    {
      "cell_type": "markdown",
      "metadata": {
        "id": "jClR8K740EVc",
        "colab_type": "text"
      },
      "source": [
        "# Next Week Prediction"
      ]
    },
    {
      "cell_type": "code",
      "metadata": {
        "id": "rrqFbmyI0Cw-",
        "colab_type": "code",
        "outputId": "868bb086-c874-4b99-e1c0-97e02b7c38f8",
        "colab": {
          "base_uri": "https://localhost:8080/",
          "height": 272
        }
      },
      "source": [
        "ndays = len(confirmed_df)+3\n",
        "nextweek_df = pd.DataFrame(columns=[\"ndays\",\"Date\"])\n",
        "nextweek_df[\"ndays\"] = np.arange(ndays)\n",
        "nextweek_df.loc[0,\"Date\"]=confirmed_df.loc[0,\"Date\"]\n",
        "for i in range(1,len(nextweek_df)):\n",
        "    nextweek_df.loc[i,\"Date\"] = nextweek_df.loc[i-1,\"Date\"] + pd.Timedelta(days=1)\n",
        "    i=i+1\n",
        "nextweek_df[\"Predictions\"] = nextweek_df.ndays.apply(linear_predictions)\n",
        "\n",
        "# Natural Log of Predicted Cases\n",
        "nextweek_df[\"logPredictions\"] = np.log(nextweek_df.Predictions).astype(float)\n",
        "\n",
        "print(nextweek_df)"
      ],
      "execution_count": 32,
      "outputs": [
        {
          "output_type": "stream",
          "text": [
            "    ndays                 Date  Predictions  logPredictions\n",
            "0       0  2021-03-21 00:00:00     1.269476        0.238604\n",
            "1       1  2021-03-22 00:00:00     1.669635        0.512605\n",
            "2       2  2021-03-23 00:00:00     2.195930        0.786606\n",
            "3       3  2021-03-24 00:00:00     2.888121        1.060606\n",
            "4       4  2021-03-25 00:00:00     3.798502        1.334607\n",
            "5       5  2021-03-26 00:00:00     4.995848        1.608607\n",
            "6       6  2021-03-27 00:00:00     6.570617        1.882608\n",
            "7       7  2021-03-28 00:00:00     8.641778        2.156608\n",
            "8       8  2021-03-29 00:00:00    11.365801        2.430609\n",
            "9       9  2021-03-30 00:00:00    14.948478        2.704609\n",
            "10     10  2021-03-31 00:00:00    19.660470        2.978610\n",
            "11     11  2021-04-01 00:00:00    25.857755        3.252611\n",
            "12     12  2021-04-02 00:00:00    34.008521        3.526611\n",
            "13     13  2021-04-03 00:00:00    44.728536        3.800612\n"
          ],
          "name": "stdout"
        }
      ]
    },
    {
      "cell_type": "markdown",
      "metadata": {
        "id": "POlLAmet0NBp",
        "colab_type": "text"
      },
      "source": [
        "Although I stated next week, here I added only \"3\". Since our data and history is very short right now, it is not sufficient to predict far without sacraficing. This currently here is a proof of concept. We shall increase the data and after that, we should pursure further analysis."
      ]
    },
    {
      "cell_type": "markdown",
      "metadata": {
        "id": "cvvX1sd70pep",
        "colab_type": "text"
      },
      "source": [
        "# Real Number Plot"
      ]
    },
    {
      "cell_type": "code",
      "metadata": {
        "id": "1HdSZXF3lQvM",
        "colab_type": "code",
        "colab": {}
      },
      "source": [
        "a = str(confirmed_df[\"Date\"][confirmed_df.index[-1]])+\"_real.svg\"\n",
        "b = str(confirmed_df[\"Date\"][confirmed_df.index[-1]])+\"_log.svg\""
      ],
      "execution_count": 0,
      "outputs": []
    },
    {
      "cell_type": "code",
      "metadata": {
        "id": "672JOT-V0rcy",
        "colab_type": "code",
        "outputId": "9c6a43fc-cbac-49ae-d86e-ff89cd4e85af",
        "colab": {
          "base_uri": "https://localhost:8080/",
          "height": 356
        }
      },
      "source": [
        "confirmed_x = pd.date_range(start=confirmed_df[\"Date\"][confirmed_df.index[0]], end=confirmed_df[\"Date\"][confirmed_df.index[-1]])\n",
        "confirmed_y = confirmed_df[\"Case\"].tolist()\n",
        "confirmed_plot = pd.Series(data=confirmed_y, index=confirmed_x)\n",
        "\n",
        "nextweek_x = pd.date_range(start=nextweek_df[\"Date\"][nextweek_df.index[0]], end=nextweek_df[\"Date\"][nextweek_df.index[-1]])\n",
        "nextweek_y = nextweek_df[\"Predictions\"].tolist()\n",
        "nextweek_plot = pd.Series(data=nextweek_y, index=nextweek_x)\n",
        "\n",
        "fig, ax = plt.subplots()\n",
        "ax.plot(confirmed_plot, label=\"Confirmed\", color=\"red\")\n",
        "ax.plot(nextweek_plot, label=\"Predicted\", color =\"blue\")\n",
        "legend = ax.legend(loc=\"upper left\", fontsize=\"large\")\n",
        "plt.xlabel(\"Date\")\n",
        "plt.ylabel(\"Infections\")\n",
        "plt.suptitle(\"Predicted number of cases vs comfirmed number of cases\")\n",
        "plt.title(\"As of \"+str(confirmed_df[\"Date\"][confirmed_df.index[-1]]))\n",
        "plt.xticks(rotation=90)\n",
        "plt.savefig(a)\n",
        "plt.show()\n",
        "files.download(a)"
      ],
      "execution_count": 34,
      "outputs": [
        {
          "output_type": "display_data",
          "data": {
            "image/png": "[encoded data removed]",
            "text/plain": [
              "<Figure size 432x288 with 1 Axes>"
            ]
          },
          "metadata": {
            "tags": []
          }
        }
      ]
    },
    {
      "cell_type": "markdown",
      "metadata": {
        "id": "6GqiZScX0tbM",
        "colab_type": "text"
      },
      "source": [
        "# Natural Log Plot"
      ]
    },
    {
      "cell_type": "code",
      "metadata": {
        "id": "sfR6seGg0u3I",
        "colab_type": "code",
        "colab": {
          "base_uri": "https://localhost:8080/",
          "height": 356
        },
        "outputId": "370393cc-4f32-4f89-9fe9-564a043c4f55"
      },
      "source": [
        "confirmed_logy = confirmed_df[\"logCase\"].tolist()\n",
        "confirmed_logplot = pd.Series(data=confirmed_logy, index=confirmed_x)\n",
        "\n",
        "nextweek_logy = nextweek_df[\"logPredictions\"].tolist()\n",
        "nextweek_logplot = pd.Series(data=nextweek_logy, index=nextweek_x)\n",
        "\n",
        "fig, ax = plt.subplots()\n",
        "ax.plot(confirmed_logplot, label=\"Confirmed\", color=\"red\")\n",
        "ax.plot(nextweek_logplot, label=\"Predicted\", color =\"blue\")\n",
        "legend = ax.legend(loc=\"upper left\", fontsize=\"large\")\n",
        "plt.xlabel(\"Date\")\n",
        "plt.ylabel(\"Infections\")\n",
        "plt.suptitle(\"Predicted number of cases vs confirmed number of cases (Natural Log)\")\n",
        "plt.title(\"As of \"+str(confirmed_df[\"Date\"][confirmed_df.index[-1]]))\n",
        "plt.xticks(rotation=90)\n",
        "plt.savefig(b)\n",
        "plt.show()\n",
        "files.download(b)"
      ],
      "execution_count": 35,
      "outputs": [
        {
          "output_type": "display_data",
          "data": {
            "image/png": "[encoded data removed]",
            "text/plain": [
              "<Figure size 432x288 with 1 Axes>"
            ]
          },
          "metadata": {
            "tags": []
          }
        }
      ]
    }
  ]
}